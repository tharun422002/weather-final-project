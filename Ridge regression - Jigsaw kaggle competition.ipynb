{
 "cells": [
  {
   "cell_type": "code",
   "execution_count": 1,
   "id": "ff7bc206",
   "metadata": {
    "_cell_guid": "b1076dfc-b9ad-4769-8c92-a6c4dae69d19",
    "_uuid": "8f2839f25d086af736a60e9eeb907d3b93b6e0e5",
    "execution": {
     "iopub.execute_input": "2022-01-30T07:05:44.699040Z",
     "iopub.status.busy": "2022-01-30T07:05:44.697749Z",
     "iopub.status.idle": "2022-01-30T07:05:44.719432Z",
     "shell.execute_reply": "2022-01-30T07:05:44.718886Z",
     "shell.execute_reply.started": "2022-01-30T07:01:34.888904Z"
    },
    "papermill": {
     "duration": 0.043791,
     "end_time": "2022-01-30T07:05:44.719545",
     "exception": false,
     "start_time": "2022-01-30T07:05:44.675754",
     "status": "completed"
    },
    "tags": []
   },
   "outputs": [
    {
     "name": "stdout",
     "output_type": "stream",
     "text": [
      "/kaggle/input/jigsaw-toxic-comment-classification-challenge/sample_submission.csv\n",
      "/kaggle/input/jigsaw-toxic-comment-classification-challenge/test_labels.csv\n",
      "/kaggle/input/jigsaw-toxic-comment-classification-challenge/train.csv\n",
      "/kaggle/input/jigsaw-toxic-comment-classification-challenge/test.csv\n",
      "/kaggle/input/jigsaw-toxic-severity-rating/sample_submission.csv\n",
      "/kaggle/input/jigsaw-toxic-severity-rating/validation_data.csv\n",
      "/kaggle/input/jigsaw-toxic-severity-rating/comments_to_score.csv\n"
     ]
    }
   ],
   "source": [
    "# This Python 3 environment comes with many helpful analytics libraries installed\n",
    "# It is defined by the kaggle/python Docker image: https://github.com/kaggle/docker-python\n",
    "# For example, here's several helpful packages to load\n",
    "\n",
    "import numpy as np # linear algebra\n",
    "import pandas as pd # data processing, CSV file I/O (e.g. pd.read_csv)\n",
    "\n",
    "# Input data files are available in the read-only \"../input/\" directory\n",
    "# For example, running this (by clicking run or pressing Shift+Enter) will list all files under the input directory\n",
    "\n",
    "import os\n",
    "for dirname, _, filenames in os.walk('/kaggle/input'):\n",
    "    for filename in filenames:\n",
    "        print(os.path.join(dirname, filename))\n",
    "\n",
    "# You can write up to 20GB to the current directory (/kaggle/working/) that gets preserved as output when you create a version using \"Save & Run All\" \n",
    "# You can also write temporary files to /kaggle/temp/, but they won't be saved outside of the current session"
   ]
  },
  {
   "cell_type": "markdown",
   "id": "0de4dcc1",
   "metadata": {
    "papermill": {
     "duration": 0.0181,
     "end_time": "2022-01-30T07:05:44.756571",
     "exception": false,
     "start_time": "2022-01-30T07:05:44.738471",
     "status": "completed"
    },
    "tags": []
   },
   "source": [
    "**Libraries Required**"
   ]
  },
  {
   "cell_type": "code",
   "execution_count": 2,
   "id": "1f2fba27",
   "metadata": {
    "execution": {
     "iopub.execute_input": "2022-01-30T07:05:44.798285Z",
     "iopub.status.busy": "2022-01-30T07:05:44.797694Z",
     "iopub.status.idle": "2022-01-30T07:05:49.509579Z",
     "shell.execute_reply": "2022-01-30T07:05:49.509059Z",
     "shell.execute_reply.started": "2022-01-30T07:01:34.932318Z"
    },
    "papermill": {
     "duration": 4.734804,
     "end_time": "2022-01-30T07:05:49.509708",
     "exception": false,
     "start_time": "2022-01-30T07:05:44.774904",
     "status": "completed"
    },
    "tags": []
   },
   "outputs": [],
   "source": [
    "import os\n",
    "import numpy as np\n",
    "import pandas as pd\n",
    "from sklearn.linear_model import Ridge # Ridge regression model\n",
    "import tensorflow as tf\n",
    "from wordcloud import STOPWORDS\n",
    "from sklearn.model_selection import train_test_split,KFold\n",
    "import warnings\n",
    "warnings.filterwarnings(\"ignore\")"
   ]
  },
  {
   "cell_type": "code",
   "execution_count": null,
   "id": "b5a87608",
   "metadata": {
    "execution": {
     "iopub.execute_input": "2022-01-28T07:18:06.291628Z",
     "iopub.status.busy": "2022-01-28T07:18:06.291379Z",
     "iopub.status.idle": "2022-01-28T07:18:06.303425Z",
     "shell.execute_reply": "2022-01-28T07:18:06.302287Z",
     "shell.execute_reply.started": "2022-01-28T07:18:06.291598Z"
    },
    "papermill": {
     "duration": 0.027645,
     "end_time": "2022-01-30T07:05:49.565359",
     "exception": false,
     "start_time": "2022-01-30T07:05:49.537714",
     "status": "completed"
    },
    "tags": []
   },
   "outputs": [],
   "source": []
  },
  {
   "cell_type": "markdown",
   "id": "a9000936",
   "metadata": {
    "papermill": {
     "duration": 0.025145,
     "end_time": "2022-01-30T07:05:49.618510",
     "exception": false,
     "start_time": "2022-01-30T07:05:49.593365",
     "status": "completed"
    },
    "tags": []
   },
   "source": [
    "**Datasources**"
   ]
  },
  {
   "cell_type": "code",
   "execution_count": 3,
   "id": "074d61c5",
   "metadata": {
    "execution": {
     "iopub.execute_input": "2022-01-30T07:05:49.659362Z",
     "iopub.status.busy": "2022-01-30T07:05:49.658889Z",
     "iopub.status.idle": "2022-01-30T07:05:52.562822Z",
     "shell.execute_reply": "2022-01-30T07:05:52.562405Z",
     "shell.execute_reply.started": "2022-01-30T07:01:41.736783Z"
    },
    "papermill": {
     "duration": 2.924959,
     "end_time": "2022-01-30T07:05:52.562932",
     "exception": false,
     "start_time": "2022-01-30T07:05:49.637973",
     "status": "completed"
    },
    "tags": []
   },
   "outputs": [],
   "source": [
    "prev_train_df = pd.read_csv('../input/jigsaw-toxic-comment-classification-challenge/train.csv')\n",
    "test = pd.read_csv('../input/jigsaw-toxic-severity-rating/validation_data.csv')\n",
    "sample = pd.read_csv('../input/jigsaw-toxic-severity-rating/sample_submission.csv')\n",
    "target = pd.read_csv('../input/jigsaw-toxic-severity-rating/comments_to_score.csv')"
   ]
  },
  {
   "cell_type": "code",
   "execution_count": 4,
   "id": "9db12fe7",
   "metadata": {
    "execution": {
     "iopub.execute_input": "2022-01-30T07:05:52.603438Z",
     "iopub.status.busy": "2022-01-30T07:05:52.602860Z",
     "iopub.status.idle": "2022-01-30T07:05:52.641795Z",
     "shell.execute_reply": "2022-01-30T07:05:52.641275Z",
     "shell.execute_reply.started": "2022-01-30T07:01:44.830807Z"
    },
    "papermill": {
     "duration": 0.060572,
     "end_time": "2022-01-30T07:05:52.641905",
     "exception": false,
     "start_time": "2022-01-30T07:05:52.581333",
     "status": "completed"
    },
    "tags": []
   },
   "outputs": [],
   "source": [
    "test=pd.read_csv('../input/jigsaw-toxic-severity-rating/comments_to_score.csv')"
   ]
  },
  {
   "cell_type": "markdown",
   "id": "4a2821bc",
   "metadata": {
    "papermill": {
     "duration": 0.027923,
     "end_time": "2022-01-30T07:05:52.696865",
     "exception": false,
     "start_time": "2022-01-30T07:05:52.668942",
     "status": "completed"
    },
    "tags": []
   },
   "source": [
    "**Custom weights to existing columns**"
   ]
  },
  {
   "cell_type": "code",
   "execution_count": 5,
   "id": "28755e7f",
   "metadata": {
    "execution": {
     "iopub.execute_input": "2022-01-30T07:05:52.763460Z",
     "iopub.status.busy": "2022-01-30T07:05:52.761963Z",
     "iopub.status.idle": "2022-01-30T07:05:52.787893Z",
     "shell.execute_reply": "2022-01-30T07:05:52.788378Z",
     "shell.execute_reply.started": "2022-01-30T07:01:44.902225Z"
    },
    "papermill": {
     "duration": 0.063191,
     "end_time": "2022-01-30T07:05:52.788548",
     "exception": false,
     "start_time": "2022-01-30T07:05:52.725357",
     "status": "completed"
    },
    "tags": []
   },
   "outputs": [],
   "source": [
    "prev_train_df[\"severe_toxic\"] = prev_train_df[\"severe_toxic\"] * 4.0\n",
    "prev_train_df[\"threat\"] = prev_train_df[\"threat\"] *4.5\n",
    "prev_train_df[\"identity_hate\"] = prev_train_df[\"identity_hate\"] * 3.5\n",
    "\n",
    "prev_train_df[\"total_toxic\"] = prev_train_df[[\"toxic\", \"severe_toxic\", \"obscene\", \"threat\", \"insult\",\n",
    "                                              \"identity_hate\"]].sum(axis = 1).astype(np.int64)"
   ]
  },
  {
   "cell_type": "code",
   "execution_count": 6,
   "id": "b6e6df4d",
   "metadata": {
    "execution": {
     "iopub.execute_input": "2022-01-30T07:05:52.847380Z",
     "iopub.status.busy": "2022-01-30T07:05:52.846790Z",
     "iopub.status.idle": "2022-01-30T07:05:52.855479Z",
     "shell.execute_reply": "2022-01-30T07:05:52.856024Z",
     "shell.execute_reply.started": "2022-01-30T07:02:01.143825Z"
    },
    "papermill": {
     "duration": 0.039373,
     "end_time": "2022-01-30T07:05:52.856178",
     "exception": false,
     "start_time": "2022-01-30T07:05:52.816805",
     "status": "completed"
    },
    "tags": []
   },
   "outputs": [],
   "source": [
    "train_df = prev_train_df[[\"comment_text\", \"total_toxic\"]]"
   ]
  },
  {
   "cell_type": "markdown",
   "id": "c2ae89fb",
   "metadata": {
    "papermill": {
     "duration": 0.027895,
     "end_time": "2022-01-30T07:05:52.912022",
     "exception": false,
     "start_time": "2022-01-30T07:05:52.884127",
     "status": "completed"
    },
    "tags": []
   },
   "source": [
    "**Data cleaning--1**"
   ]
  },
  {
   "cell_type": "code",
   "execution_count": 7,
   "id": "4fc12d38",
   "metadata": {
    "execution": {
     "iopub.execute_input": "2022-01-30T07:05:52.970589Z",
     "iopub.status.busy": "2022-01-30T07:05:52.970008Z",
     "iopub.status.idle": "2022-01-30T07:05:54.247752Z",
     "shell.execute_reply": "2022-01-30T07:05:54.247369Z",
     "shell.execute_reply.started": "2022-01-30T07:02:02.081453Z"
    },
    "papermill": {
     "duration": 1.307755,
     "end_time": "2022-01-30T07:05:54.247882",
     "exception": false,
     "start_time": "2022-01-30T07:05:52.940127",
     "status": "completed"
    },
    "tags": []
   },
   "outputs": [
    {
     "data": {
      "text/html": [
       "<div>\n",
       "<style scoped>\n",
       "    .dataframe tbody tr th:only-of-type {\n",
       "        vertical-align: middle;\n",
       "    }\n",
       "\n",
       "    .dataframe tbody tr th {\n",
       "        vertical-align: top;\n",
       "    }\n",
       "\n",
       "    .dataframe thead th {\n",
       "        text-align: right;\n",
       "    }\n",
       "</style>\n",
       "<table border=\"1\" class=\"dataframe\">\n",
       "  <thead>\n",
       "    <tr style=\"text-align: right;\">\n",
       "      <th></th>\n",
       "      <th>comment_text</th>\n",
       "      <th>total_toxic</th>\n",
       "      <th>Comment</th>\n",
       "    </tr>\n",
       "  </thead>\n",
       "  <tbody>\n",
       "    <tr>\n",
       "      <th>0</th>\n",
       "      <td>Explanation\\nWhy the edits made under my usern...</td>\n",
       "      <td>0</td>\n",
       "      <td>Explanation\\nWhy the edits made under my usern...</td>\n",
       "    </tr>\n",
       "    <tr>\n",
       "      <th>1</th>\n",
       "      <td>D'aww! He matches this background colour I'm s...</td>\n",
       "      <td>0</td>\n",
       "      <td>Daww He matches this background colour Im seem...</td>\n",
       "    </tr>\n",
       "    <tr>\n",
       "      <th>2</th>\n",
       "      <td>Hey man, I'm really not trying to edit war. It...</td>\n",
       "      <td>0</td>\n",
       "      <td>Hey man Im really not trying to edit war Its j...</td>\n",
       "    </tr>\n",
       "    <tr>\n",
       "      <th>3</th>\n",
       "      <td>\"\\nMore\\nI can't make any real suggestions on ...</td>\n",
       "      <td>0</td>\n",
       "      <td>\\nMore\\nI cant make any real suggestions on im...</td>\n",
       "    </tr>\n",
       "    <tr>\n",
       "      <th>4</th>\n",
       "      <td>You, sir, are my hero. Any chance you remember...</td>\n",
       "      <td>0</td>\n",
       "      <td>You sir are my hero Any chance you remember wh...</td>\n",
       "    </tr>\n",
       "  </tbody>\n",
       "</table>\n",
       "</div>"
      ],
      "text/plain": [
       "                                        comment_text  total_toxic  \\\n",
       "0  Explanation\\nWhy the edits made under my usern...            0   \n",
       "1  D'aww! He matches this background colour I'm s...            0   \n",
       "2  Hey man, I'm really not trying to edit war. It...            0   \n",
       "3  \"\\nMore\\nI can't make any real suggestions on ...            0   \n",
       "4  You, sir, are my hero. Any chance you remember...            0   \n",
       "\n",
       "                                             Comment  \n",
       "0  Explanation\\nWhy the edits made under my usern...  \n",
       "1  Daww He matches this background colour Im seem...  \n",
       "2  Hey man Im really not trying to edit war Its j...  \n",
       "3  \\nMore\\nI cant make any real suggestions on im...  \n",
       "4  You sir are my hero Any chance you remember wh...  "
      ]
     },
     "execution_count": 7,
     "metadata": {},
     "output_type": "execute_result"
    }
   ],
   "source": [
    "train_df[\"Comment\"] = train_df['comment_text'].str.replace('[^\\w\\s\\n]','')\n",
    "train_df.head()"
   ]
  },
  {
   "cell_type": "code",
   "execution_count": 8,
   "id": "331ddb35",
   "metadata": {
    "execution": {
     "iopub.execute_input": "2022-01-30T07:05:54.290493Z",
     "iopub.status.busy": "2022-01-30T07:05:54.290062Z",
     "iopub.status.idle": "2022-01-30T07:05:54.318416Z",
     "shell.execute_reply": "2022-01-30T07:05:54.317987Z",
     "shell.execute_reply.started": "2022-01-30T07:02:06.276839Z"
    },
    "papermill": {
     "duration": 0.051562,
     "end_time": "2022-01-30T07:05:54.318534",
     "exception": false,
     "start_time": "2022-01-30T07:05:54.266972",
     "status": "completed"
    },
    "tags": []
   },
   "outputs": [
    {
     "data": {
      "text/html": [
       "<div>\n",
       "<style scoped>\n",
       "    .dataframe tbody tr th:only-of-type {\n",
       "        vertical-align: middle;\n",
       "    }\n",
       "\n",
       "    .dataframe tbody tr th {\n",
       "        vertical-align: top;\n",
       "    }\n",
       "\n",
       "    .dataframe thead th {\n",
       "        text-align: right;\n",
       "    }\n",
       "</style>\n",
       "<table border=\"1\" class=\"dataframe\">\n",
       "  <thead>\n",
       "    <tr style=\"text-align: right;\">\n",
       "      <th></th>\n",
       "      <th>total_toxic</th>\n",
       "      <th>Comment</th>\n",
       "    </tr>\n",
       "  </thead>\n",
       "  <tbody>\n",
       "    <tr>\n",
       "      <th>0</th>\n",
       "      <td>0</td>\n",
       "      <td>Explanation\\nWhy the edits made under my usern...</td>\n",
       "    </tr>\n",
       "    <tr>\n",
       "      <th>1</th>\n",
       "      <td>0</td>\n",
       "      <td>Daww He matches this background colour Im seem...</td>\n",
       "    </tr>\n",
       "    <tr>\n",
       "      <th>2</th>\n",
       "      <td>0</td>\n",
       "      <td>Hey man Im really not trying to edit war Its j...</td>\n",
       "    </tr>\n",
       "    <tr>\n",
       "      <th>3</th>\n",
       "      <td>0</td>\n",
       "      <td>\\nMore\\nI cant make any real suggestions on im...</td>\n",
       "    </tr>\n",
       "    <tr>\n",
       "      <th>4</th>\n",
       "      <td>0</td>\n",
       "      <td>You sir are my hero Any chance you remember wh...</td>\n",
       "    </tr>\n",
       "    <tr>\n",
       "      <th>...</th>\n",
       "      <td>...</td>\n",
       "      <td>...</td>\n",
       "    </tr>\n",
       "    <tr>\n",
       "      <th>159566</th>\n",
       "      <td>0</td>\n",
       "      <td>And for the second time of asking when your vi...</td>\n",
       "    </tr>\n",
       "    <tr>\n",
       "      <th>159567</th>\n",
       "      <td>0</td>\n",
       "      <td>You should be ashamed of yourself \\n\\nThat is ...</td>\n",
       "    </tr>\n",
       "    <tr>\n",
       "      <th>159568</th>\n",
       "      <td>0</td>\n",
       "      <td>Spitzer \\n\\nUmm theres no actual article for p...</td>\n",
       "    </tr>\n",
       "    <tr>\n",
       "      <th>159569</th>\n",
       "      <td>0</td>\n",
       "      <td>And it looks like it was actually you who put ...</td>\n",
       "    </tr>\n",
       "    <tr>\n",
       "      <th>159570</th>\n",
       "      <td>0</td>\n",
       "      <td>\\nAnd  I really dont think you understand  I c...</td>\n",
       "    </tr>\n",
       "  </tbody>\n",
       "</table>\n",
       "<p>159571 rows × 2 columns</p>\n",
       "</div>"
      ],
      "text/plain": [
       "        total_toxic                                            Comment\n",
       "0                 0  Explanation\\nWhy the edits made under my usern...\n",
       "1                 0  Daww He matches this background colour Im seem...\n",
       "2                 0  Hey man Im really not trying to edit war Its j...\n",
       "3                 0  \\nMore\\nI cant make any real suggestions on im...\n",
       "4                 0  You sir are my hero Any chance you remember wh...\n",
       "...             ...                                                ...\n",
       "159566            0  And for the second time of asking when your vi...\n",
       "159567            0  You should be ashamed of yourself \\n\\nThat is ...\n",
       "159568            0  Spitzer \\n\\nUmm theres no actual article for p...\n",
       "159569            0  And it looks like it was actually you who put ...\n",
       "159570            0  \\nAnd  I really dont think you understand  I c...\n",
       "\n",
       "[159571 rows x 2 columns]"
      ]
     },
     "execution_count": 8,
     "metadata": {},
     "output_type": "execute_result"
    }
   ],
   "source": [
    "train_df.drop(['comment_text'],axis=1)"
   ]
  },
  {
   "cell_type": "code",
   "execution_count": 9,
   "id": "5d30d2d0",
   "metadata": {
    "execution": {
     "iopub.execute_input": "2022-01-30T07:05:54.365661Z",
     "iopub.status.busy": "2022-01-30T07:05:54.361527Z",
     "iopub.status.idle": "2022-01-30T07:05:54.367981Z",
     "shell.execute_reply": "2022-01-30T07:05:54.367555Z",
     "shell.execute_reply.started": "2022-01-30T07:02:17.043795Z"
    },
    "papermill": {
     "duration": 0.030395,
     "end_time": "2022-01-30T07:05:54.368100",
     "exception": false,
     "start_time": "2022-01-30T07:05:54.337705",
     "status": "completed"
    },
    "tags": []
   },
   "outputs": [],
   "source": [
    "text=train_df.loc[1:70001,['Comment']]\n",
    "target=train_df.loc[1:70000,['total_toxic']]"
   ]
  },
  {
   "cell_type": "code",
   "execution_count": 10,
   "id": "54e36090",
   "metadata": {
    "execution": {
     "iopub.execute_input": "2022-01-30T07:05:54.410540Z",
     "iopub.status.busy": "2022-01-30T07:05:54.409890Z",
     "iopub.status.idle": "2022-01-30T07:05:54.526955Z",
     "shell.execute_reply": "2022-01-30T07:05:54.527449Z",
     "shell.execute_reply.started": "2022-01-30T07:02:17.577539Z"
    },
    "papermill": {
     "duration": 0.140733,
     "end_time": "2022-01-30T07:05:54.527606",
     "exception": false,
     "start_time": "2022-01-30T07:05:54.386873",
     "status": "completed"
    },
    "tags": []
   },
   "outputs": [],
   "source": [
    "train_df['text'] = train_df['Comment'].apply(lambda x:x.lower())"
   ]
  },
  {
   "cell_type": "markdown",
   "id": "579dc8d5",
   "metadata": {
    "papermill": {
     "duration": 0.028373,
     "end_time": "2022-01-30T07:05:54.584924",
     "exception": false,
     "start_time": "2022-01-30T07:05:54.556551",
     "status": "completed"
    },
    "tags": []
   },
   "source": [
    "**Data cleaning --2**"
   ]
  },
  {
   "cell_type": "code",
   "execution_count": 11,
   "id": "5fdf30cb",
   "metadata": {
    "execution": {
     "iopub.execute_input": "2022-01-30T07:05:54.645099Z",
     "iopub.status.busy": "2022-01-30T07:05:54.644499Z",
     "iopub.status.idle": "2022-01-30T07:05:55.011183Z",
     "shell.execute_reply": "2022-01-30T07:05:55.011671Z",
     "shell.execute_reply.started": "2022-01-30T07:02:37.032526Z"
    },
    "papermill": {
     "duration": 0.398041,
     "end_time": "2022-01-30T07:05:55.011856",
     "exception": false,
     "start_time": "2022-01-30T07:05:54.613815",
     "status": "completed"
    },
    "tags": []
   },
   "outputs": [],
   "source": [
    "import nltk\n",
    "from nltk.corpus import stopwords\n",
    "stop_words = set(stopwords.words(\"english\"))"
   ]
  },
  {
   "cell_type": "code",
   "execution_count": 12,
   "id": "7d8ceabe",
   "metadata": {
    "execution": {
     "iopub.execute_input": "2022-01-30T07:05:55.073957Z",
     "iopub.status.busy": "2022-01-30T07:05:55.073361Z",
     "iopub.status.idle": "2022-01-30T07:05:56.807263Z",
     "shell.execute_reply": "2022-01-30T07:05:56.806597Z",
     "shell.execute_reply.started": "2022-01-30T07:02:37.782844Z"
    },
    "papermill": {
     "duration": 1.766793,
     "end_time": "2022-01-30T07:05:56.807387",
     "exception": false,
     "start_time": "2022-01-30T07:05:55.040594",
     "status": "completed"
    },
    "tags": []
   },
   "outputs": [],
   "source": [
    "#removing the stop words from the corpus\n",
    "train_df['filter1'] =train_df['text'].apply(lambda x:' '.join([word for word in x.split() if word not in (stop_words)]))"
   ]
  },
  {
   "cell_type": "code",
   "execution_count": 13,
   "id": "234eeade",
   "metadata": {
    "execution": {
     "iopub.execute_input": "2022-01-30T07:05:56.872512Z",
     "iopub.status.busy": "2022-01-30T07:05:56.871748Z",
     "iopub.status.idle": "2022-01-30T07:05:56.875335Z",
     "shell.execute_reply": "2022-01-30T07:05:56.874968Z",
     "shell.execute_reply.started": "2022-01-30T07:02:42.557769Z"
    },
    "papermill": {
     "duration": 0.037829,
     "end_time": "2022-01-30T07:05:56.875433",
     "exception": false,
     "start_time": "2022-01-30T07:05:56.837604",
     "status": "completed"
    },
    "tags": []
   },
   "outputs": [
    {
     "data": {
      "text/plain": [
       "0         explanation edits made username hardcore metal...\n",
       "1         daww matches background colour im seemingly st...\n",
       "2         hey man im really trying edit war guy constant...\n",
       "3         cant make real suggestions improvement wondere...\n",
       "4                       sir hero chance remember page thats\n",
       "                                ...                        \n",
       "159566    second time asking view completely contradicts...\n",
       "159567       ashamed horrible thing put talk page 128611993\n",
       "159568    spitzer umm theres actual article prostitution...\n",
       "159569    looks like actually put speedy first version d...\n",
       "159570    really dont think understand came idea bad rig...\n",
       "Name: filter1, Length: 159571, dtype: object"
      ]
     },
     "execution_count": 13,
     "metadata": {},
     "output_type": "execute_result"
    }
   ],
   "source": [
    "train_df['filter1']"
   ]
  },
  {
   "cell_type": "markdown",
   "id": "f0879171",
   "metadata": {
    "papermill": {
     "duration": 0.018633,
     "end_time": "2022-01-30T07:05:56.913151",
     "exception": false,
     "start_time": "2022-01-30T07:05:56.894518",
     "status": "completed"
    },
    "tags": []
   },
   "source": [
    "**Vectorization**"
   ]
  },
  {
   "cell_type": "code",
   "execution_count": 14,
   "id": "162ef38c",
   "metadata": {
    "execution": {
     "iopub.execute_input": "2022-01-30T07:05:56.953449Z",
     "iopub.status.busy": "2022-01-30T07:05:56.953008Z",
     "iopub.status.idle": "2022-01-30T07:07:03.682813Z",
     "shell.execute_reply": "2022-01-30T07:07:03.683342Z",
     "shell.execute_reply.started": "2022-01-30T07:02:47.967792Z"
    },
    "papermill": {
     "duration": 66.751137,
     "end_time": "2022-01-30T07:07:03.683498",
     "exception": false,
     "start_time": "2022-01-30T07:05:56.932361",
     "status": "completed"
    },
    "tags": []
   },
   "outputs": [],
   "source": [
    "from sklearn.feature_extraction.text import TfidfVectorizer\n",
    "tfvec = TfidfVectorizer(analyzer = 'char_wb', ngram_range = (3,5))\n",
    "tfv = tfvec.fit_transform(train_df[\"filter1\"])"
   ]
  },
  {
   "cell_type": "markdown",
   "id": "51d39c8c",
   "metadata": {
    "papermill": {
     "duration": 0.029179,
     "end_time": "2022-01-30T07:07:03.742488",
     "exception": false,
     "start_time": "2022-01-30T07:07:03.713309",
     "status": "completed"
    },
    "tags": []
   },
   "source": [
    "**Data selection**"
   ]
  },
  {
   "cell_type": "code",
   "execution_count": 15,
   "id": "ba09bf06",
   "metadata": {
    "execution": {
     "iopub.execute_input": "2022-01-30T07:07:03.803738Z",
     "iopub.status.busy": "2022-01-30T07:07:03.803152Z",
     "iopub.status.idle": "2022-01-30T07:07:04.118065Z",
     "shell.execute_reply": "2022-01-30T07:07:04.118583Z",
     "shell.execute_reply.started": "2022-01-30T07:04:06.799404Z"
    },
    "papermill": {
     "duration": 0.347137,
     "end_time": "2022-01-30T07:07:04.118737",
     "exception": false,
     "start_time": "2022-01-30T07:07:03.771600",
     "status": "completed"
    },
    "tags": []
   },
   "outputs": [],
   "source": [
    "X=tfv[1:70001]\n",
    "Y=train_df.loc[1:70000,['total_toxic']]"
   ]
  },
  {
   "cell_type": "markdown",
   "id": "e4768181",
   "metadata": {
    "papermill": {
     "duration": 0.029008,
     "end_time": "2022-01-30T07:07:04.177189",
     "exception": false,
     "start_time": "2022-01-30T07:07:04.148181",
     "status": "completed"
    },
    "tags": []
   },
   "source": []
  },
  {
   "cell_type": "markdown",
   "id": "d5496132",
   "metadata": {
    "papermill": {
     "duration": 0.029103,
     "end_time": "2022-01-30T07:07:04.235971",
     "exception": false,
     "start_time": "2022-01-30T07:07:04.206868",
     "status": "completed"
    },
    "tags": []
   },
   "source": [
    "**Splitting data into train and test**"
   ]
  },
  {
   "cell_type": "code",
   "execution_count": 16,
   "id": "59d60cd8",
   "metadata": {
    "execution": {
     "iopub.execute_input": "2022-01-30T07:07:04.297505Z",
     "iopub.status.busy": "2022-01-30T07:07:04.296924Z",
     "iopub.status.idle": "2022-01-30T07:07:04.383962Z",
     "shell.execute_reply": "2022-01-30T07:07:04.383287Z",
     "shell.execute_reply.started": "2022-01-30T07:04:24.264263Z"
    },
    "papermill": {
     "duration": 0.118261,
     "end_time": "2022-01-30T07:07:04.384138",
     "exception": false,
     "start_time": "2022-01-30T07:07:04.265877",
     "status": "completed"
    },
    "tags": []
   },
   "outputs": [],
   "source": [
    "x_train,x_test,y_train,y_test = train_test_split(X,Y, test_size = 0.2,random_state = 0)"
   ]
  },
  {
   "cell_type": "markdown",
   "id": "21b8a289",
   "metadata": {
    "papermill": {
     "duration": 0.028222,
     "end_time": "2022-01-30T07:07:04.444639",
     "exception": false,
     "start_time": "2022-01-30T07:07:04.416417",
     "status": "completed"
    },
    "tags": []
   },
   "source": [
    "**Ridge modelling**"
   ]
  },
  {
   "cell_type": "code",
   "execution_count": 17,
   "id": "6987f875",
   "metadata": {
    "execution": {
     "iopub.execute_input": "2022-01-30T07:07:04.505976Z",
     "iopub.status.busy": "2022-01-30T07:07:04.505344Z",
     "iopub.status.idle": "2022-01-30T07:07:18.849837Z",
     "shell.execute_reply": "2022-01-30T07:07:18.850466Z",
     "shell.execute_reply.started": "2022-01-30T07:04:27.643283Z"
    },
    "papermill": {
     "duration": 14.377443,
     "end_time": "2022-01-30T07:07:18.850632",
     "exception": false,
     "start_time": "2022-01-30T07:07:04.473189",
     "status": "completed"
    },
    "tags": []
   },
   "outputs": [
    {
     "data": {
      "text/plain": [
       "Ridge(alpha=0.5)"
      ]
     },
     "execution_count": 17,
     "metadata": {},
     "output_type": "execute_result"
    }
   ],
   "source": [
    "rr_model = Ridge(alpha=0.5)\n",
    "rr_model.fit(x_train,y_train)"
   ]
  },
  {
   "cell_type": "code",
   "execution_count": 18,
   "id": "e9538dfe",
   "metadata": {
    "execution": {
     "iopub.execute_input": "2022-01-30T07:07:18.933505Z",
     "iopub.status.busy": "2022-01-30T07:07:18.932952Z",
     "iopub.status.idle": "2022-01-30T07:07:23.365916Z",
     "shell.execute_reply": "2022-01-30T07:07:23.366387Z",
     "shell.execute_reply.started": "2022-01-30T07:05:07.378523Z"
    },
    "papermill": {
     "duration": 4.480012,
     "end_time": "2022-01-30T07:07:23.366514",
     "exception": false,
     "start_time": "2022-01-30T07:07:18.886502",
     "status": "completed"
    },
    "tags": []
   },
   "outputs": [],
   "source": [
    "tfv_comments = tfvec.transform(test[\"text\"])\n",
    "pred = rr_model.predict(tfv_comments)"
   ]
  },
  {
   "cell_type": "code",
   "execution_count": null,
   "id": "ae0c01e4",
   "metadata": {
    "execution": {
     "iopub.execute_input": "2022-01-28T07:20:51.616565Z",
     "iopub.status.busy": "2022-01-28T07:20:51.616151Z",
     "iopub.status.idle": "2022-01-28T07:20:51.643509Z",
     "shell.execute_reply": "2022-01-28T07:20:51.642542Z",
     "shell.execute_reply.started": "2022-01-28T07:20:51.61653Z"
    },
    "papermill": {
     "duration": 0.018746,
     "end_time": "2022-01-30T07:07:23.406029",
     "exception": false,
     "start_time": "2022-01-30T07:07:23.387283",
     "status": "completed"
    },
    "tags": []
   },
   "outputs": [],
   "source": []
  },
  {
   "cell_type": "code",
   "execution_count": 19,
   "id": "5a101bad",
   "metadata": {
    "execution": {
     "iopub.execute_input": "2022-01-30T07:07:23.446399Z",
     "iopub.status.busy": "2022-01-30T07:07:23.445959Z",
     "iopub.status.idle": "2022-01-30T07:07:23.476631Z",
     "shell.execute_reply": "2022-01-30T07:07:23.476247Z",
     "shell.execute_reply.started": "2022-01-30T07:05:22.346432Z"
    },
    "papermill": {
     "duration": 0.052,
     "end_time": "2022-01-30T07:07:23.476732",
     "exception": false,
     "start_time": "2022-01-30T07:07:23.424732",
     "status": "completed"
    },
    "tags": []
   },
   "outputs": [
    {
     "data": {
      "text/html": [
       "<div>\n",
       "<style scoped>\n",
       "    .dataframe tbody tr th:only-of-type {\n",
       "        vertical-align: middle;\n",
       "    }\n",
       "\n",
       "    .dataframe tbody tr th {\n",
       "        vertical-align: top;\n",
       "    }\n",
       "\n",
       "    .dataframe thead th {\n",
       "        text-align: right;\n",
       "    }\n",
       "</style>\n",
       "<table border=\"1\" class=\"dataframe\">\n",
       "  <thead>\n",
       "    <tr style=\"text-align: right;\">\n",
       "      <th></th>\n",
       "      <th>comment_id</th>\n",
       "      <th>score</th>\n",
       "    </tr>\n",
       "  </thead>\n",
       "  <tbody>\n",
       "    <tr>\n",
       "      <th>0</th>\n",
       "      <td>114890</td>\n",
       "      <td>1.069868</td>\n",
       "    </tr>\n",
       "    <tr>\n",
       "      <th>1</th>\n",
       "      <td>732895</td>\n",
       "      <td>4.585859</td>\n",
       "    </tr>\n",
       "    <tr>\n",
       "      <th>2</th>\n",
       "      <td>1139051</td>\n",
       "      <td>0.654489</td>\n",
       "    </tr>\n",
       "    <tr>\n",
       "      <th>3</th>\n",
       "      <td>1434512</td>\n",
       "      <td>0.889620</td>\n",
       "    </tr>\n",
       "    <tr>\n",
       "      <th>4</th>\n",
       "      <td>2084821</td>\n",
       "      <td>3.021303</td>\n",
       "    </tr>\n",
       "    <tr>\n",
       "      <th>...</th>\n",
       "      <td>...</td>\n",
       "      <td>...</td>\n",
       "    </tr>\n",
       "    <tr>\n",
       "      <th>7532</th>\n",
       "      <td>504235362</td>\n",
       "      <td>4.384260</td>\n",
       "    </tr>\n",
       "    <tr>\n",
       "      <th>7533</th>\n",
       "      <td>504235566</td>\n",
       "      <td>0.022335</td>\n",
       "    </tr>\n",
       "    <tr>\n",
       "      <th>7534</th>\n",
       "      <td>504308177</td>\n",
       "      <td>1.250839</td>\n",
       "    </tr>\n",
       "    <tr>\n",
       "      <th>7535</th>\n",
       "      <td>504570375</td>\n",
       "      <td>6.605672</td>\n",
       "    </tr>\n",
       "    <tr>\n",
       "      <th>7536</th>\n",
       "      <td>504598250</td>\n",
       "      <td>1.496899</td>\n",
       "    </tr>\n",
       "  </tbody>\n",
       "</table>\n",
       "<p>7537 rows × 2 columns</p>\n",
       "</div>"
      ],
      "text/plain": [
       "      comment_id     score\n",
       "0         114890  1.069868\n",
       "1         732895  4.585859\n",
       "2        1139051  0.654489\n",
       "3        1434512  0.889620\n",
       "4        2084821  3.021303\n",
       "...          ...       ...\n",
       "7532   504235362  4.384260\n",
       "7533   504235566  0.022335\n",
       "7534   504308177  1.250839\n",
       "7535   504570375  6.605672\n",
       "7536   504598250  1.496899\n",
       "\n",
       "[7537 rows x 2 columns]"
      ]
     },
     "execution_count": 19,
     "metadata": {},
     "output_type": "execute_result"
    }
   ],
   "source": [
    "sub = pd.DataFrame()\n",
    "sub[\"comment_id\"] = test[\"comment_id\"]\n",
    "sub[\"score\"] = pred*3.5\n",
    "sub.to_csv('submission.csv',index=False)\n",
    "sub"
   ]
  },
  {
   "cell_type": "code",
   "execution_count": null,
   "id": "16814c80",
   "metadata": {
    "papermill": {
     "duration": 0.018949,
     "end_time": "2022-01-30T07:07:23.514974",
     "exception": false,
     "start_time": "2022-01-30T07:07:23.496025",
     "status": "completed"
    },
    "tags": []
   },
   "outputs": [],
   "source": []
  }
 ],
 "metadata": {
  "kernelspec": {
   "display_name": "Python 3",
   "language": "python",
   "name": "python3"
  },
  "language_info": {
   "codemirror_mode": {
    "name": "ipython",
    "version": 3
   },
   "file_extension": ".py",
   "mimetype": "text/x-python",
   "name": "python",
   "nbconvert_exporter": "python",
   "pygments_lexer": "ipython3",
   "version": "3.7.12"
  },
  "papermill": {
   "default_parameters": {},
   "duration": 109.310096,
   "end_time": "2022-01-30T07:07:26.753826",
   "environment_variables": {},
   "exception": null,
   "input_path": "__notebook__.ipynb",
   "output_path": "__notebook__.ipynb",
   "parameters": {},
   "start_time": "2022-01-30T07:05:37.443730",
   "version": "2.3.3"
  }
 },
 "nbformat": 4,
 "nbformat_minor": 5
}
