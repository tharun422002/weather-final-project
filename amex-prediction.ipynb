{
 "cells": [
  {
   "cell_type": "code",
   "execution_count": 1,
   "id": "03063c99",
   "metadata": {
    "execution": {
     "iopub.execute_input": "2022-08-12T11:09:54.572115Z",
     "iopub.status.busy": "2022-08-12T11:09:54.571343Z",
     "iopub.status.idle": "2022-08-12T11:09:54.582402Z",
     "shell.execute_reply": "2022-08-12T11:09:54.581483Z"
    },
    "papermill": {
     "duration": 0.023759,
     "end_time": "2022-08-12T11:09:54.584928",
     "exception": false,
     "start_time": "2022-08-12T11:09:54.561169",
     "status": "completed"
    },
    "tags": []
   },
   "outputs": [],
   "source": [
    "#Import packages\n",
    "import numpy as np\n",
    "import pandas as pd"
   ]
  },
  {
   "cell_type": "code",
   "execution_count": 2,
   "id": "883adb8a",
   "metadata": {
    "execution": {
     "iopub.execute_input": "2022-08-12T11:09:54.601205Z",
     "iopub.status.busy": "2022-08-12T11:09:54.600510Z",
     "iopub.status.idle": "2022-08-12T11:10:33.847536Z",
     "shell.execute_reply": "2022-08-12T11:10:33.846707Z"
    },
    "papermill": {
     "duration": 39.26567,
     "end_time": "2022-08-12T11:10:33.857824",
     "exception": false,
     "start_time": "2022-08-12T11:09:54.592154",
     "status": "completed"
    },
    "tags": []
   },
   "outputs": [
    {
     "data": {
      "text/html": [
       "<div>\n",
       "<style scoped>\n",
       "    .dataframe tbody tr th:only-of-type {\n",
       "        vertical-align: middle;\n",
       "    }\n",
       "\n",
       "    .dataframe tbody tr th {\n",
       "        vertical-align: top;\n",
       "    }\n",
       "\n",
       "    .dataframe thead th {\n",
       "        text-align: right;\n",
       "    }\n",
       "</style>\n",
       "<table border=\"1\" class=\"dataframe\">\n",
       "  <thead>\n",
       "    <tr style=\"text-align: right;\">\n",
       "      <th></th>\n",
       "      <th>customer_ID</th>\n",
       "      <th>S_2</th>\n",
       "      <th>P_2</th>\n",
       "      <th>D_39</th>\n",
       "      <th>B_1</th>\n",
       "      <th>B_2</th>\n",
       "      <th>R_1</th>\n",
       "      <th>S_3</th>\n",
       "      <th>D_41</th>\n",
       "      <th>B_3</th>\n",
       "      <th>...</th>\n",
       "      <th>D_137</th>\n",
       "      <th>D_138</th>\n",
       "      <th>D_139</th>\n",
       "      <th>D_140</th>\n",
       "      <th>D_141</th>\n",
       "      <th>D_142</th>\n",
       "      <th>D_143</th>\n",
       "      <th>D_144</th>\n",
       "      <th>D_145</th>\n",
       "      <th>target</th>\n",
       "    </tr>\n",
       "  </thead>\n",
       "  <tbody>\n",
       "    <tr>\n",
       "      <th>0</th>\n",
       "      <td>0000099d6bd597052cdcda90ffabf56573fe9d7c79be5f...</td>\n",
       "      <td>2017-03-09</td>\n",
       "      <td>0.938469</td>\n",
       "      <td>0.001733</td>\n",
       "      <td>0.008724</td>\n",
       "      <td>1.006838</td>\n",
       "      <td>0.009228</td>\n",
       "      <td>0.124035</td>\n",
       "      <td>0.008771</td>\n",
       "      <td>0.004709</td>\n",
       "      <td>...</td>\n",
       "      <td>NaN</td>\n",
       "      <td>NaN</td>\n",
       "      <td>0.002427</td>\n",
       "      <td>0.003706</td>\n",
       "      <td>0.003818</td>\n",
       "      <td>NaN</td>\n",
       "      <td>0.000569</td>\n",
       "      <td>0.000610</td>\n",
       "      <td>0.002674</td>\n",
       "      <td>0</td>\n",
       "    </tr>\n",
       "    <tr>\n",
       "      <th>1</th>\n",
       "      <td>0000099d6bd597052cdcda90ffabf56573fe9d7c79be5f...</td>\n",
       "      <td>2017-04-07</td>\n",
       "      <td>0.936665</td>\n",
       "      <td>0.005775</td>\n",
       "      <td>0.004923</td>\n",
       "      <td>1.000653</td>\n",
       "      <td>0.006151</td>\n",
       "      <td>0.126750</td>\n",
       "      <td>0.000798</td>\n",
       "      <td>0.002714</td>\n",
       "      <td>...</td>\n",
       "      <td>NaN</td>\n",
       "      <td>NaN</td>\n",
       "      <td>0.003954</td>\n",
       "      <td>0.003167</td>\n",
       "      <td>0.005032</td>\n",
       "      <td>NaN</td>\n",
       "      <td>0.009576</td>\n",
       "      <td>0.005492</td>\n",
       "      <td>0.009217</td>\n",
       "      <td>0</td>\n",
       "    </tr>\n",
       "    <tr>\n",
       "      <th>2</th>\n",
       "      <td>0000099d6bd597052cdcda90ffabf56573fe9d7c79be5f...</td>\n",
       "      <td>2017-05-28</td>\n",
       "      <td>0.954180</td>\n",
       "      <td>0.091505</td>\n",
       "      <td>0.021655</td>\n",
       "      <td>1.009672</td>\n",
       "      <td>0.006815</td>\n",
       "      <td>0.123977</td>\n",
       "      <td>0.007598</td>\n",
       "      <td>0.009423</td>\n",
       "      <td>...</td>\n",
       "      <td>NaN</td>\n",
       "      <td>NaN</td>\n",
       "      <td>0.003269</td>\n",
       "      <td>0.007329</td>\n",
       "      <td>0.000427</td>\n",
       "      <td>NaN</td>\n",
       "      <td>0.003429</td>\n",
       "      <td>0.006986</td>\n",
       "      <td>0.002603</td>\n",
       "      <td>0</td>\n",
       "    </tr>\n",
       "    <tr>\n",
       "      <th>3</th>\n",
       "      <td>0000099d6bd597052cdcda90ffabf56573fe9d7c79be5f...</td>\n",
       "      <td>2017-06-13</td>\n",
       "      <td>0.960384</td>\n",
       "      <td>0.002455</td>\n",
       "      <td>0.013683</td>\n",
       "      <td>1.002700</td>\n",
       "      <td>0.001373</td>\n",
       "      <td>0.117169</td>\n",
       "      <td>0.000685</td>\n",
       "      <td>0.005531</td>\n",
       "      <td>...</td>\n",
       "      <td>NaN</td>\n",
       "      <td>NaN</td>\n",
       "      <td>0.006117</td>\n",
       "      <td>0.004516</td>\n",
       "      <td>0.003200</td>\n",
       "      <td>NaN</td>\n",
       "      <td>0.008419</td>\n",
       "      <td>0.006527</td>\n",
       "      <td>0.009600</td>\n",
       "      <td>0</td>\n",
       "    </tr>\n",
       "    <tr>\n",
       "      <th>4</th>\n",
       "      <td>0000099d6bd597052cdcda90ffabf56573fe9d7c79be5f...</td>\n",
       "      <td>2017-07-16</td>\n",
       "      <td>0.947248</td>\n",
       "      <td>0.002483</td>\n",
       "      <td>0.015193</td>\n",
       "      <td>1.000727</td>\n",
       "      <td>0.007605</td>\n",
       "      <td>0.117325</td>\n",
       "      <td>0.004653</td>\n",
       "      <td>0.009312</td>\n",
       "      <td>...</td>\n",
       "      <td>NaN</td>\n",
       "      <td>NaN</td>\n",
       "      <td>0.003671</td>\n",
       "      <td>0.004946</td>\n",
       "      <td>0.008889</td>\n",
       "      <td>NaN</td>\n",
       "      <td>0.001670</td>\n",
       "      <td>0.008126</td>\n",
       "      <td>0.009827</td>\n",
       "      <td>0</td>\n",
       "    </tr>\n",
       "  </tbody>\n",
       "</table>\n",
       "<p>5 rows × 191 columns</p>\n",
       "</div>"
      ],
      "text/plain": [
       "                                         customer_ID         S_2       P_2  \\\n",
       "0  0000099d6bd597052cdcda90ffabf56573fe9d7c79be5f...  2017-03-09  0.938469   \n",
       "1  0000099d6bd597052cdcda90ffabf56573fe9d7c79be5f...  2017-04-07  0.936665   \n",
       "2  0000099d6bd597052cdcda90ffabf56573fe9d7c79be5f...  2017-05-28  0.954180   \n",
       "3  0000099d6bd597052cdcda90ffabf56573fe9d7c79be5f...  2017-06-13  0.960384   \n",
       "4  0000099d6bd597052cdcda90ffabf56573fe9d7c79be5f...  2017-07-16  0.947248   \n",
       "\n",
       "       D_39       B_1       B_2       R_1       S_3      D_41       B_3  ...  \\\n",
       "0  0.001733  0.008724  1.006838  0.009228  0.124035  0.008771  0.004709  ...   \n",
       "1  0.005775  0.004923  1.000653  0.006151  0.126750  0.000798  0.002714  ...   \n",
       "2  0.091505  0.021655  1.009672  0.006815  0.123977  0.007598  0.009423  ...   \n",
       "3  0.002455  0.013683  1.002700  0.001373  0.117169  0.000685  0.005531  ...   \n",
       "4  0.002483  0.015193  1.000727  0.007605  0.117325  0.004653  0.009312  ...   \n",
       "\n",
       "   D_137  D_138     D_139     D_140     D_141  D_142     D_143     D_144  \\\n",
       "0    NaN    NaN  0.002427  0.003706  0.003818    NaN  0.000569  0.000610   \n",
       "1    NaN    NaN  0.003954  0.003167  0.005032    NaN  0.009576  0.005492   \n",
       "2    NaN    NaN  0.003269  0.007329  0.000427    NaN  0.003429  0.006986   \n",
       "3    NaN    NaN  0.006117  0.004516  0.003200    NaN  0.008419  0.006527   \n",
       "4    NaN    NaN  0.003671  0.004946  0.008889    NaN  0.001670  0.008126   \n",
       "\n",
       "      D_145  target  \n",
       "0  0.002674       0  \n",
       "1  0.009217       0  \n",
       "2  0.002603       0  \n",
       "3  0.009600       0  \n",
       "4  0.009827       0  \n",
       "\n",
       "[5 rows x 191 columns]"
      ]
     },
     "execution_count": 2,
     "metadata": {},
     "output_type": "execute_result"
    }
   ],
   "source": [
    "#Loading the train data\n",
    "train_data = pd.read_parquet('../input/amex-parquet/train_data.parquet')\n",
    "train_data.head()"
   ]
  },
  {
   "cell_type": "code",
   "execution_count": 3,
   "id": "426fc79a",
   "metadata": {
    "execution": {
     "iopub.execute_input": "2022-08-12T11:10:33.874263Z",
     "iopub.status.busy": "2022-08-12T11:10:33.873842Z",
     "iopub.status.idle": "2022-08-12T11:10:33.880444Z",
     "shell.execute_reply": "2022-08-12T11:10:33.879394Z"
    },
    "papermill": {
     "duration": 0.01759,
     "end_time": "2022-08-12T11:10:33.882771",
     "exception": false,
     "start_time": "2022-08-12T11:10:33.865181",
     "status": "completed"
    },
    "tags": []
   },
   "outputs": [
    {
     "data": {
      "text/plain": [
       "(5531451, 191)"
      ]
     },
     "execution_count": 3,
     "metadata": {},
     "output_type": "execute_result"
    }
   ],
   "source": [
    "train_data.shape"
   ]
  },
  {
   "cell_type": "code",
   "execution_count": 4,
   "id": "00f23268",
   "metadata": {
    "execution": {
     "iopub.execute_input": "2022-08-12T11:10:33.899309Z",
     "iopub.status.busy": "2022-08-12T11:10:33.898901Z",
     "iopub.status.idle": "2022-08-12T11:10:36.818035Z",
     "shell.execute_reply": "2022-08-12T11:10:36.816617Z"
    },
    "papermill": {
     "duration": 2.930814,
     "end_time": "2022-08-12T11:10:36.820895",
     "exception": false,
     "start_time": "2022-08-12T11:10:33.890081",
     "status": "completed"
    },
    "tags": []
   },
   "outputs": [
    {
     "data": {
      "text/plain": [
       "customer_ID          0\n",
       "S_2                  0\n",
       "P_2              45985\n",
       "D_39                 0\n",
       "B_1                  0\n",
       "B_2               2016\n",
       "R_1                  0\n",
       "S_3            1020544\n",
       "D_41              2016\n",
       "B_3               2016\n",
       "D_42           4740137\n",
       "D_43           1658396\n",
       "D_44            274319\n",
       "B_4                  0\n",
       "D_45              2017\n",
       "B_5                  0\n",
       "R_2                  0\n",
       "D_46           1211699\n",
       "D_47                 0\n",
       "D_48            718725\n",
       "D_49           4985917\n",
       "B_6                233\n",
       "B_7                  0\n",
       "B_8              22268\n",
       "D_50           3142402\n",
       "D_51                 0\n",
       "B_9                  0\n",
       "R_3                  0\n",
       "D_52             29563\n",
       "P_3             301492\n",
       "B_10                 0\n",
       "D_53           4084585\n",
       "S_5                  0\n",
       "B_11                 0\n",
       "S_6                  0\n",
       "D_54              2016\n",
       "R_4                  0\n",
       "S_7            1020544\n",
       "B_12                 0\n",
       "S_8                  0\n",
       "D_55            184803\n",
       "D_56           2990943\n",
       "B_13             49519\n",
       "R_5                  0\n",
       "D_58                 0\n",
       "S_9            2933643\n",
       "B_14                 0\n",
       "D_59            106725\n",
       "D_60                 0\n",
       "D_61            598052\n",
       "B_15              6923\n",
       "S_11                 0\n",
       "D_62            758161\n",
       "D_63                 0\n",
       "D_64            217442\n",
       "D_65                 0\n",
       "B_16              2016\n",
       "B_17           3137598\n",
       "B_18                 0\n",
       "B_19              2016\n",
       "D_66           4908097\n",
       "B_20              2016\n",
       "D_68            216503\n",
       "S_12                 0\n",
       "R_6                  0\n",
       "S_13                 0\n",
       "B_21                 0\n",
       "D_69            194473\n",
       "B_22              2016\n",
       "D_70             94917\n",
       "D_71                 0\n",
       "D_72             23708\n",
       "S_15                 0\n",
       "B_23                 0\n",
       "D_73           5475595\n",
       "P_4                  0\n",
       "D_74             21773\n",
       "D_75                 0\n",
       "D_76           4908954\n",
       "B_24                 0\n",
       "R_7                  1\n",
       "D_77           2513912\n",
       "B_25              6923\n",
       "B_26              2016\n",
       "D_78            274319\n",
       "D_79             75939\n",
       "R_8                  0\n",
       "R_9            5218918\n",
       "S_16                 0\n",
       "D_80             21773\n",
       "R_10                 0\n",
       "R_11                 0\n",
       "B_27              2016\n",
       "D_81             25687\n",
       "D_82           4058614\n",
       "S_17                 0\n",
       "R_12                56\n",
       "B_28                 0\n",
       "R_13                 0\n",
       "D_83            194473\n",
       "R_14                 1\n",
       "R_15                 0\n",
       "D_84             29563\n",
       "R_16                 0\n",
       "B_29           5150035\n",
       "B_30              2016\n",
       "S_18                 0\n",
       "D_86                 0\n",
       "D_87           5527586\n",
       "R_17                 0\n",
       "R_18                 0\n",
       "D_88           5525447\n",
       "B_31                 0\n",
       "S_19                 0\n",
       "R_19                 0\n",
       "B_32                 0\n",
       "S_20                 0\n",
       "R_20                75\n",
       "R_21                 0\n",
       "B_33              2016\n",
       "D_89             29563\n",
       "R_22                 0\n",
       "R_23                 0\n",
       "D_91            157216\n",
       "D_92                 0\n",
       "D_93                 0\n",
       "D_94                 0\n",
       "R_24                 0\n",
       "R_25                 0\n",
       "D_96                 0\n",
       "S_22             19024\n",
       "S_23               445\n",
       "S_24             18593\n",
       "S_25             12847\n",
       "S_26               634\n",
       "D_102            40655\n",
       "D_103           101548\n",
       "D_104           101548\n",
       "D_105          3021431\n",
       "D_106          4990102\n",
       "D_107           101548\n",
       "B_36                 0\n",
       "B_37                56\n",
       "R_26           4922146\n",
       "R_27            128703\n",
       "B_38              2016\n",
       "D_108          5502513\n",
       "D_109             1597\n",
       "D_110          5500117\n",
       "D_111          5500117\n",
       "B_39           5497819\n",
       "D_112             2650\n",
       "B_40                53\n",
       "S_27           1400935\n",
       "D_113           176716\n",
       "D_114           176716\n",
       "D_115           176716\n",
       "D_116           176716\n",
       "D_117           176716\n",
       "D_118           176716\n",
       "D_119           176716\n",
       "D_120           176716\n",
       "D_121           176716\n",
       "D_122           176716\n",
       "D_123           176716\n",
       "D_124           176716\n",
       "D_125           176716\n",
       "D_126           116816\n",
       "D_127                0\n",
       "D_128           101548\n",
       "D_129           101548\n",
       "B_41               690\n",
       "B_42           5459973\n",
       "D_130           101548\n",
       "D_131           101548\n",
       "D_132          4988874\n",
       "D_133            42716\n",
       "R_28                 0\n",
       "D_134          5336752\n",
       "D_135          5336752\n",
       "D_136          5336752\n",
       "D_137          5336752\n",
       "D_138          5336752\n",
       "D_139           101548\n",
       "D_140            40632\n",
       "D_141           101548\n",
       "D_142          4587043\n",
       "D_143           101548\n",
       "D_144            40727\n",
       "D_145           101548\n",
       "target               0\n",
       "dtype: int64"
      ]
     },
     "execution_count": 4,
     "metadata": {},
     "output_type": "execute_result"
    }
   ],
   "source": [
    "pd.set_option('display.max_rows', 1000)\n",
    "pd.set_option('display.max_columns', 1000)\n",
    "pd.set_option('display.width', 1000)\n",
    "train_data.isna().sum()"
   ]
  },
  {
   "cell_type": "code",
   "execution_count": 5,
   "id": "58738c78",
   "metadata": {
    "execution": {
     "iopub.execute_input": "2022-08-12T11:10:36.839075Z",
     "iopub.status.busy": "2022-08-12T11:10:36.838570Z",
     "iopub.status.idle": "2022-08-12T11:10:38.173553Z",
     "shell.execute_reply": "2022-08-12T11:10:38.172089Z"
    },
    "papermill": {
     "duration": 1.348226,
     "end_time": "2022-08-12T11:10:38.177274",
     "exception": false,
     "start_time": "2022-08-12T11:10:36.829048",
     "status": "completed"
    },
    "tags": []
   },
   "outputs": [
    {
     "data": {
      "image/png": "[encoded data removed]",
      "text/plain": [
       "<Figure size 432x288 with 1 Axes>"
      ]
     },
     "metadata": {},
     "output_type": "display_data"
    }
   ],
   "source": [
    "# importing libraries\n",
    "import matplotlib.pyplot as plt\n",
    "import seaborn\n",
    "\n",
    "# declaring data\n",
    "data = train_data['target'].value_counts()\n",
    "keys = [0,1]\n",
    "explode = [0, 0.1]\n",
    "# plotting data on chart\n",
    "plt.pie(data, labels=keys,explode=explode,autopct='%.0f%%')\n",
    "\n",
    "# displaying chart\n",
    "plt.show()"
   ]
  },
  {
   "cell_type": "markdown",
   "id": "13ed9fa2",
   "metadata": {
    "papermill": {
     "duration": 0.012626,
     "end_time": "2022-08-12T11:10:38.202942",
     "exception": false,
     "start_time": "2022-08-12T11:10:38.190316",
     "status": "completed"
    },
    "tags": []
   },
   "source": [
    "**25% is default and remaining 75% is non default** - Only 25 % of credit card holders are not paybacking their credit amount in 120 days and 75% of customers are following their credits due perfectly"
   ]
  },
  {
   "cell_type": "code",
   "execution_count": 6,
   "id": "82ad845d",
   "metadata": {
    "execution": {
     "iopub.execute_input": "2022-08-12T11:10:38.232736Z",
     "iopub.status.busy": "2022-08-12T11:10:38.231624Z",
     "iopub.status.idle": "2022-08-12T11:10:38.516300Z",
     "shell.execute_reply": "2022-08-12T11:10:38.515064Z"
    },
    "papermill": {
     "duration": 0.302443,
     "end_time": "2022-08-12T11:10:38.519094",
     "exception": false,
     "start_time": "2022-08-12T11:10:38.216651",
     "status": "completed"
    },
    "tags": []
   },
   "outputs": [
    {
     "data": {
      "text/html": [
       "<div>\n",
       "<style scoped>\n",
       "    .dataframe tbody tr th:only-of-type {\n",
       "        vertical-align: middle;\n",
       "    }\n",
       "\n",
       "    .dataframe tbody tr th {\n",
       "        vertical-align: top;\n",
       "    }\n",
       "\n",
       "    .dataframe thead th {\n",
       "        text-align: right;\n",
       "    }\n",
       "</style>\n",
       "<table border=\"1\" class=\"dataframe\">\n",
       "  <thead>\n",
       "    <tr style=\"text-align: right;\">\n",
       "      <th></th>\n",
       "      <th>customer_ID</th>\n",
       "      <th>S_2</th>\n",
       "      <th>D_63</th>\n",
       "      <th>D_64</th>\n",
       "    </tr>\n",
       "  </thead>\n",
       "  <tbody>\n",
       "    <tr>\n",
       "      <th>0</th>\n",
       "      <td>0000099d6bd597052cdcda90ffabf56573fe9d7c79be5f...</td>\n",
       "      <td>2017-03-09</td>\n",
       "      <td>CR</td>\n",
       "      <td>O</td>\n",
       "    </tr>\n",
       "    <tr>\n",
       "      <th>1</th>\n",
       "      <td>0000099d6bd597052cdcda90ffabf56573fe9d7c79be5f...</td>\n",
       "      <td>2017-04-07</td>\n",
       "      <td>CR</td>\n",
       "      <td>O</td>\n",
       "    </tr>\n",
       "    <tr>\n",
       "      <th>2</th>\n",
       "      <td>0000099d6bd597052cdcda90ffabf56573fe9d7c79be5f...</td>\n",
       "      <td>2017-05-28</td>\n",
       "      <td>CR</td>\n",
       "      <td>O</td>\n",
       "    </tr>\n",
       "    <tr>\n",
       "      <th>3</th>\n",
       "      <td>0000099d6bd597052cdcda90ffabf56573fe9d7c79be5f...</td>\n",
       "      <td>2017-06-13</td>\n",
       "      <td>CR</td>\n",
       "      <td>O</td>\n",
       "    </tr>\n",
       "    <tr>\n",
       "      <th>4</th>\n",
       "      <td>0000099d6bd597052cdcda90ffabf56573fe9d7c79be5f...</td>\n",
       "      <td>2017-07-16</td>\n",
       "      <td>CR</td>\n",
       "      <td>O</td>\n",
       "    </tr>\n",
       "    <tr>\n",
       "      <th>...</th>\n",
       "      <td>...</td>\n",
       "      <td>...</td>\n",
       "      <td>...</td>\n",
       "      <td>...</td>\n",
       "    </tr>\n",
       "    <tr>\n",
       "      <th>5531446</th>\n",
       "      <td>fffff1d38b785cef84adeace64f8f83db3a0c31e8d92ea...</td>\n",
       "      <td>2017-11-05</td>\n",
       "      <td>CL</td>\n",
       "      <td>O</td>\n",
       "    </tr>\n",
       "    <tr>\n",
       "      <th>5531447</th>\n",
       "      <td>fffff1d38b785cef84adeace64f8f83db3a0c31e8d92ea...</td>\n",
       "      <td>2017-12-23</td>\n",
       "      <td>CL</td>\n",
       "      <td>O</td>\n",
       "    </tr>\n",
       "    <tr>\n",
       "      <th>5531448</th>\n",
       "      <td>fffff1d38b785cef84adeace64f8f83db3a0c31e8d92ea...</td>\n",
       "      <td>2018-01-06</td>\n",
       "      <td>CL</td>\n",
       "      <td>O</td>\n",
       "    </tr>\n",
       "    <tr>\n",
       "      <th>5531449</th>\n",
       "      <td>fffff1d38b785cef84adeace64f8f83db3a0c31e8d92ea...</td>\n",
       "      <td>2018-02-06</td>\n",
       "      <td>CL</td>\n",
       "      <td>O</td>\n",
       "    </tr>\n",
       "    <tr>\n",
       "      <th>5531450</th>\n",
       "      <td>fffff1d38b785cef84adeace64f8f83db3a0c31e8d92ea...</td>\n",
       "      <td>2018-03-14</td>\n",
       "      <td>CL</td>\n",
       "      <td>O</td>\n",
       "    </tr>\n",
       "  </tbody>\n",
       "</table>\n",
       "<p>5531451 rows × 4 columns</p>\n",
       "</div>"
      ],
      "text/plain": [
       "                                               customer_ID         S_2 D_63 D_64\n",
       "0        0000099d6bd597052cdcda90ffabf56573fe9d7c79be5f...  2017-03-09   CR    O\n",
       "1        0000099d6bd597052cdcda90ffabf56573fe9d7c79be5f...  2017-04-07   CR    O\n",
       "2        0000099d6bd597052cdcda90ffabf56573fe9d7c79be5f...  2017-05-28   CR    O\n",
       "3        0000099d6bd597052cdcda90ffabf56573fe9d7c79be5f...  2017-06-13   CR    O\n",
       "4        0000099d6bd597052cdcda90ffabf56573fe9d7c79be5f...  2017-07-16   CR    O\n",
       "...                                                    ...         ...  ...  ...\n",
       "5531446  fffff1d38b785cef84adeace64f8f83db3a0c31e8d92ea...  2017-11-05   CL    O\n",
       "5531447  fffff1d38b785cef84adeace64f8f83db3a0c31e8d92ea...  2017-12-23   CL    O\n",
       "5531448  fffff1d38b785cef84adeace64f8f83db3a0c31e8d92ea...  2018-01-06   CL    O\n",
       "5531449  fffff1d38b785cef84adeace64f8f83db3a0c31e8d92ea...  2018-02-06   CL    O\n",
       "5531450  fffff1d38b785cef84adeace64f8f83db3a0c31e8d92ea...  2018-03-14   CL    O\n",
       "\n",
       "[5531451 rows x 4 columns]"
      ]
     },
     "execution_count": 6,
     "metadata": {},
     "output_type": "execute_result"
    }
   ],
   "source": [
    "train_data.select_dtypes(['object'])"
   ]
  },
  {
   "cell_type": "code",
   "execution_count": 7,
   "id": "7e981f19",
   "metadata": {
    "execution": {
     "iopub.execute_input": "2022-08-12T11:10:38.537989Z",
     "iopub.status.busy": "2022-08-12T11:10:38.537586Z",
     "iopub.status.idle": "2022-08-12T11:10:38.905309Z",
     "shell.execute_reply": "2022-08-12T11:10:38.903857Z"
    },
    "papermill": {
     "duration": 0.380916,
     "end_time": "2022-08-12T11:10:38.908265",
     "exception": false,
     "start_time": "2022-08-12T11:10:38.527349",
     "status": "completed"
    },
    "tags": []
   },
   "outputs": [
    {
     "data": {
      "text/plain": [
       "array(['CR', 'CO', 'CL', 'XZ', 'XM', 'XL'], dtype=object)"
      ]
     },
     "execution_count": 7,
     "metadata": {},
     "output_type": "execute_result"
    }
   ],
   "source": [
    "train_data[\"D_63\"].unique()"
   ]
  },
  {
   "cell_type": "code",
   "execution_count": 8,
   "id": "450234b7",
   "metadata": {
    "execution": {
     "iopub.execute_input": "2022-08-12T11:10:38.927602Z",
     "iopub.status.busy": "2022-08-12T11:10:38.926733Z",
     "iopub.status.idle": "2022-08-12T11:10:39.128096Z",
     "shell.execute_reply": "2022-08-12T11:10:39.126986Z"
    },
    "papermill": {
     "duration": 0.213346,
     "end_time": "2022-08-12T11:10:39.130464",
     "exception": false,
     "start_time": "2022-08-12T11:10:38.917118",
     "status": "completed"
    },
    "tags": []
   },
   "outputs": [
    {
     "data": {
      "text/plain": [
       "array(['O', 'R', None, 'U', '-1'], dtype=object)"
      ]
     },
     "execution_count": 8,
     "metadata": {},
     "output_type": "execute_result"
    }
   ],
   "source": [
    "train_data['D_64'].unique()"
   ]
  },
  {
   "cell_type": "markdown",
   "id": "6d481451",
   "metadata": {
    "papermill": {
     "duration": 0.008209,
     "end_time": "2022-08-12T11:10:39.147252",
     "exception": false,
     "start_time": "2022-08-12T11:10:39.139043",
     "status": "completed"
    },
    "tags": []
   },
   "source": []
  },
  {
   "cell_type": "code",
   "execution_count": 9,
   "id": "cf590b25",
   "metadata": {
    "execution": {
     "iopub.execute_input": "2022-08-12T11:10:39.165751Z",
     "iopub.status.busy": "2022-08-12T11:10:39.165308Z",
     "iopub.status.idle": "2022-08-12T11:10:39.624511Z",
     "shell.execute_reply": "2022-08-12T11:10:39.623066Z"
    },
    "papermill": {
     "duration": 0.471519,
     "end_time": "2022-08-12T11:10:39.627184",
     "exception": false,
     "start_time": "2022-08-12T11:10:39.155665",
     "status": "completed"
    },
    "tags": []
   },
   "outputs": [
    {
     "name": "stdout",
     "output_type": "stream",
     "text": [
      "0\n",
      "217442\n"
     ]
    }
   ],
   "source": [
    "print(train_data['D_63'].isna().sum())\n",
    "print(train_data['D_64'].isna().sum())"
   ]
  },
  {
   "cell_type": "markdown",
   "id": "192a2f38",
   "metadata": {
    "papermill": {
     "duration": 0.00824,
     "end_time": "2022-08-12T11:10:39.644341",
     "exception": false,
     "start_time": "2022-08-12T11:10:39.636101",
     "status": "completed"
    },
    "tags": []
   },
   "source": [
    "\"D_64\" coulmn contains negative values,First remove the negative values and then concentrate on encoding"
   ]
  },
  {
   "cell_type": "code",
   "execution_count": 10,
   "id": "2f885479",
   "metadata": {
    "execution": {
     "iopub.execute_input": "2022-08-12T11:10:39.665271Z",
     "iopub.status.busy": "2022-08-12T11:10:39.664035Z",
     "iopub.status.idle": "2022-08-12T11:10:44.289154Z",
     "shell.execute_reply": "2022-08-12T11:10:44.287944Z"
    },
    "papermill": {
     "duration": 4.641058,
     "end_time": "2022-08-12T11:10:44.294415",
     "exception": false,
     "start_time": "2022-08-12T11:10:39.653357",
     "status": "completed"
    },
    "tags": []
   },
   "outputs": [
    {
     "data": {
      "text/plain": [
       "(5531451, 157)"
      ]
     },
     "execution_count": 10,
     "metadata": {},
     "output_type": "execute_result"
    }
   ],
   "source": [
    "train = train_data.dropna(axis=1, thresh=int(0.80 * len(train_data)))\n",
    "train.shape"
   ]
  },
  {
   "cell_type": "code",
   "execution_count": 11,
   "id": "37473a96",
   "metadata": {
    "execution": {
     "iopub.execute_input": "2022-08-12T11:10:44.314337Z",
     "iopub.status.busy": "2022-08-12T11:10:44.313375Z",
     "iopub.status.idle": "2022-08-12T11:11:11.527071Z",
     "shell.execute_reply": "2022-08-12T11:11:11.525720Z"
    },
    "papermill": {
     "duration": 27.226187,
     "end_time": "2022-08-12T11:11:11.529630",
     "exception": false,
     "start_time": "2022-08-12T11:10:44.303443",
     "status": "completed"
    },
    "tags": []
   },
   "outputs": [
    {
     "data": {
      "text/plain": [
       "(458913, 155)"
      ]
     },
     "execution_count": 11,
     "metadata": {},
     "output_type": "execute_result"
    }
   ],
   "source": [
    "train=train.set_index(['customer_ID'])\n",
    "train=train.ffill().bfill()\n",
    "train=train.reset_index()\n",
    "train=train.groupby('customer_ID').tail(1)\n",
    "train=train.set_index(['customer_ID'])\n",
    "\n",
    "# Drop date column since it is no longer relevant\n",
    "\n",
    "train.drop(['S_2'],axis=1,inplace=True)\n",
    "\n",
    "# Check for number of rows\n",
    "train.shape"
   ]
  },
  {
   "cell_type": "code",
   "execution_count": 12,
   "id": "adf4e6dc",
   "metadata": {
    "execution": {
     "iopub.execute_input": "2022-08-12T11:11:11.549459Z",
     "iopub.status.busy": "2022-08-12T11:11:11.548393Z",
     "iopub.status.idle": "2022-08-12T11:11:12.736793Z",
     "shell.execute_reply": "2022-08-12T11:11:12.735481Z"
    },
    "papermill": {
     "duration": 1.201381,
     "end_time": "2022-08-12T11:11:12.739670",
     "exception": false,
     "start_time": "2022-08-12T11:11:11.538289",
     "status": "completed"
    },
    "tags": []
   },
   "outputs": [],
   "source": [
    "# Perform one-hot encoding for D_63 and D_64\n",
    "train_D63 = pd.get_dummies(train[['D_63']])\n",
    "train = pd.concat([train, train_D63], axis=1)\n",
    "train = train.drop(['D_63'], axis=1)\n",
    "\n",
    "train_D64 = pd.get_dummies(train[['D_64']])\n",
    "train = pd.concat([train, train_D64], axis=1)\n",
    "train = train.drop(['D_64'], axis=1)"
   ]
  },
  {
   "cell_type": "code",
   "execution_count": 13,
   "id": "428b1fbc",
   "metadata": {
    "execution": {
     "iopub.execute_input": "2022-08-12T11:11:12.759069Z",
     "iopub.status.busy": "2022-08-12T11:11:12.758636Z",
     "iopub.status.idle": "2022-08-12T11:11:45.829371Z",
     "shell.execute_reply": "2022-08-12T11:11:45.828083Z"
    },
    "papermill": {
     "duration": 33.083825,
     "end_time": "2022-08-12T11:11:45.832292",
     "exception": false,
     "start_time": "2022-08-12T11:11:12.748467",
     "status": "completed"
    },
    "tags": []
   },
   "outputs": [],
   "source": [
    "train1=train.corr().abs()>0.4"
   ]
  },
  {
   "cell_type": "code",
   "execution_count": 14,
   "id": "65b0191f",
   "metadata": {
    "execution": {
     "iopub.execute_input": "2022-08-12T11:11:45.852554Z",
     "iopub.status.busy": "2022-08-12T11:11:45.851552Z",
     "iopub.status.idle": "2022-08-12T11:11:46.815736Z",
     "shell.execute_reply": "2022-08-12T11:11:46.814347Z"
    },
    "papermill": {
     "duration": 0.977427,
     "end_time": "2022-08-12T11:11:46.819104",
     "exception": false,
     "start_time": "2022-08-12T11:11:45.841677",
     "status": "completed"
    },
    "tags": []
   },
   "outputs": [],
   "source": [
    "train.drop(train.columns[train.corrwith(train['target']).abs()<0.4],axis=1,inplace=True)"
   ]
  },
  {
   "cell_type": "code",
   "execution_count": 15,
   "id": "f21f844b",
   "metadata": {
    "execution": {
     "iopub.execute_input": "2022-08-12T11:11:46.844757Z",
     "iopub.status.busy": "2022-08-12T11:11:46.843592Z",
     "iopub.status.idle": "2022-08-12T11:11:46.852037Z",
     "shell.execute_reply": "2022-08-12T11:11:46.850692Z"
    },
    "papermill": {
     "duration": 0.025536,
     "end_time": "2022-08-12T11:11:46.854609",
     "exception": false,
     "start_time": "2022-08-12T11:11:46.829073",
     "status": "completed"
    },
    "tags": []
   },
   "outputs": [
    {
     "data": {
      "text/plain": [
       "(458913, 27)"
      ]
     },
     "execution_count": 15,
     "metadata": {},
     "output_type": "execute_result"
    }
   ],
   "source": [
    "train.shape"
   ]
  },
  {
   "cell_type": "code",
   "execution_count": 16,
   "id": "692a9fd6",
   "metadata": {
    "execution": {
     "iopub.execute_input": "2022-08-12T11:11:46.874641Z",
     "iopub.status.busy": "2022-08-12T11:11:46.873865Z",
     "iopub.status.idle": "2022-08-12T11:11:46.900334Z",
     "shell.execute_reply": "2022-08-12T11:11:46.899104Z"
    },
    "papermill": {
     "duration": 0.038999,
     "end_time": "2022-08-12T11:11:46.902750",
     "exception": false,
     "start_time": "2022-08-12T11:11:46.863751",
     "status": "completed"
    },
    "tags": []
   },
   "outputs": [],
   "source": [
    "y = train['target']\n",
    "X = train.drop(['target'],axis=1)"
   ]
  },
  {
   "cell_type": "code",
   "execution_count": 17,
   "id": "246724ca",
   "metadata": {
    "execution": {
     "iopub.execute_input": "2022-08-12T11:11:46.923283Z",
     "iopub.status.busy": "2022-08-12T11:11:46.922894Z",
     "iopub.status.idle": "2022-08-12T11:13:18.185326Z",
     "shell.execute_reply": "2022-08-12T11:13:18.184429Z"
    },
    "papermill": {
     "duration": 91.275511,
     "end_time": "2022-08-12T11:13:18.187533",
     "exception": false,
     "start_time": "2022-08-12T11:11:46.912022",
     "status": "completed"
    },
    "tags": []
   },
   "outputs": [
    {
     "data": {
      "text/plain": [
       "<AxesSubplot:>"
      ]
     },
     "execution_count": 17,
     "metadata": {},
     "output_type": "execute_result"
    },
    {
     "data": {
      "image/png": "[encoded data removed]",
      "text/plain": [
       "<Figure size 720x1080 with 1 Axes>"
      ]
     },
     "metadata": {
      "needs_background": "light"
     },
     "output_type": "display_data"
    }
   ],
   "source": [
    "from sklearn.feature_selection import mutual_info_classif\n",
    "import matplotlib.pyplot as plt\n",
    "%matplotlib inline\n",
    "f = plt.figure()\n",
    "f.set_figwidth(10)\n",
    "f.set_figheight(15)\n",
    "importances= mutual_info_classif(X,y)\n",
    "featureimp=pd.Series(importances)\n",
    "featureimp.plot(kind='barh',color=\"teal\")"
   ]
  },
  {
   "cell_type": "markdown",
   "id": "416e9bb8",
   "metadata": {
    "papermill": {
     "duration": 0.008649,
     "end_time": "2022-08-12T11:13:18.205277",
     "exception": false,
     "start_time": "2022-08-12T11:13:18.196628",
     "status": "completed"
    },
    "tags": []
   },
   "source": [
    "Looks like almost all the features giving some importances towards the results,So we will include select all the parameters based on mutual_info technique "
   ]
  },
  {
   "cell_type": "code",
   "execution_count": 18,
   "id": "4dc1c10e",
   "metadata": {
    "execution": {
     "iopub.execute_input": "2022-08-12T11:13:18.225571Z",
     "iopub.status.busy": "2022-08-12T11:13:18.224848Z",
     "iopub.status.idle": "2022-08-12T11:15:45.529033Z",
     "shell.execute_reply": "2022-08-12T11:15:45.527364Z"
    },
    "papermill": {
     "duration": 147.325264,
     "end_time": "2022-08-12T11:15:45.539625",
     "exception": false,
     "start_time": "2022-08-12T11:13:18.214361",
     "status": "completed"
    },
    "tags": []
   },
   "outputs": [
    {
     "data": {
      "text/plain": [
       "XGBClassifier(base_score=0.5, booster='gbtree', callbacks=None,\n",
       "              colsample_bylevel=1, colsample_bynode=1, colsample_bytree=1,\n",
       "              early_stopping_rounds=None, enable_categorical=False,\n",
       "              eval_metric=None, gamma=0, gpu_id=-1, grow_policy='depthwise',\n",
       "              importance_type=None, interaction_constraints='',\n",
       "              learning_rate=0.300000012, max_bin=256, max_cat_to_onehot=4,\n",
       "              max_delta_step=0, max_depth=6, max_leaves=0, min_child_weight=1,\n",
       "              missing=nan, monotone_constraints='()', n_estimators=100,\n",
       "              n_jobs=0, num_parallel_tree=1, predictor='auto', random_state=0,\n",
       "              reg_alpha=0, reg_lambda=1, ...)"
      ]
     },
     "execution_count": 18,
     "metadata": {},
     "output_type": "execute_result"
    }
   ],
   "source": [
    "from xgboost import XGBClassifier\n",
    "model=XGBClassifier(objective='binary:logistic')\n",
    "model.fit(X,y)"
   ]
  },
  {
   "cell_type": "code",
   "execution_count": 19,
   "id": "a97e08e1",
   "metadata": {
    "execution": {
     "iopub.execute_input": "2022-08-12T11:15:45.561080Z",
     "iopub.status.busy": "2022-08-12T11:15:45.560152Z",
     "iopub.status.idle": "2022-08-12T11:16:02.301617Z",
     "shell.execute_reply": "2022-08-12T11:16:02.300497Z"
    },
    "papermill": {
     "duration": 16.754869,
     "end_time": "2022-08-12T11:16:02.304101",
     "exception": false,
     "start_time": "2022-08-12T11:15:45.549232",
     "status": "completed"
    },
    "tags": []
   },
   "outputs": [
    {
     "data": {
      "text/html": [
       "<div>\n",
       "<style scoped>\n",
       "    .dataframe tbody tr th:only-of-type {\n",
       "        vertical-align: middle;\n",
       "    }\n",
       "\n",
       "    .dataframe tbody tr th {\n",
       "        vertical-align: top;\n",
       "    }\n",
       "\n",
       "    .dataframe thead th {\n",
       "        text-align: right;\n",
       "    }\n",
       "</style>\n",
       "<table border=\"1\" class=\"dataframe\">\n",
       "  <thead>\n",
       "    <tr style=\"text-align: right;\">\n",
       "      <th></th>\n",
       "      <th>P_2</th>\n",
       "      <th>B_1</th>\n",
       "      <th>B_2</th>\n",
       "      <th>R_1</th>\n",
       "      <th>B_3</th>\n",
       "      <th>D_44</th>\n",
       "      <th>B_4</th>\n",
       "      <th>R_2</th>\n",
       "      <th>D_48</th>\n",
       "      <th>B_7</th>\n",
       "      <th>B_9</th>\n",
       "      <th>B_11</th>\n",
       "      <th>D_55</th>\n",
       "      <th>D_58</th>\n",
       "      <th>D_61</th>\n",
       "      <th>B_16</th>\n",
       "      <th>B_18</th>\n",
       "      <th>B_19</th>\n",
       "      <th>B_20</th>\n",
       "      <th>B_22</th>\n",
       "      <th>B_23</th>\n",
       "      <th>D_74</th>\n",
       "      <th>D_75</th>\n",
       "      <th>B_33</th>\n",
       "      <th>B_37</th>\n",
       "      <th>B_38</th>\n",
       "      <th>customer_ID</th>\n",
       "    </tr>\n",
       "  </thead>\n",
       "  <tbody>\n",
       "    <tr>\n",
       "      <th>0</th>\n",
       "      <td>0.631315</td>\n",
       "      <td>0.010728</td>\n",
       "      <td>0.814497</td>\n",
       "      <td>0.007547</td>\n",
       "      <td>0.002347</td>\n",
       "      <td>0.007584</td>\n",
       "      <td>0.116402</td>\n",
       "      <td>0.005178</td>\n",
       "      <td>0.626467</td>\n",
       "      <td>1.250677</td>\n",
       "      <td>0.001013</td>\n",
       "      <td>0.004416</td>\n",
       "      <td>0.114564</td>\n",
       "      <td>0.205898</td>\n",
       "      <td>0.588734</td>\n",
       "      <td>0.008663</td>\n",
       "      <td>0.592103</td>\n",
       "      <td>0.009144</td>\n",
       "      <td>0.004986</td>\n",
       "      <td>0.005210</td>\n",
       "      <td>1.134792</td>\n",
       "      <td>0.217694</td>\n",
       "      <td>0.204590</td>\n",
       "      <td>1.003810</td>\n",
       "      <td>0.007970</td>\n",
       "      <td>1.0</td>\n",
       "      <td>00000469ba478561f23a92a868bd366de6f6527a684c9a...</td>\n",
       "    </tr>\n",
       "    <tr>\n",
       "      <th>1</th>\n",
       "      <td>0.587042</td>\n",
       "      <td>0.011026</td>\n",
       "      <td>0.810848</td>\n",
       "      <td>0.001817</td>\n",
       "      <td>0.009132</td>\n",
       "      <td>0.006646</td>\n",
       "      <td>0.134878</td>\n",
       "      <td>0.009029</td>\n",
       "      <td>0.611682</td>\n",
       "      <td>0.234169</td>\n",
       "      <td>0.005533</td>\n",
       "      <td>0.010003</td>\n",
       "      <td>0.184116</td>\n",
       "      <td>0.403270</td>\n",
       "      <td>0.622886</td>\n",
       "      <td>0.000835</td>\n",
       "      <td>0.590922</td>\n",
       "      <td>0.000165</td>\n",
       "      <td>0.001557</td>\n",
       "      <td>0.008394</td>\n",
       "      <td>0.208381</td>\n",
       "      <td>0.216526</td>\n",
       "      <td>0.206570</td>\n",
       "      <td>1.004629</td>\n",
       "      <td>0.015463</td>\n",
       "      <td>1.0</td>\n",
       "      <td>00000469ba478561f23a92a868bd366de6f6527a684c9a...</td>\n",
       "    </tr>\n",
       "    <tr>\n",
       "      <th>2</th>\n",
       "      <td>0.609056</td>\n",
       "      <td>0.016390</td>\n",
       "      <td>1.004620</td>\n",
       "      <td>0.000114</td>\n",
       "      <td>0.004192</td>\n",
       "      <td>0.009606</td>\n",
       "      <td>0.136109</td>\n",
       "      <td>0.008286</td>\n",
       "      <td>0.622228</td>\n",
       "      <td>0.126995</td>\n",
       "      <td>0.000023</td>\n",
       "      <td>0.004140</td>\n",
       "      <td>0.253969</td>\n",
       "      <td>0.393717</td>\n",
       "      <td>0.617996</td>\n",
       "      <td>0.006182</td>\n",
       "      <td>0.591441</td>\n",
       "      <td>0.006097</td>\n",
       "      <td>0.002339</td>\n",
       "      <td>0.002630</td>\n",
       "      <td>0.115770</td>\n",
       "      <td>0.223477</td>\n",
       "      <td>0.204640</td>\n",
       "      <td>1.007063</td>\n",
       "      <td>0.016206</td>\n",
       "      <td>2.0</td>\n",
       "      <td>00000469ba478561f23a92a868bd366de6f6527a684c9a...</td>\n",
       "    </tr>\n",
       "    <tr>\n",
       "      <th>3</th>\n",
       "      <td>0.614911</td>\n",
       "      <td>0.021672</td>\n",
       "      <td>0.816549</td>\n",
       "      <td>0.009722</td>\n",
       "      <td>0.015325</td>\n",
       "      <td>0.007820</td>\n",
       "      <td>0.146546</td>\n",
       "      <td>0.008305</td>\n",
       "      <td>0.615620</td>\n",
       "      <td>0.144631</td>\n",
       "      <td>0.007204</td>\n",
       "      <td>0.013309</td>\n",
       "      <td>0.305662</td>\n",
       "      <td>0.416276</td>\n",
       "      <td>0.614086</td>\n",
       "      <td>0.009910</td>\n",
       "      <td>0.590951</td>\n",
       "      <td>0.002537</td>\n",
       "      <td>0.006877</td>\n",
       "      <td>0.004402</td>\n",
       "      <td>0.131948</td>\n",
       "      <td>0.216830</td>\n",
       "      <td>0.203464</td>\n",
       "      <td>1.009508</td>\n",
       "      <td>0.018480</td>\n",
       "      <td>2.0</td>\n",
       "      <td>00000469ba478561f23a92a868bd366de6f6527a684c9a...</td>\n",
       "    </tr>\n",
       "    <tr>\n",
       "      <th>4</th>\n",
       "      <td>0.591673</td>\n",
       "      <td>0.015923</td>\n",
       "      <td>0.810456</td>\n",
       "      <td>0.002026</td>\n",
       "      <td>0.011281</td>\n",
       "      <td>0.009959</td>\n",
       "      <td>0.135725</td>\n",
       "      <td>0.002728</td>\n",
       "      <td>0.591795</td>\n",
       "      <td>0.178240</td>\n",
       "      <td>0.000569</td>\n",
       "      <td>0.006974</td>\n",
       "      <td>0.350231</td>\n",
       "      <td>0.398535</td>\n",
       "      <td>0.592988</td>\n",
       "      <td>0.000131</td>\n",
       "      <td>0.593366</td>\n",
       "      <td>0.001112</td>\n",
       "      <td>0.007519</td>\n",
       "      <td>0.000384</td>\n",
       "      <td>0.153263</td>\n",
       "      <td>0.214919</td>\n",
       "      <td>0.201180</td>\n",
       "      <td>1.001869</td>\n",
       "      <td>0.015362</td>\n",
       "      <td>2.0</td>\n",
       "      <td>00000469ba478561f23a92a868bd366de6f6527a684c9a...</td>\n",
       "    </tr>\n",
       "  </tbody>\n",
       "</table>\n",
       "</div>"
      ],
      "text/plain": [
       "        P_2       B_1       B_2       R_1       B_3      D_44       B_4       R_2      D_48       B_7       B_9      B_11      D_55      D_58      D_61      B_16      B_18      B_19      B_20      B_22      B_23      D_74      D_75      B_33      B_37  B_38                                        customer_ID\n",
       "0  0.631315  0.010728  0.814497  0.007547  0.002347  0.007584  0.116402  0.005178  0.626467  1.250677  0.001013  0.004416  0.114564  0.205898  0.588734  0.008663  0.592103  0.009144  0.004986  0.005210  1.134792  0.217694  0.204590  1.003810  0.007970   1.0  00000469ba478561f23a92a868bd366de6f6527a684c9a...\n",
       "1  0.587042  0.011026  0.810848  0.001817  0.009132  0.006646  0.134878  0.009029  0.611682  0.234169  0.005533  0.010003  0.184116  0.403270  0.622886  0.000835  0.590922  0.000165  0.001557  0.008394  0.208381  0.216526  0.206570  1.004629  0.015463   1.0  00000469ba478561f23a92a868bd366de6f6527a684c9a...\n",
       "2  0.609056  0.016390  1.004620  0.000114  0.004192  0.009606  0.136109  0.008286  0.622228  0.126995  0.000023  0.004140  0.253969  0.393717  0.617996  0.006182  0.591441  0.006097  0.002339  0.002630  0.115770  0.223477  0.204640  1.007063  0.016206   2.0  00000469ba478561f23a92a868bd366de6f6527a684c9a...\n",
       "3  0.614911  0.021672  0.816549  0.009722  0.015325  0.007820  0.146546  0.008305  0.615620  0.144631  0.007204  0.013309  0.305662  0.416276  0.614086  0.009910  0.590951  0.002537  0.006877  0.004402  0.131948  0.216830  0.203464  1.009508  0.018480   2.0  00000469ba478561f23a92a868bd366de6f6527a684c9a...\n",
       "4  0.591673  0.015923  0.810456  0.002026  0.011281  0.009959  0.135725  0.002728  0.591795  0.178240  0.000569  0.006974  0.350231  0.398535  0.592988  0.000131  0.593366  0.001112  0.007519  0.000384  0.153263  0.214919  0.201180  1.001869  0.015362   2.0  00000469ba478561f23a92a868bd366de6f6527a684c9a..."
      ]
     },
     "execution_count": 19,
     "metadata": {},
     "output_type": "execute_result"
    }
   ],
   "source": [
    "list_of_columns=list(train.columns)\n",
    "list_of_columns.remove('target')\n",
    "list_of_columns.append('customer_ID')\n",
    "\n",
    "test = pd.read_parquet('../input/amex-parquet/test_data.parquet',columns=list_of_columns)\n",
    "test.head()"
   ]
  },
  {
   "cell_type": "code",
   "execution_count": 20,
   "id": "a1524333",
   "metadata": {
    "execution": {
     "iopub.execute_input": "2022-08-12T11:16:02.326012Z",
     "iopub.status.busy": "2022-08-12T11:16:02.324999Z",
     "iopub.status.idle": "2022-08-12T11:16:07.105864Z",
     "shell.execute_reply": "2022-08-12T11:16:07.104674Z"
    },
    "papermill": {
     "duration": 4.7947,
     "end_time": "2022-08-12T11:16:07.108755",
     "exception": false,
     "start_time": "2022-08-12T11:16:02.314055",
     "status": "completed"
    },
    "tags": []
   },
   "outputs": [],
   "source": [
    "test=test.set_index(['customer_ID'])\n",
    "test=test.ffill().bfill()\n",
    "test=test.reset_index()\n",
    "test=test.groupby('customer_ID').tail(1)\n",
    "test=test.set_index(['customer_ID'])"
   ]
  },
  {
   "cell_type": "code",
   "execution_count": null,
   "id": "aa20b4ec",
   "metadata": {
    "papermill": {
     "duration": 0.009747,
     "end_time": "2022-08-12T11:16:07.128903",
     "exception": false,
     "start_time": "2022-08-12T11:16:07.119156",
     "status": "completed"
    },
    "tags": []
   },
   "outputs": [],
   "source": []
  },
  {
   "cell_type": "code",
   "execution_count": 21,
   "id": "7b994198",
   "metadata": {
    "execution": {
     "iopub.execute_input": "2022-08-12T11:16:07.151008Z",
     "iopub.status.busy": "2022-08-12T11:16:07.150311Z",
     "iopub.status.idle": "2022-08-12T11:16:08.144841Z",
     "shell.execute_reply": "2022-08-12T11:16:08.143607Z"
    },
    "papermill": {
     "duration": 1.009033,
     "end_time": "2022-08-12T11:16:08.148006",
     "exception": false,
     "start_time": "2022-08-12T11:16:07.138973",
     "status": "completed"
    },
    "tags": []
   },
   "outputs": [],
   "source": [
    "test_prediction = model.predict_proba(test) "
   ]
  },
  {
   "cell_type": "code",
   "execution_count": 22,
   "id": "7d6cc90a",
   "metadata": {
    "execution": {
     "iopub.execute_input": "2022-08-12T11:16:08.171893Z",
     "iopub.status.busy": "2022-08-12T11:16:08.169379Z",
     "iopub.status.idle": "2022-08-12T11:16:11.378698Z",
     "shell.execute_reply": "2022-08-12T11:16:11.377603Z"
    },
    "papermill": {
     "duration": 3.223261,
     "end_time": "2022-08-12T11:16:11.381331",
     "exception": false,
     "start_time": "2022-08-12T11:16:08.158070",
     "status": "completed"
    },
    "tags": []
   },
   "outputs": [],
   "source": [
    "# Retrieve the probability of default\n",
    "y_predict_final = test_prediction[:,1]\n",
    "\n",
    "# Reset index of test\n",
    "test = test.reset_index()\n",
    "\n",
    "# Merge the prediction and customer_ID into submission dataframe\n",
    "submission = pd.DataFrame({\"customer_ID\":test.customer_ID,\"prediction\":y_predict_final})\n",
    "\n",
    "submission.to_csv('submission.csv', index=False)"
   ]
  },
  {
   "cell_type": "code",
   "execution_count": null,
   "id": "1ae467eb",
   "metadata": {
    "papermill": {
     "duration": 0.009382,
     "end_time": "2022-08-12T11:16:11.400476",
     "exception": false,
     "start_time": "2022-08-12T11:16:11.391094",
     "status": "completed"
    },
    "tags": []
   },
   "outputs": [],
   "source": []
  },
  {
   "cell_type": "code",
   "execution_count": null,
   "id": "637cc1f9",
   "metadata": {
    "papermill": {
     "duration": 0.009347,
     "end_time": "2022-08-12T11:16:11.419632",
     "exception": false,
     "start_time": "2022-08-12T11:16:11.410285",
     "status": "completed"
    },
    "tags": []
   },
   "outputs": [],
   "source": []
  },
  {
   "cell_type": "code",
   "execution_count": null,
   "id": "e05a76b2",
   "metadata": {
    "papermill": {
     "duration": 0.009506,
     "end_time": "2022-08-12T11:16:11.438947",
     "exception": false,
     "start_time": "2022-08-12T11:16:11.429441",
     "status": "completed"
    },
    "tags": []
   },
   "outputs": [],
   "source": []
  }
 ],
 "metadata": {
  "kernelspec": {
   "display_name": "Python 3",
   "language": "python",
   "name": "python3"
  },
  "language_info": {
   "codemirror_mode": {
    "name": "ipython",
    "version": 3
   },
   "file_extension": ".py",
   "mimetype": "text/x-python",
   "name": "python",
   "nbconvert_exporter": "python",
   "pygments_lexer": "ipython3",
   "version": "3.7.12"
  },
  "papermill": {
   "default_parameters": {},
   "duration": 387.859288,
   "end_time": "2022-08-12T11:16:13.076998",
   "environment_variables": {},
   "exception": null,
   "input_path": "__notebook__.ipynb",
   "output_path": "__notebook__.ipynb",
   "parameters": {},
   "start_time": "2022-08-12T11:09:45.217710",
   "version": "2.3.4"
  }
 },
 "nbformat": 4,
 "nbformat_minor": 5
}
