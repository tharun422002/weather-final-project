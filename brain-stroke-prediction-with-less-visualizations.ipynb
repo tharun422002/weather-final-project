{
 "cells": [
  {
   "cell_type": "code",
   "execution_count": 1,
   "id": "32a71ea8",
   "metadata": {
    "_cell_guid": "b1076dfc-b9ad-4769-8c92-a6c4dae69d19",
    "_uuid": "8f2839f25d086af736a60e9eeb907d3b93b6e0e5",
    "execution": {
     "iopub.execute_input": "2022-08-02T13:36:22.475469Z",
     "iopub.status.busy": "2022-08-02T13:36:22.474986Z",
     "iopub.status.idle": "2022-08-02T13:36:22.496455Z",
     "shell.execute_reply": "2022-08-02T13:36:22.495324Z"
    },
    "papermill": {
     "duration": 0.039348,
     "end_time": "2022-08-02T13:36:22.499747",
     "exception": false,
     "start_time": "2022-08-02T13:36:22.460399",
     "status": "completed"
    },
    "tags": []
   },
   "outputs": [
    {
     "name": "stdout",
     "output_type": "stream",
     "text": [
      "/kaggle/input/full-filled-brain-stroke-dataset/full_data.csv\n",
      "/kaggle/input/full-filled-brain-stroke-dataset/full_filled_stroke_data (1).csv\n"
     ]
    }
   ],
   "source": [
    "# This Python 3 environment comes with many helpful analytics libraries installed\n",
    "# It is defined by the kaggle/python Docker image: https://github.com/kaggle/docker-python\n",
    "# For example, here's several helpful packages to load\n",
    "\n",
    "import numpy as np # linear algebra\n",
    "import pandas as pd # data processing, CSV file I/O (e.g. pd.read_csv)\n",
    "\n",
    "# Input data files are available in the read-only \"../input/\" directory\n",
    "# For example, running this (by clicking run or pressing Shift+Enter) will list all files under the input directory\n",
    "\n",
    "import os\n",
    "for dirname, _, filenames in os.walk('/kaggle/input'):\n",
    "    for filename in filenames:\n",
    "        print(os.path.join(dirname, filename))\n",
    "\n",
    "# You can write up to 20GB to the current directory (/kaggle/working/) that gets preserved as output when you create a version using \"Save & Run All\" \n",
    "# You can also write temporary files to /kaggle/temp/, but they won't be saved outside of the current session"
   ]
  },
  {
   "cell_type": "code",
   "execution_count": 2,
   "id": "993e1bdc",
   "metadata": {
    "execution": {
     "iopub.execute_input": "2022-08-02T13:36:22.527252Z",
     "iopub.status.busy": "2022-08-02T13:36:22.526479Z",
     "iopub.status.idle": "2022-08-02T13:36:22.590425Z",
     "shell.execute_reply": "2022-08-02T13:36:22.588444Z"
    },
    "papermill": {
     "duration": 0.079958,
     "end_time": "2022-08-02T13:36:22.593246",
     "exception": false,
     "start_time": "2022-08-02T13:36:22.513288",
     "status": "completed"
    },
    "tags": []
   },
   "outputs": [
    {
     "name": "stdout",
     "output_type": "stream",
     "text": [
      "Shape: (4981, 11)\n"
     ]
    },
    {
     "data": {
      "text/html": [
       "<div>\n",
       "<style scoped>\n",
       "    .dataframe tbody tr th:only-of-type {\n",
       "        vertical-align: middle;\n",
       "    }\n",
       "\n",
       "    .dataframe tbody tr th {\n",
       "        vertical-align: top;\n",
       "    }\n",
       "\n",
       "    .dataframe thead th {\n",
       "        text-align: right;\n",
       "    }\n",
       "</style>\n",
       "<table border=\"1\" class=\"dataframe\">\n",
       "  <thead>\n",
       "    <tr style=\"text-align: right;\">\n",
       "      <th></th>\n",
       "      <th>gender</th>\n",
       "      <th>age</th>\n",
       "      <th>hypertension</th>\n",
       "      <th>heart_disease</th>\n",
       "      <th>ever_married</th>\n",
       "      <th>work_type</th>\n",
       "      <th>Residence_type</th>\n",
       "      <th>avg_glucose_level</th>\n",
       "      <th>bmi</th>\n",
       "      <th>smoking_status</th>\n",
       "      <th>stroke</th>\n",
       "    </tr>\n",
       "  </thead>\n",
       "  <tbody>\n",
       "    <tr>\n",
       "      <th>865</th>\n",
       "      <td>Male</td>\n",
       "      <td>15.0</td>\n",
       "      <td>0</td>\n",
       "      <td>0</td>\n",
       "      <td>No</td>\n",
       "      <td>Private</td>\n",
       "      <td>Urban</td>\n",
       "      <td>57.94</td>\n",
       "      <td>41.7</td>\n",
       "      <td>Unknown</td>\n",
       "      <td>0</td>\n",
       "    </tr>\n",
       "    <tr>\n",
       "      <th>73</th>\n",
       "      <td>Female</td>\n",
       "      <td>79.0</td>\n",
       "      <td>0</td>\n",
       "      <td>1</td>\n",
       "      <td>Yes</td>\n",
       "      <td>Private</td>\n",
       "      <td>Urban</td>\n",
       "      <td>226.98</td>\n",
       "      <td>29.8</td>\n",
       "      <td>never smoked</td>\n",
       "      <td>1</td>\n",
       "    </tr>\n",
       "    <tr>\n",
       "      <th>2250</th>\n",
       "      <td>Female</td>\n",
       "      <td>77.0</td>\n",
       "      <td>0</td>\n",
       "      <td>0</td>\n",
       "      <td>Yes</td>\n",
       "      <td>Govt_job</td>\n",
       "      <td>Rural</td>\n",
       "      <td>167.59</td>\n",
       "      <td>34.3</td>\n",
       "      <td>formerly smoked</td>\n",
       "      <td>0</td>\n",
       "    </tr>\n",
       "    <tr>\n",
       "      <th>2890</th>\n",
       "      <td>Male</td>\n",
       "      <td>42.0</td>\n",
       "      <td>0</td>\n",
       "      <td>0</td>\n",
       "      <td>No</td>\n",
       "      <td>Govt_job</td>\n",
       "      <td>Urban</td>\n",
       "      <td>115.21</td>\n",
       "      <td>28.7</td>\n",
       "      <td>Unknown</td>\n",
       "      <td>0</td>\n",
       "    </tr>\n",
       "    <tr>\n",
       "      <th>679</th>\n",
       "      <td>Female</td>\n",
       "      <td>58.0</td>\n",
       "      <td>1</td>\n",
       "      <td>0</td>\n",
       "      <td>Yes</td>\n",
       "      <td>Private</td>\n",
       "      <td>Urban</td>\n",
       "      <td>85.83</td>\n",
       "      <td>44.0</td>\n",
       "      <td>formerly smoked</td>\n",
       "      <td>0</td>\n",
       "    </tr>\n",
       "    <tr>\n",
       "      <th>2838</th>\n",
       "      <td>Female</td>\n",
       "      <td>79.0</td>\n",
       "      <td>0</td>\n",
       "      <td>0</td>\n",
       "      <td>No</td>\n",
       "      <td>Self-employed</td>\n",
       "      <td>Urban</td>\n",
       "      <td>77.59</td>\n",
       "      <td>33.0</td>\n",
       "      <td>never smoked</td>\n",
       "      <td>0</td>\n",
       "    </tr>\n",
       "    <tr>\n",
       "      <th>3327</th>\n",
       "      <td>Female</td>\n",
       "      <td>65.0</td>\n",
       "      <td>0</td>\n",
       "      <td>0</td>\n",
       "      <td>No</td>\n",
       "      <td>Govt_job</td>\n",
       "      <td>Urban</td>\n",
       "      <td>60.70</td>\n",
       "      <td>31.3</td>\n",
       "      <td>never smoked</td>\n",
       "      <td>0</td>\n",
       "    </tr>\n",
       "    <tr>\n",
       "      <th>552</th>\n",
       "      <td>Female</td>\n",
       "      <td>52.0</td>\n",
       "      <td>0</td>\n",
       "      <td>0</td>\n",
       "      <td>No</td>\n",
       "      <td>Private</td>\n",
       "      <td>Rural</td>\n",
       "      <td>88.04</td>\n",
       "      <td>42.1</td>\n",
       "      <td>never smoked</td>\n",
       "      <td>0</td>\n",
       "    </tr>\n",
       "    <tr>\n",
       "      <th>1430</th>\n",
       "      <td>Male</td>\n",
       "      <td>42.0</td>\n",
       "      <td>0</td>\n",
       "      <td>0</td>\n",
       "      <td>Yes</td>\n",
       "      <td>Private</td>\n",
       "      <td>Urban</td>\n",
       "      <td>83.14</td>\n",
       "      <td>23.7</td>\n",
       "      <td>never smoked</td>\n",
       "      <td>0</td>\n",
       "    </tr>\n",
       "    <tr>\n",
       "      <th>1413</th>\n",
       "      <td>Female</td>\n",
       "      <td>77.0</td>\n",
       "      <td>1</td>\n",
       "      <td>0</td>\n",
       "      <td>Yes</td>\n",
       "      <td>Self-employed</td>\n",
       "      <td>Rural</td>\n",
       "      <td>238.53</td>\n",
       "      <td>30.6</td>\n",
       "      <td>never smoked</td>\n",
       "      <td>0</td>\n",
       "    </tr>\n",
       "  </tbody>\n",
       "</table>\n",
       "</div>"
      ],
      "text/plain": [
       "      gender   age  hypertension  heart_disease ever_married      work_type  \\\n",
       "865     Male  15.0             0              0           No        Private   \n",
       "73    Female  79.0             0              1          Yes        Private   \n",
       "2250  Female  77.0             0              0          Yes       Govt_job   \n",
       "2890    Male  42.0             0              0           No       Govt_job   \n",
       "679   Female  58.0             1              0          Yes        Private   \n",
       "2838  Female  79.0             0              0           No  Self-employed   \n",
       "3327  Female  65.0             0              0           No       Govt_job   \n",
       "552   Female  52.0             0              0           No        Private   \n",
       "1430    Male  42.0             0              0          Yes        Private   \n",
       "1413  Female  77.0             1              0          Yes  Self-employed   \n",
       "\n",
       "     Residence_type  avg_glucose_level   bmi   smoking_status  stroke  \n",
       "865           Urban              57.94  41.7          Unknown       0  \n",
       "73            Urban             226.98  29.8     never smoked       1  \n",
       "2250          Rural             167.59  34.3  formerly smoked       0  \n",
       "2890          Urban             115.21  28.7          Unknown       0  \n",
       "679           Urban              85.83  44.0  formerly smoked       0  \n",
       "2838          Urban              77.59  33.0     never smoked       0  \n",
       "3327          Urban              60.70  31.3     never smoked       0  \n",
       "552           Rural              88.04  42.1     never smoked       0  \n",
       "1430          Urban              83.14  23.7     never smoked       0  \n",
       "1413          Rural             238.53  30.6     never smoked       0  "
      ]
     },
     "metadata": {},
     "output_type": "display_data"
    }
   ],
   "source": [
    "# Input data files are available in the \"../input/\" directory.\n",
    "# First let us load the datasets into different Dataframes\n",
    "def load_data(datapath):\n",
    "    data = pd.read_csv(datapath)\n",
    "   # Dimensions\n",
    "    print('Shape:', data.shape)\n",
    "    # Set of features we have are: date, store, and item\n",
    "    display(data.sample(10))\n",
    "    return data\n",
    "df=load_data('../input/full-filled-brain-stroke-dataset/full_data.csv')"
   ]
  },
  {
   "cell_type": "markdown",
   "id": "93fb2819",
   "metadata": {
    "papermill": {
     "duration": 0.013311,
     "end_time": "2022-08-02T13:36:22.620902",
     "exception": false,
     "start_time": "2022-08-02T13:36:22.607591",
     "status": "completed"
    },
    "tags": []
   },
   "source": [
    "# **Cumulative statistics description**"
   ]
  },
  {
   "cell_type": "code",
   "execution_count": 3,
   "id": "965ee5ed",
   "metadata": {
    "execution": {
     "iopub.execute_input": "2022-08-02T13:36:22.652649Z",
     "iopub.status.busy": "2022-08-02T13:36:22.651835Z",
     "iopub.status.idle": "2022-08-02T13:36:22.689115Z",
     "shell.execute_reply": "2022-08-02T13:36:22.687945Z"
    },
    "papermill": {
     "duration": 0.053101,
     "end_time": "2022-08-02T13:36:22.691421",
     "exception": false,
     "start_time": "2022-08-02T13:36:22.638320",
     "status": "completed"
    },
    "tags": []
   },
   "outputs": [
    {
     "data": {
      "text/html": [
       "<div>\n",
       "<style scoped>\n",
       "    .dataframe tbody tr th:only-of-type {\n",
       "        vertical-align: middle;\n",
       "    }\n",
       "\n",
       "    .dataframe tbody tr th {\n",
       "        vertical-align: top;\n",
       "    }\n",
       "\n",
       "    .dataframe thead th {\n",
       "        text-align: right;\n",
       "    }\n",
       "</style>\n",
       "<table border=\"1\" class=\"dataframe\">\n",
       "  <thead>\n",
       "    <tr style=\"text-align: right;\">\n",
       "      <th></th>\n",
       "      <th>age</th>\n",
       "      <th>hypertension</th>\n",
       "      <th>heart_disease</th>\n",
       "      <th>avg_glucose_level</th>\n",
       "      <th>bmi</th>\n",
       "      <th>stroke</th>\n",
       "    </tr>\n",
       "  </thead>\n",
       "  <tbody>\n",
       "    <tr>\n",
       "      <th>count</th>\n",
       "      <td>4981.000000</td>\n",
       "      <td>4981.000000</td>\n",
       "      <td>4981.000000</td>\n",
       "      <td>4981.000000</td>\n",
       "      <td>4981.000000</td>\n",
       "      <td>4981.000000</td>\n",
       "    </tr>\n",
       "    <tr>\n",
       "      <th>mean</th>\n",
       "      <td>43.419859</td>\n",
       "      <td>0.096165</td>\n",
       "      <td>0.055210</td>\n",
       "      <td>105.943562</td>\n",
       "      <td>28.498173</td>\n",
       "      <td>0.049789</td>\n",
       "    </tr>\n",
       "    <tr>\n",
       "      <th>std</th>\n",
       "      <td>22.662755</td>\n",
       "      <td>0.294848</td>\n",
       "      <td>0.228412</td>\n",
       "      <td>45.075373</td>\n",
       "      <td>6.790464</td>\n",
       "      <td>0.217531</td>\n",
       "    </tr>\n",
       "    <tr>\n",
       "      <th>min</th>\n",
       "      <td>0.080000</td>\n",
       "      <td>0.000000</td>\n",
       "      <td>0.000000</td>\n",
       "      <td>55.120000</td>\n",
       "      <td>14.000000</td>\n",
       "      <td>0.000000</td>\n",
       "    </tr>\n",
       "    <tr>\n",
       "      <th>25%</th>\n",
       "      <td>25.000000</td>\n",
       "      <td>0.000000</td>\n",
       "      <td>0.000000</td>\n",
       "      <td>77.230000</td>\n",
       "      <td>23.700000</td>\n",
       "      <td>0.000000</td>\n",
       "    </tr>\n",
       "    <tr>\n",
       "      <th>50%</th>\n",
       "      <td>45.000000</td>\n",
       "      <td>0.000000</td>\n",
       "      <td>0.000000</td>\n",
       "      <td>91.850000</td>\n",
       "      <td>28.100000</td>\n",
       "      <td>0.000000</td>\n",
       "    </tr>\n",
       "    <tr>\n",
       "      <th>75%</th>\n",
       "      <td>61.000000</td>\n",
       "      <td>0.000000</td>\n",
       "      <td>0.000000</td>\n",
       "      <td>113.860000</td>\n",
       "      <td>32.600000</td>\n",
       "      <td>0.000000</td>\n",
       "    </tr>\n",
       "    <tr>\n",
       "      <th>max</th>\n",
       "      <td>82.000000</td>\n",
       "      <td>1.000000</td>\n",
       "      <td>1.000000</td>\n",
       "      <td>271.740000</td>\n",
       "      <td>48.900000</td>\n",
       "      <td>1.000000</td>\n",
       "    </tr>\n",
       "  </tbody>\n",
       "</table>\n",
       "</div>"
      ],
      "text/plain": [
       "               age  hypertension  heart_disease  avg_glucose_level  \\\n",
       "count  4981.000000   4981.000000    4981.000000        4981.000000   \n",
       "mean     43.419859      0.096165       0.055210         105.943562   \n",
       "std      22.662755      0.294848       0.228412          45.075373   \n",
       "min       0.080000      0.000000       0.000000          55.120000   \n",
       "25%      25.000000      0.000000       0.000000          77.230000   \n",
       "50%      45.000000      0.000000       0.000000          91.850000   \n",
       "75%      61.000000      0.000000       0.000000         113.860000   \n",
       "max      82.000000      1.000000       1.000000         271.740000   \n",
       "\n",
       "               bmi       stroke  \n",
       "count  4981.000000  4981.000000  \n",
       "mean     28.498173     0.049789  \n",
       "std       6.790464     0.217531  \n",
       "min      14.000000     0.000000  \n",
       "25%      23.700000     0.000000  \n",
       "50%      28.100000     0.000000  \n",
       "75%      32.600000     0.000000  \n",
       "max      48.900000     1.000000  "
      ]
     },
     "execution_count": 3,
     "metadata": {},
     "output_type": "execute_result"
    }
   ],
   "source": [
    "df.describe()"
   ]
  },
  {
   "cell_type": "markdown",
   "id": "e4a92d74",
   "metadata": {
    "papermill": {
     "duration": 0.011366,
     "end_time": "2022-08-02T13:36:22.717958",
     "exception": false,
     "start_time": "2022-08-02T13:36:22.706592",
     "status": "completed"
    },
    "tags": []
   },
   "source": [
    "# **Checking null values**"
   ]
  },
  {
   "cell_type": "code",
   "execution_count": 4,
   "id": "52c2a371",
   "metadata": {
    "execution": {
     "iopub.execute_input": "2022-08-02T13:36:22.742842Z",
     "iopub.status.busy": "2022-08-02T13:36:22.742466Z",
     "iopub.status.idle": "2022-08-02T13:36:22.752605Z",
     "shell.execute_reply": "2022-08-02T13:36:22.751788Z"
    },
    "papermill": {
     "duration": 0.025676,
     "end_time": "2022-08-02T13:36:22.755373",
     "exception": false,
     "start_time": "2022-08-02T13:36:22.729697",
     "status": "completed"
    },
    "tags": []
   },
   "outputs": [
    {
     "data": {
      "text/plain": [
       "gender               0\n",
       "age                  0\n",
       "hypertension         0\n",
       "heart_disease        0\n",
       "ever_married         0\n",
       "work_type            0\n",
       "Residence_type       0\n",
       "avg_glucose_level    0\n",
       "bmi                  0\n",
       "smoking_status       0\n",
       "stroke               0\n",
       "dtype: int64"
      ]
     },
     "execution_count": 4,
     "metadata": {},
     "output_type": "execute_result"
    }
   ],
   "source": [
    "df.isna().sum()"
   ]
  },
  {
   "cell_type": "markdown",
   "id": "67656ebb",
   "metadata": {
    "papermill": {
     "duration": 0.011473,
     "end_time": "2022-08-02T13:36:22.782741",
     "exception": false,
     "start_time": "2022-08-02T13:36:22.771268",
     "status": "completed"
    },
    "tags": []
   },
   "source": [
    "**We don't have any null datatypes,Lets move to the next step**"
   ]
  },
  {
   "cell_type": "markdown",
   "id": "a6607770",
   "metadata": {
    "papermill": {
     "duration": 0.011618,
     "end_time": "2022-08-02T13:36:22.806307",
     "exception": false,
     "start_time": "2022-08-02T13:36:22.794689",
     "status": "completed"
    },
    "tags": []
   },
   "source": [
    "# **Data proportions**"
   ]
  },
  {
   "cell_type": "code",
   "execution_count": 5,
   "id": "d83dfe77",
   "metadata": {
    "execution": {
     "iopub.execute_input": "2022-08-02T13:36:22.835295Z",
     "iopub.status.busy": "2022-08-02T13:36:22.834911Z",
     "iopub.status.idle": "2022-08-02T13:36:22.842014Z",
     "shell.execute_reply": "2022-08-02T13:36:22.840943Z"
    },
    "papermill": {
     "duration": 0.025258,
     "end_time": "2022-08-02T13:36:22.844252",
     "exception": false,
     "start_time": "2022-08-02T13:36:22.818994",
     "status": "completed"
    },
    "tags": []
   },
   "outputs": [
    {
     "data": {
      "text/plain": [
       "array(['Male', 'Female'], dtype=object)"
      ]
     },
     "execution_count": 5,
     "metadata": {},
     "output_type": "execute_result"
    }
   ],
   "source": [
    "df['gender'].unique()"
   ]
  },
  {
   "cell_type": "code",
   "execution_count": 6,
   "id": "6290c471",
   "metadata": {
    "execution": {
     "iopub.execute_input": "2022-08-02T13:36:22.870328Z",
     "iopub.status.busy": "2022-08-02T13:36:22.869485Z",
     "iopub.status.idle": "2022-08-02T13:36:24.063378Z",
     "shell.execute_reply": "2022-08-02T13:36:24.062075Z"
    },
    "papermill": {
     "duration": 1.209774,
     "end_time": "2022-08-02T13:36:24.065825",
     "exception": false,
     "start_time": "2022-08-02T13:36:22.856051",
     "status": "completed"
    },
    "tags": []
   },
   "outputs": [
    {
     "data": {
      "image/png": "[encoded data removed]",
      "text/plain": [
       "<Figure size 432x288 with 1 Axes>"
      ]
     },
     "metadata": {},
     "output_type": "display_data"
    }
   ],
   "source": [
    "# importing libraries\n",
    "import matplotlib.pyplot as plt\n",
    "import seaborn\n",
    "\n",
    "# declaring data\n",
    "data = df['gender'].value_counts()\n",
    "keys = ['Male', 'Female']\n",
    "explode = [0, 0.1]\n",
    "# plotting data on chart\n",
    "plt.pie(data, labels=keys,explode=explode,autopct='%.0f%%')\n",
    "\n",
    "# displaying chart\n",
    "plt.show()\n"
   ]
  },
  {
   "cell_type": "markdown",
   "id": "c536ef62",
   "metadata": {
    "papermill": {
     "duration": 0.01187,
     "end_time": "2022-08-02T13:36:24.090360",
     "exception": false,
     "start_time": "2022-08-02T13:36:24.078490",
     "status": "completed"
    },
    "tags": []
   },
   "source": [
    "**The data has more male records than female records**"
   ]
  },
  {
   "cell_type": "code",
   "execution_count": 7,
   "id": "abaa0ce2",
   "metadata": {
    "execution": {
     "iopub.execute_input": "2022-08-02T13:36:24.116902Z",
     "iopub.status.busy": "2022-08-02T13:36:24.116175Z",
     "iopub.status.idle": "2022-08-02T13:36:24.132184Z",
     "shell.execute_reply": "2022-08-02T13:36:24.130935Z"
    },
    "papermill": {
     "duration": 0.032189,
     "end_time": "2022-08-02T13:36:24.134691",
     "exception": false,
     "start_time": "2022-08-02T13:36:24.102502",
     "status": "completed"
    },
    "tags": []
   },
   "outputs": [
    {
     "name": "stdout",
     "output_type": "stream",
     "text": [
      "Overall peoples affected by strokes: 248\n",
      "proportion of males: 108\n",
      "proportion of females: 140\n"
     ]
    }
   ],
   "source": [
    "stroke=[1]\n",
    "gender=['Male','Female']\n",
    "peoplesaffected_by_stroke=df.loc[df['stroke'].isin(stroke)]\n",
    "males=len(peoplesaffected_by_stroke[peoplesaffected_by_stroke['gender']==gender[0]])\n",
    "females=len(peoplesaffected_by_stroke[peoplesaffected_by_stroke['gender']==gender[1]])\n",
    "print('Overall peoples affected by strokes:',len(peoplesaffected_by_stroke))\n",
    "print('proportion of males:',males)\n",
    "print('proportion of females:',females)"
   ]
  },
  {
   "cell_type": "markdown",
   "id": "14bbd9c8",
   "metadata": {
    "papermill": {
     "duration": 0.011779,
     "end_time": "2022-08-02T13:36:24.158720",
     "exception": false,
     "start_time": "2022-08-02T13:36:24.146941",
     "status": "completed"
    },
    "tags": []
   },
   "source": [
    "**With this insight we're judging here,Females are more affected by brain strokes**"
   ]
  },
  {
   "cell_type": "markdown",
   "id": "0e51baa4",
   "metadata": {
    "papermill": {
     "duration": 0.01186,
     "end_time": "2022-08-02T13:36:24.182694",
     "exception": false,
     "start_time": "2022-08-02T13:36:24.170834",
     "status": "completed"
    },
    "tags": []
   },
   "source": [
    "# **Smoking status**"
   ]
  },
  {
   "cell_type": "code",
   "execution_count": 8,
   "id": "fefe8e39",
   "metadata": {
    "execution": {
     "iopub.execute_input": "2022-08-02T13:36:24.209449Z",
     "iopub.status.busy": "2022-08-02T13:36:24.208660Z",
     "iopub.status.idle": "2022-08-02T13:36:24.216382Z",
     "shell.execute_reply": "2022-08-02T13:36:24.215469Z"
    },
    "papermill": {
     "duration": 0.0235,
     "end_time": "2022-08-02T13:36:24.218475",
     "exception": false,
     "start_time": "2022-08-02T13:36:24.194975",
     "status": "completed"
    },
    "tags": []
   },
   "outputs": [
    {
     "data": {
      "text/plain": [
       "array(['formerly smoked', 'never smoked', 'smokes', 'Unknown'],\n",
       "      dtype=object)"
      ]
     },
     "execution_count": 8,
     "metadata": {},
     "output_type": "execute_result"
    }
   ],
   "source": [
    "df['smoking_status'].unique()"
   ]
  },
  {
   "cell_type": "code",
   "execution_count": 9,
   "id": "5ce31a3c",
   "metadata": {
    "execution": {
     "iopub.execute_input": "2022-08-02T13:36:24.245123Z",
     "iopub.status.busy": "2022-08-02T13:36:24.244430Z",
     "iopub.status.idle": "2022-08-02T13:36:24.255200Z",
     "shell.execute_reply": "2022-08-02T13:36:24.253905Z"
    },
    "papermill": {
     "duration": 0.027006,
     "end_time": "2022-08-02T13:36:24.257728",
     "exception": false,
     "start_time": "2022-08-02T13:36:24.230722",
     "status": "completed"
    },
    "tags": []
   },
   "outputs": [
    {
     "name": "stdout",
     "output_type": "stream",
     "text": [
      "never_smoked: 89\n",
      "formerly_smoked: 70\n",
      "smoked: 42\n",
      "Unknown: 47\n"
     ]
    }
   ],
   "source": [
    "smoking_status=['formerly smoked','never smoked','smokes','Unknown']\n",
    "never_smoked=len(peoplesaffected_by_stroke[peoplesaffected_by_stroke['smoking_status']==smoking_status[1]])\n",
    "formerly_smoked=len(peoplesaffected_by_stroke[peoplesaffected_by_stroke['smoking_status']==smoking_status[0]])\n",
    "smoked=len(peoplesaffected_by_stroke[peoplesaffected_by_stroke['smoking_status']==smoking_status[2]])\n",
    "unknown=len(peoplesaffected_by_stroke[peoplesaffected_by_stroke['smoking_status']==smoking_status[3]])\n",
    "print('never_smoked:',never_smoked)\n",
    "print('formerly_smoked:',formerly_smoked)\n",
    "print('smoked:',smoked)\n",
    "print('Unknown:',unknown)"
   ]
  },
  {
   "cell_type": "code",
   "execution_count": 10,
   "id": "8ccae998",
   "metadata": {
    "execution": {
     "iopub.execute_input": "2022-08-02T13:36:24.284346Z",
     "iopub.status.busy": "2022-08-02T13:36:24.283938Z",
     "iopub.status.idle": "2022-08-02T13:36:24.292452Z",
     "shell.execute_reply": "2022-08-02T13:36:24.291632Z"
    },
    "papermill": {
     "duration": 0.02416,
     "end_time": "2022-08-02T13:36:24.294472",
     "exception": false,
     "start_time": "2022-08-02T13:36:24.270312",
     "status": "completed"
    },
    "tags": []
   },
   "outputs": [
    {
     "data": {
      "text/plain": [
       "Yes    3280\n",
       "No     1701\n",
       "Name: ever_married, dtype: int64"
      ]
     },
     "execution_count": 10,
     "metadata": {},
     "output_type": "execute_result"
    }
   ],
   "source": [
    "df['ever_married'].value_counts()"
   ]
  },
  {
   "cell_type": "code",
   "execution_count": 11,
   "id": "981e3c60",
   "metadata": {
    "execution": {
     "iopub.execute_input": "2022-08-02T13:36:24.321920Z",
     "iopub.status.busy": "2022-08-02T13:36:24.321221Z",
     "iopub.status.idle": "2022-08-02T13:36:24.329285Z",
     "shell.execute_reply": "2022-08-02T13:36:24.328062Z"
    },
    "papermill": {
     "duration": 0.024327,
     "end_time": "2022-08-02T13:36:24.331465",
     "exception": false,
     "start_time": "2022-08-02T13:36:24.307138",
     "status": "completed"
    },
    "tags": []
   },
   "outputs": [
    {
     "name": "stdout",
     "output_type": "stream",
     "text": [
      "Married: 219\n",
      "Not married: 29\n"
     ]
    }
   ],
   "source": [
    "marriage_status=['Yes','No']\n",
    "married=len(peoplesaffected_by_stroke[peoplesaffected_by_stroke['ever_married']==marriage_status[0]])\n",
    "not_married=len(peoplesaffected_by_stroke[peoplesaffected_by_stroke['ever_married']==marriage_status[1]])\n",
    "print(\"Married:\",married)\n",
    "print('Not married:',not_married)"
   ]
  },
  {
   "cell_type": "markdown",
   "id": "cf5acba4",
   "metadata": {
    "papermill": {
     "duration": 0.012175,
     "end_time": "2022-08-02T13:36:24.356300",
     "exception": false,
     "start_time": "2022-08-02T13:36:24.344125",
     "status": "completed"
    },
    "tags": []
   },
   "source": [
    "**Lot of married guys are affected by brain stroke!!** **Be aware married guys😁**"
   ]
  },
  {
   "cell_type": "code",
   "execution_count": 12,
   "id": "98e0706a",
   "metadata": {
    "execution": {
     "iopub.execute_input": "2022-08-02T13:36:24.383233Z",
     "iopub.status.busy": "2022-08-02T13:36:24.382464Z",
     "iopub.status.idle": "2022-08-02T13:36:26.686104Z",
     "shell.execute_reply": "2022-08-02T13:36:26.684948Z"
    },
    "papermill": {
     "duration": 2.320034,
     "end_time": "2022-08-02T13:36:26.688729",
     "exception": false,
     "start_time": "2022-08-02T13:36:24.368695",
     "status": "completed"
    },
    "tags": []
   },
   "outputs": [
    {
     "name": "stderr",
     "output_type": "stream",
     "text": [
      "/opt/conda/lib/python3.7/site-packages/geopandas/_compat.py:115: UserWarning:\n",
      "\n",
      "The Shapely GEOS version (3.9.1-CAPI-1.14.2) is incompatible with the GEOS version PyGEOS was compiled with (3.10.1-CAPI-1.16.0). Conversions between both will be slow.\n",
      "\n"
     ]
    },
    {
     "data": {
      "text/html": [
       "        <script type=\"text/javascript\">\n",
       "        window.PlotlyConfig = {MathJaxConfig: 'local'};\n",
       "        if (window.MathJax && window.MathJax.Hub && window.MathJax.Hub.Config) {window.MathJax.Hub.Config({SVG: {font: \"STIX-Web\"}});}\n",
       "        if (typeof require !== 'undefined') {\n",
       "        require.undef(\"plotly\");\n",
       "        requirejs.config({\n",
       "            paths: {\n",
       "                'plotly': ['https://cdn.plot.ly/plotly-2.12.1.min']\n",
       "            }\n",
       "        });\n",
       "        require(['plotly'], function(Plotly) {\n",
       "            window._Plotly = Plotly;\n",
       "        });\n",
       "        }\n",
       "        </script>\n",
       "        "
      ]
     },
     "metadata": {},
     "output_type": "display_data"
    }
   ],
   "source": [
    "\n",
    "import cufflinks as cf\n",
    "cf.go_offline()\n",
    "cf.set_config_file(offline=False, world_readable=True)"
   ]
  },
  {
   "cell_type": "code",
   "execution_count": 13,
   "id": "496a8734",
   "metadata": {
    "execution": {
     "iopub.execute_input": "2022-08-02T13:36:26.717143Z",
     "iopub.status.busy": "2022-08-02T13:36:26.715919Z",
     "iopub.status.idle": "2022-08-02T13:36:27.528225Z",
     "shell.execute_reply": "2022-08-02T13:36:27.527092Z"
    },
    "papermill": {
     "duration": 0.82967,
     "end_time": "2022-08-02T13:36:27.531420",
     "exception": false,
     "start_time": "2022-08-02T13:36:26.701750",
     "status": "completed"
    },
    "tags": []
   },
   "outputs": [
    {
     "data": {
      "application/vnd.plotly.v1+json": {
       "config": {
        "linkText": "Export to plot.ly",
        "plotlyServerURL": "https://plot.ly",
        "showLink": true
       },
       "data": [
        {
         "histfunc": "count",
         "histnorm": "",
         "marker": {
          "color": "rgba(255, 153, 51, 1.0)",
          "line": {
           "color": "#4D5663",
           "width": 1.3
          }
         },
         "name": "male_age",
         "nbinsx": 20,
         "opacity": 0.8,
         "orientation": "v",
         "type": "histogram",
         "x": [
          67.0,
          80.0,
          null,
          null,
          81.0,
          74.0,
          null,
          null,
          null,
          null,
          null,
          null,
          null,
          64.0,
          75.0,
          null,
          null,
          null,
          null,
          82.0,
          71.0,
          80.0,
          null,
          69.0,
          57.0,
          42.0,
          null,
          80.0,
          48.0,
          null,
          74.0,
          null,
          58.0,
          null,
          78.0,
          54.0,
          82.0,
          60.0,
          76.0,
          null,
          81.0,
          null,
          null,
          null,
          63.0,
          null,
          73.0,
          null,
          null,
          null,
          null,
          null,
          78.0,
          null,
          76.0,
          59.0,
          null,
          null,
          null,
          63.0,
          null,
          null,
          80.0,
          null,
          43.0,
          59.0,
          null,
          null,
          54.0,
          61.0,
          null,
          47.0,
          74.0,
          null,
          81.0,
          null,
          null,
          45.0,
          null,
          null,
          58.0,
          57.0,
          null,
          64.0,
          null,
          null,
          null,
          null,
          null,
          null,
          null,
          null,
          79.0,
          80.0,
          null,
          71.0,
          61.0,
          74.0,
          null,
          null,
          null,
          null,
          80.0,
          56.0,
          null,
          null,
          82.0,
          null,
          null,
          69.0,
          null,
          null,
          76.0,
          null,
          76.0,
          null,
          82.0,
          null,
          null,
          null,
          null,
          66.0,
          null,
          null,
          null,
          68.0,
          null,
          68.0,
          null,
          null,
          null,
          null,
          null,
          null,
          null,
          null,
          78.0,
          null,
          null,
          81.0,
          null,
          null,
          72.0,
          null,
          78.0,
          81.0,
          null,
          59.0,
          null,
          61.0,
          63.0,
          63.0,
          null,
          82.0,
          null,
          51.0,
          59.0,
          68.0,
          null,
          59.0,
          70.0,
          69.0,
          null,
          80.0,
          null,
          null,
          54.0,
          null,
          null,
          78.0,
          78.0,
          null,
          null,
          null,
          63.0,
          null,
          null,
          null,
          78.0,
          null,
          73.0,
          81.0,
          79.0,
          null,
          null,
          49.0,
          null,
          null,
          null,
          null,
          null,
          null,
          null,
          null,
          78.0,
          null,
          57.0,
          77.0,
          null,
          60.0,
          66.0,
          57.0,
          68.0,
          null,
          57.0,
          null,
          null,
          null,
          null,
          null,
          78.0,
          57.0,
          58.0,
          59.0,
          null,
          null,
          null,
          78.0,
          null,
          78.0,
          75.0,
          null,
          null,
          null,
          58.0,
          58.0,
          null,
          null,
          78.0,
          null,
          null,
          65.0,
          null,
          null,
          71.0,
          null,
          79.0,
          64.0,
          null,
          null,
          null,
          null,
          61.0,
          79.0,
          74.0,
          null,
          74.0,
          71.0
         ]
        },
        {
         "histfunc": "count",
         "histnorm": "",
         "marker": {
          "color": "rgba(55, 128, 191, 1.0)",
          "line": {
           "color": "#4D5663",
           "width": 1.3
          }
         },
         "name": "female_age",
         "nbinsx": 20,
         "opacity": 0.8,
         "orientation": "v",
         "type": "histogram",
         "x": [
          null,
          null,
          49.0,
          79.0,
          null,
          null,
          69.0,
          78.0,
          81.0,
          61.0,
          54.0,
          79.0,
          50.0,
          null,
          null,
          60.0,
          71.0,
          52.0,
          79.0,
          null,
          null,
          null,
          65.0,
          null,
          null,
          null,
          82.0,
          null,
          null,
          82.0,
          null,
          72.0,
          null,
          49.0,
          null,
          null,
          null,
          null,
          null,
          58.0,
          null,
          39.0,
          79.0,
          77.0,
          null,
          82.0,
          null,
          54.0,
          56.0,
          80.0,
          67.0,
          45.0,
          null,
          70.0,
          null,
          null,
          80.0,
          67.0,
          66.0,
          null,
          52.0,
          80.0,
          null,
          79.0,
          null,
          null,
          79.0,
          68.0,
          null,
          null,
          70.0,
          null,
          null,
          79.0,
          null,
          57.0,
          80.0,
          null,
          78.0,
          70.0,
          null,
          null,
          69.0,
          null,
          77.0,
          74.0,
          81.0,
          57.0,
          50.0,
          54.0,
          79.0,
          53.0,
          null,
          null,
          68.0,
          null,
          null,
          null,
          38.0,
          77.0,
          58.0,
          53.0,
          null,
          null,
          72.0,
          80.0,
          null,
          73.0,
          78.0,
          null,
          68.0,
          71.0,
          null,
          76.0,
          null,
          75.0,
          null,
          59.0,
          74.0,
          69.0,
          72.0,
          null,
          78.0,
          57.0,
          70.0,
          null,
          80.0,
          null,
          55.0,
          77.0,
          50.0,
          57.0,
          71.0,
          81.0,
          78.0,
          70.0,
          null,
          56.0,
          79.0,
          null,
          60.0,
          80.0,
          null,
          80.0,
          null,
          null,
          46.0,
          null,
          32.0,
          null,
          null,
          null,
          82.0,
          null,
          65.0,
          null,
          null,
          null,
          72.0,
          null,
          null,
          null,
          74.0,
          null,
          77.0,
          78.0,
          null,
          78.0,
          81.0,
          null,
          null,
          63.0,
          39.0,
          51.0,
          null,
          48.0,
          81.0,
          79.0,
          null,
          55.0,
          null,
          null,
          null,
          63.0,
          81.0,
          null,
          57.0,
          81.0,
          39.0,
          80.0,
          81.0,
          79.0,
          73.0,
          77.0,
          null,
          68.0,
          null,
          null,
          51.0,
          null,
          null,
          null,
          null,
          68.0,
          null,
          14.0,
          75.0,
          78.0,
          61.0,
          59.0,
          null,
          null,
          null,
          null,
          63.0,
          75.0,
          76.0,
          null,
          63.0,
          null,
          null,
          76.0,
          51.0,
          66.0,
          null,
          null,
          76.0,
          72.0,
          null,
          75.0,
          38.0,
          null,
          79.0,
          76.0,
          null,
          1.32,
          null,
          null,
          79.0,
          78.0,
          80.0,
          77.0,
          null,
          null,
          null,
          76.0,
          null,
          null
         ]
        }
       ],
       "layout": {
        "barmode": "overlay",
        "legend": {
         "bgcolor": "#FFFFFF",
         "font": {
          "color": "#4D5663"
         }
        },
        "paper_bgcolor": "#FFFFFF",
        "plot_bgcolor": "#FFFFFF",
        "template": {
         "data": {
          "bar": [
           {
            "error_x": {
             "color": "#2a3f5f"
            },
            "error_y": {
             "color": "#2a3f5f"
            },
            "marker": {
             "line": {
              "color": "#E5ECF6",
              "width": 0.5
             },
             "pattern": {
              "fillmode": "overlay",
              "size": 10,
              "solidity": 0.2
             }
            },
            "type": "bar"
           }
          ],
          "barpolar": [
           {
            "marker": {
             "line": {
              "color": "#E5ECF6",
              "width": 0.5
             },
             "pattern": {
              "fillmode": "overlay",
              "size": 10,
              "solidity": 0.2
             }
            },
            "type": "barpolar"
           }
          ],
          "carpet": [
           {
            "aaxis": {
             "endlinecolor": "#2a3f5f",
             "gridcolor": "white",
             "linecolor": "white",
             "minorgridcolor": "white",
             "startlinecolor": "#2a3f5f"
            },
            "baxis": {
             "endlinecolor": "#2a3f5f",
             "gridcolor": "white",
             "linecolor": "white",
             "minorgridcolor": "white",
             "startlinecolor": "#2a3f5f"
            },
            "type": "carpet"
           }
          ],
          "choropleth": [
           {
            "colorbar": {
             "outlinewidth": 0,
             "ticks": ""
            },
            "type": "choropleth"
           }
          ],
          "contour": [
           {
            "colorbar": {
             "outlinewidth": 0,
             "ticks": ""
            },
            "colorscale": [
             [
              0.0,
              "#0d0887"
             ],
             [
              0.1111111111111111,
              "#46039f"
             ],
             [
              0.2222222222222222,
              "#7201a8"
             ],
             [
              0.3333333333333333,
              "#9c179e"
             ],
             [
              0.4444444444444444,
              "#bd3786"
             ],
             [
              0.5555555555555556,
              "#d8576b"
             ],
             [
              0.6666666666666666,
              "#ed7953"
             ],
             [
              0.7777777777777778,
              "#fb9f3a"
             ],
             [
              0.8888888888888888,
              "#fdca26"
             ],
             [
              1.0,
              "#f0f921"
             ]
            ],
            "type": "contour"
           }
          ],
          "contourcarpet": [
           {
            "colorbar": {
             "outlinewidth": 0,
             "ticks": ""
            },
            "type": "contourcarpet"
           }
          ],
          "heatmap": [
           {
            "colorbar": {
             "outlinewidth": 0,
             "ticks": ""
            },
            "colorscale": [
             [
              0.0,
              "#0d0887"
             ],
             [
              0.1111111111111111,
              "#46039f"
             ],
             [
              0.2222222222222222,
              "#7201a8"
             ],
             [
              0.3333333333333333,
              "#9c179e"
             ],
             [
              0.4444444444444444,
              "#bd3786"
             ],
             [
              0.5555555555555556,
              "#d8576b"
             ],
             [
              0.6666666666666666,
              "#ed7953"
             ],
             [
              0.7777777777777778,
              "#fb9f3a"
             ],
             [
              0.8888888888888888,
              "#fdca26"
             ],
             [
              1.0,
              "#f0f921"
             ]
            ],
            "type": "heatmap"
           }
          ],
          "heatmapgl": [
           {
            "colorbar": {
             "outlinewidth": 0,
             "ticks": ""
            },
            "colorscale": [
             [
              0.0,
              "#0d0887"
             ],
             [
              0.1111111111111111,
              "#46039f"
             ],
             [
              0.2222222222222222,
              "#7201a8"
             ],
             [
              0.3333333333333333,
              "#9c179e"
             ],
             [
              0.4444444444444444,
              "#bd3786"
             ],
             [
              0.5555555555555556,
              "#d8576b"
             ],
             [
              0.6666666666666666,
              "#ed7953"
             ],
             [
              0.7777777777777778,
              "#fb9f3a"
             ],
             [
              0.8888888888888888,
              "#fdca26"
             ],
             [
              1.0,
              "#f0f921"
             ]
            ],
            "type": "heatmapgl"
           }
          ],
          "histogram": [
           {
            "marker": {
             "pattern": {
              "fillmode": "overlay",
              "size": 10,
              "solidity": 0.2
             }
            },
            "type": "histogram"
           }
          ],
          "histogram2d": [
           {
            "colorbar": {
             "outlinewidth": 0,
             "ticks": ""
            },
            "colorscale": [
             [
              0.0,
              "#0d0887"
             ],
             [
              0.1111111111111111,
              "#46039f"
             ],
             [
              0.2222222222222222,
              "#7201a8"
             ],
             [
              0.3333333333333333,
              "#9c179e"
             ],
             [
              0.4444444444444444,
              "#bd3786"
             ],
             [
              0.5555555555555556,
              "#d8576b"
             ],
             [
              0.6666666666666666,
              "#ed7953"
             ],
             [
              0.7777777777777778,
              "#fb9f3a"
             ],
             [
              0.8888888888888888,
              "#fdca26"
             ],
             [
              1.0,
              "#f0f921"
             ]
            ],
            "type": "histogram2d"
           }
          ],
          "histogram2dcontour": [
           {
            "colorbar": {
             "outlinewidth": 0,
             "ticks": ""
            },
            "colorscale": [
             [
              0.0,
              "#0d0887"
             ],
             [
              0.1111111111111111,
              "#46039f"
             ],
             [
              0.2222222222222222,
              "#7201a8"
             ],
             [
              0.3333333333333333,
              "#9c179e"
             ],
             [
              0.4444444444444444,
              "#bd3786"
             ],
             [
              0.5555555555555556,
              "#d8576b"
             ],
             [
              0.6666666666666666,
              "#ed7953"
             ],
             [
              0.7777777777777778,
              "#fb9f3a"
             ],
             [
              0.8888888888888888,
              "#fdca26"
             ],
             [
              1.0,
              "#f0f921"
             ]
            ],
            "type": "histogram2dcontour"
           }
          ],
          "mesh3d": [
           {
            "colorbar": {
             "outlinewidth": 0,
             "ticks": ""
            },
            "type": "mesh3d"
           }
          ],
          "parcoords": [
           {
            "line": {
             "colorbar": {
              "outlinewidth": 0,
              "ticks": ""
             }
            },
            "type": "parcoords"
           }
          ],
          "pie": [
           {
            "automargin": true,
            "type": "pie"
           }
          ],
          "scatter": [
           {
            "fillpattern": {
             "fillmode": "overlay",
             "size": 10,
             "solidity": 0.2
            },
            "type": "scatter"
           }
          ],
          "scatter3d": [
           {
            "line": {
             "colorbar": {
              "outlinewidth": 0,
              "ticks": ""
             }
            },
            "marker": {
             "colorbar": {
              "outlinewidth": 0,
              "ticks": ""
             }
            },
            "type": "scatter3d"
           }
          ],
          "scattercarpet": [
           {
            "marker": {
             "colorbar": {
              "outlinewidth": 0,
              "ticks": ""
             }
            },
            "type": "scattercarpet"
           }
          ],
          "scattergeo": [
           {
            "marker": {
             "colorbar": {
              "outlinewidth": 0,
              "ticks": ""
             }
            },
            "type": "scattergeo"
           }
          ],
          "scattergl": [
           {
            "marker": {
             "colorbar": {
              "outlinewidth": 0,
              "ticks": ""
             }
            },
            "type": "scattergl"
           }
          ],
          "scattermapbox": [
           {
            "marker": {
             "colorbar": {
              "outlinewidth": 0,
              "ticks": ""
             }
            },
            "type": "scattermapbox"
           }
          ],
          "scatterpolar": [
           {
            "marker": {
             "colorbar": {
              "outlinewidth": 0,
              "ticks": ""
             }
            },
            "type": "scatterpolar"
           }
          ],
          "scatterpolargl": [
           {
            "marker": {
             "colorbar": {
              "outlinewidth": 0,
              "ticks": ""
             }
            },
            "type": "scatterpolargl"
           }
          ],
          "scatterternary": [
           {
            "marker": {
             "colorbar": {
              "outlinewidth": 0,
              "ticks": ""
             }
            },
            "type": "scatterternary"
           }
          ],
          "surface": [
           {
            "colorbar": {
             "outlinewidth": 0,
             "ticks": ""
            },
            "colorscale": [
             [
              0.0,
              "#0d0887"
             ],
             [
              0.1111111111111111,
              "#46039f"
             ],
             [
              0.2222222222222222,
              "#7201a8"
             ],
             [
              0.3333333333333333,
              "#9c179e"
             ],
             [
              0.4444444444444444,
              "#bd3786"
             ],
             [
              0.5555555555555556,
              "#d8576b"
             ],
             [
              0.6666666666666666,
              "#ed7953"
             ],
             [
              0.7777777777777778,
              "#fb9f3a"
             ],
             [
              0.8888888888888888,
              "#fdca26"
             ],
             [
              1.0,
              "#f0f921"
             ]
            ],
            "type": "surface"
           }
          ],
          "table": [
           {
            "cells": {
             "fill": {
              "color": "#EBF0F8"
             },
             "line": {
              "color": "white"
             }
            },
            "header": {
             "fill": {
              "color": "#C8D4E3"
             },
             "line": {
              "color": "white"
             }
            },
            "type": "table"
           }
          ]
         },
         "layout": {
          "annotationdefaults": {
           "arrowcolor": "#2a3f5f",
           "arrowhead": 0,
           "arrowwidth": 1
          },
          "autotypenumbers": "strict",
          "coloraxis": {
           "colorbar": {
            "outlinewidth": 0,
            "ticks": ""
           }
          },
          "colorscale": {
           "diverging": [
            [
             0,
             "#8e0152"
            ],
            [
             0.1,
             "#c51b7d"
            ],
            [
             0.2,
             "#de77ae"
            ],
            [
             0.3,
             "#f1b6da"
            ],
            [
             0.4,
             "#fde0ef"
            ],
            [
             0.5,
             "#f7f7f7"
            ],
            [
             0.6,
             "#e6f5d0"
            ],
            [
             0.7,
             "#b8e186"
            ],
            [
             0.8,
             "#7fbc41"
            ],
            [
             0.9,
             "#4d9221"
            ],
            [
             1,
             "#276419"
            ]
           ],
           "sequential": [
            [
             0.0,
             "#0d0887"
            ],
            [
             0.1111111111111111,
             "#46039f"
            ],
            [
             0.2222222222222222,
             "#7201a8"
            ],
            [
             0.3333333333333333,
             "#9c179e"
            ],
            [
             0.4444444444444444,
             "#bd3786"
            ],
            [
             0.5555555555555556,
             "#d8576b"
            ],
            [
             0.6666666666666666,
             "#ed7953"
            ],
            [
             0.7777777777777778,
             "#fb9f3a"
            ],
            [
             0.8888888888888888,
             "#fdca26"
            ],
            [
             1.0,
             "#f0f921"
            ]
           ],
           "sequentialminus": [
            [
             0.0,
             "#0d0887"
            ],
            [
             0.1111111111111111,
             "#46039f"
            ],
            [
             0.2222222222222222,
             "#7201a8"
            ],
            [
             0.3333333333333333,
             "#9c179e"
            ],
            [
             0.4444444444444444,
             "#bd3786"
            ],
            [
             0.5555555555555556,
             "#d8576b"
            ],
            [
             0.6666666666666666,
             "#ed7953"
            ],
            [
             0.7777777777777778,
             "#fb9f3a"
            ],
            [
             0.8888888888888888,
             "#fdca26"
            ],
            [
             1.0,
             "#f0f921"
            ]
           ]
          },
          "colorway": [
           "#636efa",
           "#EF553B",
           "#00cc96",
           "#ab63fa",
           "#FFA15A",
           "#19d3f3",
           "#FF6692",
           "#B6E880",
           "#FF97FF",
           "#FECB52"
          ],
          "font": {
           "color": "#2a3f5f"
          },
          "geo": {
           "bgcolor": "white",
           "lakecolor": "white",
           "landcolor": "#E5ECF6",
           "showlakes": true,
           "showland": true,
           "subunitcolor": "white"
          },
          "hoverlabel": {
           "align": "left"
          },
          "hovermode": "closest",
          "mapbox": {
           "style": "light"
          },
          "paper_bgcolor": "white",
          "plot_bgcolor": "#E5ECF6",
          "polar": {
           "angularaxis": {
            "gridcolor": "white",
            "linecolor": "white",
            "ticks": ""
           },
           "bgcolor": "#E5ECF6",
           "radialaxis": {
            "gridcolor": "white",
            "linecolor": "white",
            "ticks": ""
           }
          },
          "scene": {
           "xaxis": {
            "backgroundcolor": "#E5ECF6",
            "gridcolor": "white",
            "gridwidth": 2,
            "linecolor": "white",
            "showbackground": true,
            "ticks": "",
            "zerolinecolor": "white"
           },
           "yaxis": {
            "backgroundcolor": "#E5ECF6",
            "gridcolor": "white",
            "gridwidth": 2,
            "linecolor": "white",
            "showbackground": true,
            "ticks": "",
            "zerolinecolor": "white"
           },
           "zaxis": {
            "backgroundcolor": "#E5ECF6",
            "gridcolor": "white",
            "gridwidth": 2,
            "linecolor": "white",
            "showbackground": true,
            "ticks": "",
            "zerolinecolor": "white"
           }
          },
          "shapedefaults": {
           "line": {
            "color": "#2a3f5f"
           }
          },
          "ternary": {
           "aaxis": {
            "gridcolor": "white",
            "linecolor": "white",
            "ticks": ""
           },
           "baxis": {
            "gridcolor": "white",
            "linecolor": "white",
            "ticks": ""
           },
           "bgcolor": "#E5ECF6",
           "caxis": {
            "gridcolor": "white",
            "linecolor": "white",
            "ticks": ""
           }
          },
          "title": {
           "x": 0.05
          },
          "xaxis": {
           "automargin": true,
           "gridcolor": "white",
           "linecolor": "white",
           "ticks": "",
           "title": {
            "standoff": 15
           },
           "zerolinecolor": "white",
           "zerolinewidth": 2
          },
          "yaxis": {
           "automargin": true,
           "gridcolor": "white",
           "linecolor": "white",
           "ticks": "",
           "title": {
            "standoff": 15
           },
           "zerolinecolor": "white",
           "zerolinewidth": 2
          }
         }
        },
        "title": {
         "font": {
          "color": "#4D5663"
         },
         "text": "Stroke Ages"
        },
        "xaxis": {
         "gridcolor": "#E1E5ED",
         "showgrid": true,
         "tickfont": {
          "color": "#4D5663"
         },
         "title": {
          "font": {
           "color": "#4D5663"
          },
          "text": "Ages"
         },
         "zerolinecolor": "#E1E5ED"
        },
        "yaxis": {
         "gridcolor": "#E1E5ED",
         "showgrid": true,
         "tickfont": {
          "color": "#4D5663"
         },
         "title": {
          "font": {
           "color": "#4D5663"
          },
          "text": "Count"
         },
         "zerolinecolor": "#E1E5ED"
        }
       }
      },
      "text/html": [
       "<div>                            <div id=\"4431e60c-6c59-4066-bab0-9cc9e90fe086\" class=\"plotly-graph-div\" style=\"height:525px; width:100%;\"></div>            <script type=\"text/javascript\">                require([\"plotly\"], function(Plotly) {                    window.PLOTLYENV=window.PLOTLYENV || {};\n",
       "                    window.PLOTLYENV.BASE_URL='https://plot.ly';                                    if (document.getElementById(\"4431e60c-6c59-4066-bab0-9cc9e90fe086\")) {                    Plotly.newPlot(                        \"4431e60c-6c59-4066-bab0-9cc9e90fe086\",                        [{\"histfunc\":\"count\",\"histnorm\":\"\",\"marker\":{\"color\":\"rgba(255, 153, 51, 1.0)\",\"line\":{\"color\":\"#4D5663\",\"width\":1.3}},\"name\":\"male_age\",\"nbinsx\":20,\"opacity\":0.8,\"orientation\":\"v\",\"x\":[67.0,80.0,null,null,81.0,74.0,null,null,null,null,null,null,null,64.0,75.0,null,null,null,null,82.0,71.0,80.0,null,69.0,57.0,42.0,null,80.0,48.0,null,74.0,null,58.0,null,78.0,54.0,82.0,60.0,76.0,null,81.0,null,null,null,63.0,null,73.0,null,null,null,null,null,78.0,null,76.0,59.0,null,null,null,63.0,null,null,80.0,null,43.0,59.0,null,null,54.0,61.0,null,47.0,74.0,null,81.0,null,null,45.0,null,null,58.0,57.0,null,64.0,null,null,null,null,null,null,null,null,79.0,80.0,null,71.0,61.0,74.0,null,null,null,null,80.0,56.0,null,null,82.0,null,null,69.0,null,null,76.0,null,76.0,null,82.0,null,null,null,null,66.0,null,null,null,68.0,null,68.0,null,null,null,null,null,null,null,null,78.0,null,null,81.0,null,null,72.0,null,78.0,81.0,null,59.0,null,61.0,63.0,63.0,null,82.0,null,51.0,59.0,68.0,null,59.0,70.0,69.0,null,80.0,null,null,54.0,null,null,78.0,78.0,null,null,null,63.0,null,null,null,78.0,null,73.0,81.0,79.0,null,null,49.0,null,null,null,null,null,null,null,null,78.0,null,57.0,77.0,null,60.0,66.0,57.0,68.0,null,57.0,null,null,null,null,null,78.0,57.0,58.0,59.0,null,null,null,78.0,null,78.0,75.0,null,null,null,58.0,58.0,null,null,78.0,null,null,65.0,null,null,71.0,null,79.0,64.0,null,null,null,null,61.0,79.0,74.0,null,74.0,71.0],\"type\":\"histogram\"},{\"histfunc\":\"count\",\"histnorm\":\"\",\"marker\":{\"color\":\"rgba(55, 128, 191, 1.0)\",\"line\":{\"color\":\"#4D5663\",\"width\":1.3}},\"name\":\"female_age\",\"nbinsx\":20,\"opacity\":0.8,\"orientation\":\"v\",\"x\":[null,null,49.0,79.0,null,null,69.0,78.0,81.0,61.0,54.0,79.0,50.0,null,null,60.0,71.0,52.0,79.0,null,null,null,65.0,null,null,null,82.0,null,null,82.0,null,72.0,null,49.0,null,null,null,null,null,58.0,null,39.0,79.0,77.0,null,82.0,null,54.0,56.0,80.0,67.0,45.0,null,70.0,null,null,80.0,67.0,66.0,null,52.0,80.0,null,79.0,null,null,79.0,68.0,null,null,70.0,null,null,79.0,null,57.0,80.0,null,78.0,70.0,null,null,69.0,null,77.0,74.0,81.0,57.0,50.0,54.0,79.0,53.0,null,null,68.0,null,null,null,38.0,77.0,58.0,53.0,null,null,72.0,80.0,null,73.0,78.0,null,68.0,71.0,null,76.0,null,75.0,null,59.0,74.0,69.0,72.0,null,78.0,57.0,70.0,null,80.0,null,55.0,77.0,50.0,57.0,71.0,81.0,78.0,70.0,null,56.0,79.0,null,60.0,80.0,null,80.0,null,null,46.0,null,32.0,null,null,null,82.0,null,65.0,null,null,null,72.0,null,null,null,74.0,null,77.0,78.0,null,78.0,81.0,null,null,63.0,39.0,51.0,null,48.0,81.0,79.0,null,55.0,null,null,null,63.0,81.0,null,57.0,81.0,39.0,80.0,81.0,79.0,73.0,77.0,null,68.0,null,null,51.0,null,null,null,null,68.0,null,14.0,75.0,78.0,61.0,59.0,null,null,null,null,63.0,75.0,76.0,null,63.0,null,null,76.0,51.0,66.0,null,null,76.0,72.0,null,75.0,38.0,null,79.0,76.0,null,1.32,null,null,79.0,78.0,80.0,77.0,null,null,null,76.0,null,null],\"type\":\"histogram\"}],                        {\"barmode\":\"overlay\",\"legend\":{\"bgcolor\":\"#FFFFFF\",\"font\":{\"color\":\"#4D5663\"}},\"paper_bgcolor\":\"#FFFFFF\",\"plot_bgcolor\":\"#FFFFFF\",\"template\":{\"data\":{\"barpolar\":[{\"marker\":{\"line\":{\"color\":\"#E5ECF6\",\"width\":0.5},\"pattern\":{\"fillmode\":\"overlay\",\"size\":10,\"solidity\":0.2}},\"type\":\"barpolar\"}],\"bar\":[{\"error_x\":{\"color\":\"#2a3f5f\"},\"error_y\":{\"color\":\"#2a3f5f\"},\"marker\":{\"line\":{\"color\":\"#E5ECF6\",\"width\":0.5},\"pattern\":{\"fillmode\":\"overlay\",\"size\":10,\"solidity\":0.2}},\"type\":\"bar\"}],\"carpet\":[{\"aaxis\":{\"endlinecolor\":\"#2a3f5f\",\"gridcolor\":\"white\",\"linecolor\":\"white\",\"minorgridcolor\":\"white\",\"startlinecolor\":\"#2a3f5f\"},\"baxis\":{\"endlinecolor\":\"#2a3f5f\",\"gridcolor\":\"white\",\"linecolor\":\"white\",\"minorgridcolor\":\"white\",\"startlinecolor\":\"#2a3f5f\"},\"type\":\"carpet\"}],\"choropleth\":[{\"colorbar\":{\"outlinewidth\":0,\"ticks\":\"\"},\"type\":\"choropleth\"}],\"contourcarpet\":[{\"colorbar\":{\"outlinewidth\":0,\"ticks\":\"\"},\"type\":\"contourcarpet\"}],\"contour\":[{\"colorbar\":{\"outlinewidth\":0,\"ticks\":\"\"},\"colorscale\":[[0.0,\"#0d0887\"],[0.1111111111111111,\"#46039f\"],[0.2222222222222222,\"#7201a8\"],[0.3333333333333333,\"#9c179e\"],[0.4444444444444444,\"#bd3786\"],[0.5555555555555556,\"#d8576b\"],[0.6666666666666666,\"#ed7953\"],[0.7777777777777778,\"#fb9f3a\"],[0.8888888888888888,\"#fdca26\"],[1.0,\"#f0f921\"]],\"type\":\"contour\"}],\"heatmapgl\":[{\"colorbar\":{\"outlinewidth\":0,\"ticks\":\"\"},\"colorscale\":[[0.0,\"#0d0887\"],[0.1111111111111111,\"#46039f\"],[0.2222222222222222,\"#7201a8\"],[0.3333333333333333,\"#9c179e\"],[0.4444444444444444,\"#bd3786\"],[0.5555555555555556,\"#d8576b\"],[0.6666666666666666,\"#ed7953\"],[0.7777777777777778,\"#fb9f3a\"],[0.8888888888888888,\"#fdca26\"],[1.0,\"#f0f921\"]],\"type\":\"heatmapgl\"}],\"heatmap\":[{\"colorbar\":{\"outlinewidth\":0,\"ticks\":\"\"},\"colorscale\":[[0.0,\"#0d0887\"],[0.1111111111111111,\"#46039f\"],[0.2222222222222222,\"#7201a8\"],[0.3333333333333333,\"#9c179e\"],[0.4444444444444444,\"#bd3786\"],[0.5555555555555556,\"#d8576b\"],[0.6666666666666666,\"#ed7953\"],[0.7777777777777778,\"#fb9f3a\"],[0.8888888888888888,\"#fdca26\"],[1.0,\"#f0f921\"]],\"type\":\"heatmap\"}],\"histogram2dcontour\":[{\"colorbar\":{\"outlinewidth\":0,\"ticks\":\"\"},\"colorscale\":[[0.0,\"#0d0887\"],[0.1111111111111111,\"#46039f\"],[0.2222222222222222,\"#7201a8\"],[0.3333333333333333,\"#9c179e\"],[0.4444444444444444,\"#bd3786\"],[0.5555555555555556,\"#d8576b\"],[0.6666666666666666,\"#ed7953\"],[0.7777777777777778,\"#fb9f3a\"],[0.8888888888888888,\"#fdca26\"],[1.0,\"#f0f921\"]],\"type\":\"histogram2dcontour\"}],\"histogram2d\":[{\"colorbar\":{\"outlinewidth\":0,\"ticks\":\"\"},\"colorscale\":[[0.0,\"#0d0887\"],[0.1111111111111111,\"#46039f\"],[0.2222222222222222,\"#7201a8\"],[0.3333333333333333,\"#9c179e\"],[0.4444444444444444,\"#bd3786\"],[0.5555555555555556,\"#d8576b\"],[0.6666666666666666,\"#ed7953\"],[0.7777777777777778,\"#fb9f3a\"],[0.8888888888888888,\"#fdca26\"],[1.0,\"#f0f921\"]],\"type\":\"histogram2d\"}],\"histogram\":[{\"marker\":{\"pattern\":{\"fillmode\":\"overlay\",\"size\":10,\"solidity\":0.2}},\"type\":\"histogram\"}],\"mesh3d\":[{\"colorbar\":{\"outlinewidth\":0,\"ticks\":\"\"},\"type\":\"mesh3d\"}],\"parcoords\":[{\"line\":{\"colorbar\":{\"outlinewidth\":0,\"ticks\":\"\"}},\"type\":\"parcoords\"}],\"pie\":[{\"automargin\":true,\"type\":\"pie\"}],\"scatter3d\":[{\"line\":{\"colorbar\":{\"outlinewidth\":0,\"ticks\":\"\"}},\"marker\":{\"colorbar\":{\"outlinewidth\":0,\"ticks\":\"\"}},\"type\":\"scatter3d\"}],\"scattercarpet\":[{\"marker\":{\"colorbar\":{\"outlinewidth\":0,\"ticks\":\"\"}},\"type\":\"scattercarpet\"}],\"scattergeo\":[{\"marker\":{\"colorbar\":{\"outlinewidth\":0,\"ticks\":\"\"}},\"type\":\"scattergeo\"}],\"scattergl\":[{\"marker\":{\"colorbar\":{\"outlinewidth\":0,\"ticks\":\"\"}},\"type\":\"scattergl\"}],\"scattermapbox\":[{\"marker\":{\"colorbar\":{\"outlinewidth\":0,\"ticks\":\"\"}},\"type\":\"scattermapbox\"}],\"scatterpolargl\":[{\"marker\":{\"colorbar\":{\"outlinewidth\":0,\"ticks\":\"\"}},\"type\":\"scatterpolargl\"}],\"scatterpolar\":[{\"marker\":{\"colorbar\":{\"outlinewidth\":0,\"ticks\":\"\"}},\"type\":\"scatterpolar\"}],\"scatter\":[{\"fillpattern\":{\"fillmode\":\"overlay\",\"size\":10,\"solidity\":0.2},\"type\":\"scatter\"}],\"scatterternary\":[{\"marker\":{\"colorbar\":{\"outlinewidth\":0,\"ticks\":\"\"}},\"type\":\"scatterternary\"}],\"surface\":[{\"colorbar\":{\"outlinewidth\":0,\"ticks\":\"\"},\"colorscale\":[[0.0,\"#0d0887\"],[0.1111111111111111,\"#46039f\"],[0.2222222222222222,\"#7201a8\"],[0.3333333333333333,\"#9c179e\"],[0.4444444444444444,\"#bd3786\"],[0.5555555555555556,\"#d8576b\"],[0.6666666666666666,\"#ed7953\"],[0.7777777777777778,\"#fb9f3a\"],[0.8888888888888888,\"#fdca26\"],[1.0,\"#f0f921\"]],\"type\":\"surface\"}],\"table\":[{\"cells\":{\"fill\":{\"color\":\"#EBF0F8\"},\"line\":{\"color\":\"white\"}},\"header\":{\"fill\":{\"color\":\"#C8D4E3\"},\"line\":{\"color\":\"white\"}},\"type\":\"table\"}]},\"layout\":{\"annotationdefaults\":{\"arrowcolor\":\"#2a3f5f\",\"arrowhead\":0,\"arrowwidth\":1},\"autotypenumbers\":\"strict\",\"coloraxis\":{\"colorbar\":{\"outlinewidth\":0,\"ticks\":\"\"}},\"colorscale\":{\"diverging\":[[0,\"#8e0152\"],[0.1,\"#c51b7d\"],[0.2,\"#de77ae\"],[0.3,\"#f1b6da\"],[0.4,\"#fde0ef\"],[0.5,\"#f7f7f7\"],[0.6,\"#e6f5d0\"],[0.7,\"#b8e186\"],[0.8,\"#7fbc41\"],[0.9,\"#4d9221\"],[1,\"#276419\"]],\"sequential\":[[0.0,\"#0d0887\"],[0.1111111111111111,\"#46039f\"],[0.2222222222222222,\"#7201a8\"],[0.3333333333333333,\"#9c179e\"],[0.4444444444444444,\"#bd3786\"],[0.5555555555555556,\"#d8576b\"],[0.6666666666666666,\"#ed7953\"],[0.7777777777777778,\"#fb9f3a\"],[0.8888888888888888,\"#fdca26\"],[1.0,\"#f0f921\"]],\"sequentialminus\":[[0.0,\"#0d0887\"],[0.1111111111111111,\"#46039f\"],[0.2222222222222222,\"#7201a8\"],[0.3333333333333333,\"#9c179e\"],[0.4444444444444444,\"#bd3786\"],[0.5555555555555556,\"#d8576b\"],[0.6666666666666666,\"#ed7953\"],[0.7777777777777778,\"#fb9f3a\"],[0.8888888888888888,\"#fdca26\"],[1.0,\"#f0f921\"]]},\"colorway\":[\"#636efa\",\"#EF553B\",\"#00cc96\",\"#ab63fa\",\"#FFA15A\",\"#19d3f3\",\"#FF6692\",\"#B6E880\",\"#FF97FF\",\"#FECB52\"],\"font\":{\"color\":\"#2a3f5f\"},\"geo\":{\"bgcolor\":\"white\",\"lakecolor\":\"white\",\"landcolor\":\"#E5ECF6\",\"showlakes\":true,\"showland\":true,\"subunitcolor\":\"white\"},\"hoverlabel\":{\"align\":\"left\"},\"hovermode\":\"closest\",\"mapbox\":{\"style\":\"light\"},\"paper_bgcolor\":\"white\",\"plot_bgcolor\":\"#E5ECF6\",\"polar\":{\"angularaxis\":{\"gridcolor\":\"white\",\"linecolor\":\"white\",\"ticks\":\"\"},\"bgcolor\":\"#E5ECF6\",\"radialaxis\":{\"gridcolor\":\"white\",\"linecolor\":\"white\",\"ticks\":\"\"}},\"scene\":{\"xaxis\":{\"backgroundcolor\":\"#E5ECF6\",\"gridcolor\":\"white\",\"gridwidth\":2,\"linecolor\":\"white\",\"showbackground\":true,\"ticks\":\"\",\"zerolinecolor\":\"white\"},\"yaxis\":{\"backgroundcolor\":\"#E5ECF6\",\"gridcolor\":\"white\",\"gridwidth\":2,\"linecolor\":\"white\",\"showbackground\":true,\"ticks\":\"\",\"zerolinecolor\":\"white\"},\"zaxis\":{\"backgroundcolor\":\"#E5ECF6\",\"gridcolor\":\"white\",\"gridwidth\":2,\"linecolor\":\"white\",\"showbackground\":true,\"ticks\":\"\",\"zerolinecolor\":\"white\"}},\"shapedefaults\":{\"line\":{\"color\":\"#2a3f5f\"}},\"ternary\":{\"aaxis\":{\"gridcolor\":\"white\",\"linecolor\":\"white\",\"ticks\":\"\"},\"baxis\":{\"gridcolor\":\"white\",\"linecolor\":\"white\",\"ticks\":\"\"},\"bgcolor\":\"#E5ECF6\",\"caxis\":{\"gridcolor\":\"white\",\"linecolor\":\"white\",\"ticks\":\"\"}},\"title\":{\"x\":0.05},\"xaxis\":{\"automargin\":true,\"gridcolor\":\"white\",\"linecolor\":\"white\",\"ticks\":\"\",\"title\":{\"standoff\":15},\"zerolinecolor\":\"white\",\"zerolinewidth\":2},\"yaxis\":{\"automargin\":true,\"gridcolor\":\"white\",\"linecolor\":\"white\",\"ticks\":\"\",\"title\":{\"standoff\":15},\"zerolinecolor\":\"white\",\"zerolinewidth\":2}}},\"title\":{\"font\":{\"color\":\"#4D5663\"},\"text\":\"Stroke Ages\"},\"xaxis\":{\"gridcolor\":\"#E1E5ED\",\"showgrid\":true,\"tickfont\":{\"color\":\"#4D5663\"},\"title\":{\"font\":{\"color\":\"#4D5663\"},\"text\":\"Ages\"},\"zerolinecolor\":\"#E1E5ED\"},\"yaxis\":{\"gridcolor\":\"#E1E5ED\",\"showgrid\":true,\"tickfont\":{\"color\":\"#4D5663\"},\"title\":{\"font\":{\"color\":\"#4D5663\"},\"text\":\"Count\"},\"zerolinecolor\":\"#E1E5ED\"}},                        {\"showLink\": true, \"linkText\": \"Export to plot.ly\", \"plotlyServerURL\": \"https://plot.ly\", \"responsive\": true}                    ).then(function(){\n",
       "                            \n",
       "var gd = document.getElementById('4431e60c-6c59-4066-bab0-9cc9e90fe086');\n",
       "var x = new MutationObserver(function (mutations, observer) {{\n",
       "        var display = window.getComputedStyle(gd).display;\n",
       "        if (!display || display === 'none') {{\n",
       "            console.log([gd, 'removed!']);\n",
       "            Plotly.purge(gd);\n",
       "            observer.disconnect();\n",
       "        }}\n",
       "}});\n",
       "\n",
       "// Listen for the removal of the full notebook cells\n",
       "var notebookContainer = gd.closest('#notebook-container');\n",
       "if (notebookContainer) {{\n",
       "    x.observe(notebookContainer, {childList: true});\n",
       "}}\n",
       "\n",
       "// Listen for the clearing of the current output cell\n",
       "var outputEl = gd.closest('.output');\n",
       "if (outputEl) {{\n",
       "    x.observe(outputEl, {childList: true});\n",
       "}}\n",
       "\n",
       "                        })                };                });            </script>        </div>"
      ]
     },
     "metadata": {},
     "output_type": "display_data"
    }
   ],
   "source": [
    "stroke = df.loc[df['stroke']== 1].reset_index()\n",
    "\n",
    "stroke[\"male_age\"]=stroke[stroke[\"gender\"]==\"Male\"][\"age\"]\n",
    "stroke[\"female_age\"]=stroke[stroke[\"gender\"]==\"Female\"][\"age\"]\n",
    "stroke[[\"male_age\",\"female_age\"]].iplot(kind=\"histogram\", bins=20, theme=\"white\", title=\"Stroke Ages\",\n",
    "         xTitle='Ages', yTitle='Count')"
   ]
  },
  {
   "cell_type": "markdown",
   "id": "77441d5c",
   "metadata": {
    "papermill": {
     "duration": 0.019719,
     "end_time": "2022-08-02T13:36:27.571846",
     "exception": false,
     "start_time": "2022-08-02T13:36:27.552127",
     "status": "completed"
    },
    "tags": []
   },
   "source": [
    "**This part of graphcode forked from**\n",
    "*https://www.kaggle.com/code/reihanenamdari/brain-stroke-prediction-decisiontree/notebook*"
   ]
  },
  {
   "cell_type": "markdown",
   "id": "ac4540cb",
   "metadata": {
    "papermill": {
     "duration": 0.019012,
     "end_time": "2022-08-02T13:36:27.610246",
     "exception": false,
     "start_time": "2022-08-02T13:36:27.591234",
     "status": "completed"
    },
    "tags": []
   },
   "source": [
    "# Data preprocessing"
   ]
  },
  {
   "cell_type": "code",
   "execution_count": 14,
   "id": "ad34c9bf",
   "metadata": {
    "execution": {
     "iopub.execute_input": "2022-08-02T13:36:27.651422Z",
     "iopub.status.busy": "2022-08-02T13:36:27.650303Z",
     "iopub.status.idle": "2022-08-02T13:36:27.674653Z",
     "shell.execute_reply": "2022-08-02T13:36:27.673479Z"
    },
    "papermill": {
     "duration": 0.047491,
     "end_time": "2022-08-02T13:36:27.677086",
     "exception": false,
     "start_time": "2022-08-02T13:36:27.629595",
     "status": "completed"
    },
    "tags": []
   },
   "outputs": [
    {
     "data": {
      "text/html": [
       "<div>\n",
       "<style scoped>\n",
       "    .dataframe tbody tr th:only-of-type {\n",
       "        vertical-align: middle;\n",
       "    }\n",
       "\n",
       "    .dataframe tbody tr th {\n",
       "        vertical-align: top;\n",
       "    }\n",
       "\n",
       "    .dataframe thead th {\n",
       "        text-align: right;\n",
       "    }\n",
       "</style>\n",
       "<table border=\"1\" class=\"dataframe\">\n",
       "  <thead>\n",
       "    <tr style=\"text-align: right;\">\n",
       "      <th></th>\n",
       "      <th>gender</th>\n",
       "      <th>age</th>\n",
       "      <th>hypertension</th>\n",
       "      <th>heart_disease</th>\n",
       "      <th>ever_married</th>\n",
       "      <th>work_type</th>\n",
       "      <th>Residence_type</th>\n",
       "      <th>avg_glucose_level</th>\n",
       "      <th>bmi</th>\n",
       "      <th>smoking_status</th>\n",
       "      <th>stroke</th>\n",
       "    </tr>\n",
       "  </thead>\n",
       "  <tbody>\n",
       "    <tr>\n",
       "      <th>0</th>\n",
       "      <td>Male</td>\n",
       "      <td>67.0</td>\n",
       "      <td>0</td>\n",
       "      <td>1</td>\n",
       "      <td>Yes</td>\n",
       "      <td>Private</td>\n",
       "      <td>Urban</td>\n",
       "      <td>228.69</td>\n",
       "      <td>36.6</td>\n",
       "      <td>formerly smoked</td>\n",
       "      <td>1</td>\n",
       "    </tr>\n",
       "    <tr>\n",
       "      <th>1</th>\n",
       "      <td>Male</td>\n",
       "      <td>80.0</td>\n",
       "      <td>0</td>\n",
       "      <td>1</td>\n",
       "      <td>Yes</td>\n",
       "      <td>Private</td>\n",
       "      <td>Rural</td>\n",
       "      <td>105.92</td>\n",
       "      <td>32.5</td>\n",
       "      <td>never smoked</td>\n",
       "      <td>1</td>\n",
       "    </tr>\n",
       "    <tr>\n",
       "      <th>2</th>\n",
       "      <td>Female</td>\n",
       "      <td>49.0</td>\n",
       "      <td>0</td>\n",
       "      <td>0</td>\n",
       "      <td>Yes</td>\n",
       "      <td>Private</td>\n",
       "      <td>Urban</td>\n",
       "      <td>171.23</td>\n",
       "      <td>34.4</td>\n",
       "      <td>smokes</td>\n",
       "      <td>1</td>\n",
       "    </tr>\n",
       "    <tr>\n",
       "      <th>3</th>\n",
       "      <td>Female</td>\n",
       "      <td>79.0</td>\n",
       "      <td>1</td>\n",
       "      <td>0</td>\n",
       "      <td>Yes</td>\n",
       "      <td>Self-employed</td>\n",
       "      <td>Rural</td>\n",
       "      <td>174.12</td>\n",
       "      <td>24.0</td>\n",
       "      <td>never smoked</td>\n",
       "      <td>1</td>\n",
       "    </tr>\n",
       "    <tr>\n",
       "      <th>4</th>\n",
       "      <td>Male</td>\n",
       "      <td>81.0</td>\n",
       "      <td>0</td>\n",
       "      <td>0</td>\n",
       "      <td>Yes</td>\n",
       "      <td>Private</td>\n",
       "      <td>Urban</td>\n",
       "      <td>186.21</td>\n",
       "      <td>29.0</td>\n",
       "      <td>formerly smoked</td>\n",
       "      <td>1</td>\n",
       "    </tr>\n",
       "    <tr>\n",
       "      <th>...</th>\n",
       "      <td>...</td>\n",
       "      <td>...</td>\n",
       "      <td>...</td>\n",
       "      <td>...</td>\n",
       "      <td>...</td>\n",
       "      <td>...</td>\n",
       "      <td>...</td>\n",
       "      <td>...</td>\n",
       "      <td>...</td>\n",
       "      <td>...</td>\n",
       "      <td>...</td>\n",
       "    </tr>\n",
       "    <tr>\n",
       "      <th>4976</th>\n",
       "      <td>Male</td>\n",
       "      <td>41.0</td>\n",
       "      <td>0</td>\n",
       "      <td>0</td>\n",
       "      <td>No</td>\n",
       "      <td>Private</td>\n",
       "      <td>Rural</td>\n",
       "      <td>70.15</td>\n",
       "      <td>29.8</td>\n",
       "      <td>formerly smoked</td>\n",
       "      <td>0</td>\n",
       "    </tr>\n",
       "    <tr>\n",
       "      <th>4977</th>\n",
       "      <td>Male</td>\n",
       "      <td>40.0</td>\n",
       "      <td>0</td>\n",
       "      <td>0</td>\n",
       "      <td>Yes</td>\n",
       "      <td>Private</td>\n",
       "      <td>Urban</td>\n",
       "      <td>191.15</td>\n",
       "      <td>31.1</td>\n",
       "      <td>smokes</td>\n",
       "      <td>0</td>\n",
       "    </tr>\n",
       "    <tr>\n",
       "      <th>4978</th>\n",
       "      <td>Female</td>\n",
       "      <td>45.0</td>\n",
       "      <td>1</td>\n",
       "      <td>0</td>\n",
       "      <td>Yes</td>\n",
       "      <td>Govt_job</td>\n",
       "      <td>Rural</td>\n",
       "      <td>95.02</td>\n",
       "      <td>31.8</td>\n",
       "      <td>smokes</td>\n",
       "      <td>0</td>\n",
       "    </tr>\n",
       "    <tr>\n",
       "      <th>4979</th>\n",
       "      <td>Male</td>\n",
       "      <td>40.0</td>\n",
       "      <td>0</td>\n",
       "      <td>0</td>\n",
       "      <td>Yes</td>\n",
       "      <td>Private</td>\n",
       "      <td>Rural</td>\n",
       "      <td>83.94</td>\n",
       "      <td>30.0</td>\n",
       "      <td>smokes</td>\n",
       "      <td>0</td>\n",
       "    </tr>\n",
       "    <tr>\n",
       "      <th>4980</th>\n",
       "      <td>Female</td>\n",
       "      <td>80.0</td>\n",
       "      <td>1</td>\n",
       "      <td>0</td>\n",
       "      <td>Yes</td>\n",
       "      <td>Private</td>\n",
       "      <td>Urban</td>\n",
       "      <td>83.75</td>\n",
       "      <td>29.1</td>\n",
       "      <td>never smoked</td>\n",
       "      <td>0</td>\n",
       "    </tr>\n",
       "  </tbody>\n",
       "</table>\n",
       "<p>4981 rows × 11 columns</p>\n",
       "</div>"
      ],
      "text/plain": [
       "      gender   age  hypertension  heart_disease ever_married      work_type  \\\n",
       "0       Male  67.0             0              1          Yes        Private   \n",
       "1       Male  80.0             0              1          Yes        Private   \n",
       "2     Female  49.0             0              0          Yes        Private   \n",
       "3     Female  79.0             1              0          Yes  Self-employed   \n",
       "4       Male  81.0             0              0          Yes        Private   \n",
       "...      ...   ...           ...            ...          ...            ...   \n",
       "4976    Male  41.0             0              0           No        Private   \n",
       "4977    Male  40.0             0              0          Yes        Private   \n",
       "4978  Female  45.0             1              0          Yes       Govt_job   \n",
       "4979    Male  40.0             0              0          Yes        Private   \n",
       "4980  Female  80.0             1              0          Yes        Private   \n",
       "\n",
       "     Residence_type  avg_glucose_level   bmi   smoking_status  stroke  \n",
       "0             Urban             228.69  36.6  formerly smoked       1  \n",
       "1             Rural             105.92  32.5     never smoked       1  \n",
       "2             Urban             171.23  34.4           smokes       1  \n",
       "3             Rural             174.12  24.0     never smoked       1  \n",
       "4             Urban             186.21  29.0  formerly smoked       1  \n",
       "...             ...                ...   ...              ...     ...  \n",
       "4976          Rural              70.15  29.8  formerly smoked       0  \n",
       "4977          Urban             191.15  31.1           smokes       0  \n",
       "4978          Rural              95.02  31.8           smokes       0  \n",
       "4979          Rural              83.94  30.0           smokes       0  \n",
       "4980          Urban              83.75  29.1     never smoked       0  \n",
       "\n",
       "[4981 rows x 11 columns]"
      ]
     },
     "execution_count": 14,
     "metadata": {},
     "output_type": "execute_result"
    }
   ],
   "source": [
    "df"
   ]
  },
  {
   "cell_type": "code",
   "execution_count": 15,
   "id": "72f0372b",
   "metadata": {
    "execution": {
     "iopub.execute_input": "2022-08-02T13:36:27.719803Z",
     "iopub.status.busy": "2022-08-02T13:36:27.718963Z",
     "iopub.status.idle": "2022-08-02T13:36:27.882770Z",
     "shell.execute_reply": "2022-08-02T13:36:27.881626Z"
    },
    "papermill": {
     "duration": 0.188621,
     "end_time": "2022-08-02T13:36:27.885666",
     "exception": false,
     "start_time": "2022-08-02T13:36:27.697045",
     "status": "completed"
    },
    "tags": []
   },
   "outputs": [
    {
     "data": {
      "text/html": [
       "<div>\n",
       "<style scoped>\n",
       "    .dataframe tbody tr th:only-of-type {\n",
       "        vertical-align: middle;\n",
       "    }\n",
       "\n",
       "    .dataframe tbody tr th {\n",
       "        vertical-align: top;\n",
       "    }\n",
       "\n",
       "    .dataframe thead th {\n",
       "        text-align: right;\n",
       "    }\n",
       "</style>\n",
       "<table border=\"1\" class=\"dataframe\">\n",
       "  <thead>\n",
       "    <tr style=\"text-align: right;\">\n",
       "      <th></th>\n",
       "      <th>gender</th>\n",
       "      <th>age</th>\n",
       "      <th>hypertension</th>\n",
       "      <th>heart_disease</th>\n",
       "      <th>ever_married</th>\n",
       "      <th>work_type</th>\n",
       "      <th>Residence_type</th>\n",
       "      <th>avg_glucose_level</th>\n",
       "      <th>bmi</th>\n",
       "      <th>smoking_status</th>\n",
       "      <th>stroke</th>\n",
       "    </tr>\n",
       "  </thead>\n",
       "  <tbody>\n",
       "    <tr>\n",
       "      <th>0</th>\n",
       "      <td>1</td>\n",
       "      <td>67.0</td>\n",
       "      <td>0</td>\n",
       "      <td>1</td>\n",
       "      <td>1</td>\n",
       "      <td>1</td>\n",
       "      <td>1</td>\n",
       "      <td>228.69</td>\n",
       "      <td>36.6</td>\n",
       "      <td>1</td>\n",
       "      <td>1</td>\n",
       "    </tr>\n",
       "    <tr>\n",
       "      <th>1</th>\n",
       "      <td>1</td>\n",
       "      <td>80.0</td>\n",
       "      <td>0</td>\n",
       "      <td>1</td>\n",
       "      <td>1</td>\n",
       "      <td>1</td>\n",
       "      <td>0</td>\n",
       "      <td>105.92</td>\n",
       "      <td>32.5</td>\n",
       "      <td>2</td>\n",
       "      <td>1</td>\n",
       "    </tr>\n",
       "    <tr>\n",
       "      <th>2</th>\n",
       "      <td>0</td>\n",
       "      <td>49.0</td>\n",
       "      <td>0</td>\n",
       "      <td>0</td>\n",
       "      <td>1</td>\n",
       "      <td>1</td>\n",
       "      <td>1</td>\n",
       "      <td>171.23</td>\n",
       "      <td>34.4</td>\n",
       "      <td>3</td>\n",
       "      <td>1</td>\n",
       "    </tr>\n",
       "    <tr>\n",
       "      <th>3</th>\n",
       "      <td>0</td>\n",
       "      <td>79.0</td>\n",
       "      <td>1</td>\n",
       "      <td>0</td>\n",
       "      <td>1</td>\n",
       "      <td>2</td>\n",
       "      <td>0</td>\n",
       "      <td>174.12</td>\n",
       "      <td>24.0</td>\n",
       "      <td>2</td>\n",
       "      <td>1</td>\n",
       "    </tr>\n",
       "    <tr>\n",
       "      <th>4</th>\n",
       "      <td>1</td>\n",
       "      <td>81.0</td>\n",
       "      <td>0</td>\n",
       "      <td>0</td>\n",
       "      <td>1</td>\n",
       "      <td>1</td>\n",
       "      <td>1</td>\n",
       "      <td>186.21</td>\n",
       "      <td>29.0</td>\n",
       "      <td>1</td>\n",
       "      <td>1</td>\n",
       "    </tr>\n",
       "    <tr>\n",
       "      <th>...</th>\n",
       "      <td>...</td>\n",
       "      <td>...</td>\n",
       "      <td>...</td>\n",
       "      <td>...</td>\n",
       "      <td>...</td>\n",
       "      <td>...</td>\n",
       "      <td>...</td>\n",
       "      <td>...</td>\n",
       "      <td>...</td>\n",
       "      <td>...</td>\n",
       "      <td>...</td>\n",
       "    </tr>\n",
       "    <tr>\n",
       "      <th>4976</th>\n",
       "      <td>1</td>\n",
       "      <td>41.0</td>\n",
       "      <td>0</td>\n",
       "      <td>0</td>\n",
       "      <td>0</td>\n",
       "      <td>1</td>\n",
       "      <td>0</td>\n",
       "      <td>70.15</td>\n",
       "      <td>29.8</td>\n",
       "      <td>1</td>\n",
       "      <td>0</td>\n",
       "    </tr>\n",
       "    <tr>\n",
       "      <th>4977</th>\n",
       "      <td>1</td>\n",
       "      <td>40.0</td>\n",
       "      <td>0</td>\n",
       "      <td>0</td>\n",
       "      <td>1</td>\n",
       "      <td>1</td>\n",
       "      <td>1</td>\n",
       "      <td>191.15</td>\n",
       "      <td>31.1</td>\n",
       "      <td>3</td>\n",
       "      <td>0</td>\n",
       "    </tr>\n",
       "    <tr>\n",
       "      <th>4978</th>\n",
       "      <td>0</td>\n",
       "      <td>45.0</td>\n",
       "      <td>1</td>\n",
       "      <td>0</td>\n",
       "      <td>1</td>\n",
       "      <td>0</td>\n",
       "      <td>0</td>\n",
       "      <td>95.02</td>\n",
       "      <td>31.8</td>\n",
       "      <td>3</td>\n",
       "      <td>0</td>\n",
       "    </tr>\n",
       "    <tr>\n",
       "      <th>4979</th>\n",
       "      <td>1</td>\n",
       "      <td>40.0</td>\n",
       "      <td>0</td>\n",
       "      <td>0</td>\n",
       "      <td>1</td>\n",
       "      <td>1</td>\n",
       "      <td>0</td>\n",
       "      <td>83.94</td>\n",
       "      <td>30.0</td>\n",
       "      <td>3</td>\n",
       "      <td>0</td>\n",
       "    </tr>\n",
       "    <tr>\n",
       "      <th>4980</th>\n",
       "      <td>0</td>\n",
       "      <td>80.0</td>\n",
       "      <td>1</td>\n",
       "      <td>0</td>\n",
       "      <td>1</td>\n",
       "      <td>1</td>\n",
       "      <td>1</td>\n",
       "      <td>83.75</td>\n",
       "      <td>29.1</td>\n",
       "      <td>2</td>\n",
       "      <td>0</td>\n",
       "    </tr>\n",
       "  </tbody>\n",
       "</table>\n",
       "<p>4981 rows × 11 columns</p>\n",
       "</div>"
      ],
      "text/plain": [
       "      gender   age  hypertension  heart_disease  ever_married  work_type  \\\n",
       "0          1  67.0             0              1             1          1   \n",
       "1          1  80.0             0              1             1          1   \n",
       "2          0  49.0             0              0             1          1   \n",
       "3          0  79.0             1              0             1          2   \n",
       "4          1  81.0             0              0             1          1   \n",
       "...      ...   ...           ...            ...           ...        ...   \n",
       "4976       1  41.0             0              0             0          1   \n",
       "4977       1  40.0             0              0             1          1   \n",
       "4978       0  45.0             1              0             1          0   \n",
       "4979       1  40.0             0              0             1          1   \n",
       "4980       0  80.0             1              0             1          1   \n",
       "\n",
       "      Residence_type  avg_glucose_level   bmi  smoking_status  stroke  \n",
       "0                  1             228.69  36.6               1       1  \n",
       "1                  0             105.92  32.5               2       1  \n",
       "2                  1             171.23  34.4               3       1  \n",
       "3                  0             174.12  24.0               2       1  \n",
       "4                  1             186.21  29.0               1       1  \n",
       "...              ...                ...   ...             ...     ...  \n",
       "4976               0              70.15  29.8               1       0  \n",
       "4977               1             191.15  31.1               3       0  \n",
       "4978               0              95.02  31.8               3       0  \n",
       "4979               0              83.94  30.0               3       0  \n",
       "4980               1              83.75  29.1               2       0  \n",
       "\n",
       "[4981 rows x 11 columns]"
      ]
     },
     "execution_count": 15,
     "metadata": {},
     "output_type": "execute_result"
    }
   ],
   "source": [
    "# Import label encoder\n",
    "from sklearn import preprocessing\n",
    "\n",
    "# label_encoder object knows how to understand word labels.\n",
    "label_encoder = preprocessing.LabelEncoder()\n",
    "# Encode labels in column 'species'.\n",
    "df['ever_married']= label_encoder.fit_transform(df['ever_married'])\n",
    "df['work_type']= label_encoder.fit_transform(df['work_type'])\n",
    "df['Residence_type']=label_encoder.fit_transform(df['Residence_type'])\n",
    "df['smoking_status']=label_encoder.fit_transform(df['smoking_status'])\n",
    "df['gender']=label_encoder.fit_transform(df['gender'])\n",
    "\n",
    "df"
   ]
  },
  {
   "cell_type": "code",
   "execution_count": null,
   "id": "19ca637c",
   "metadata": {
    "papermill": {
     "duration": 0.020398,
     "end_time": "2022-08-02T13:36:27.927615",
     "exception": false,
     "start_time": "2022-08-02T13:36:27.907217",
     "status": "completed"
    },
    "tags": []
   },
   "outputs": [],
   "source": []
  },
  {
   "cell_type": "markdown",
   "id": "1b3f7fd5",
   "metadata": {
    "papermill": {
     "duration": 0.020176,
     "end_time": "2022-08-02T13:36:27.968399",
     "exception": false,
     "start_time": "2022-08-02T13:36:27.948223",
     "status": "completed"
    },
    "tags": []
   },
   "source": [
    "# Correlation Map"
   ]
  },
  {
   "cell_type": "code",
   "execution_count": 16,
   "id": "876ea927",
   "metadata": {
    "execution": {
     "iopub.execute_input": "2022-08-02T13:36:28.012054Z",
     "iopub.status.busy": "2022-08-02T13:36:28.010967Z",
     "iopub.status.idle": "2022-08-02T13:36:28.362043Z",
     "shell.execute_reply": "2022-08-02T13:36:28.360912Z"
    },
    "papermill": {
     "duration": 0.375613,
     "end_time": "2022-08-02T13:36:28.364436",
     "exception": false,
     "start_time": "2022-08-02T13:36:27.988823",
     "status": "completed"
    },
    "tags": []
   },
   "outputs": [
    {
     "name": "stdout",
     "output_type": "stream",
     "text": [
      "                     gender       age  hypertension  heart_disease  \\\n",
      "gender             1.000000 -0.026538      0.021485       0.086476   \n",
      "age               -0.026538  1.000000      0.278120       0.264852   \n",
      "hypertension       0.021485  0.278120      1.000000       0.111974   \n",
      "heart_disease      0.086476  0.264852      0.111974       1.000000   \n",
      "ever_married      -0.028971  0.677137      0.164534       0.114765   \n",
      "work_type          0.065784 -0.415935     -0.061618      -0.036943   \n",
      "Residence_type    -0.004301  0.017155     -0.004755       0.002125   \n",
      "avg_glucose_level  0.055796  0.236763      0.170028       0.166847   \n",
      "bmi               -0.012093  0.373703      0.158762       0.060926   \n",
      "smoking_status    -0.062666  0.265623      0.110045       0.048093   \n",
      "stroke             0.008870  0.246478      0.131965       0.134610   \n",
      "\n",
      "                   ever_married  work_type  Residence_type  avg_glucose_level  \\\n",
      "gender                -0.028971   0.065784       -0.004301           0.055796   \n",
      "age                    0.677137  -0.415935        0.017155           0.236763   \n",
      "hypertension           0.164534  -0.061618       -0.004755           0.170028   \n",
      "heart_disease          0.114765  -0.036943        0.002125           0.166847   \n",
      "ever_married           1.000000  -0.406439        0.008191           0.150724   \n",
      "work_type             -0.406439   1.000000       -0.003524          -0.059658   \n",
      "Residence_type         0.008191  -0.003524        1.000000           0.001346   \n",
      "avg_glucose_level      0.150724  -0.059658        0.001346           1.000000   \n",
      "bmi                    0.371690  -0.382418        0.013185           0.186348   \n",
      "smoking_status         0.262384  -0.356738        0.010209           0.064089   \n",
      "stroke                 0.108398  -0.041835        0.016494           0.133227   \n",
      "\n",
      "                        bmi  smoking_status    stroke  \n",
      "gender            -0.012093       -0.062666  0.008870  \n",
      "age                0.373703        0.265623  0.246478  \n",
      "hypertension       0.158762        0.110045  0.131965  \n",
      "heart_disease      0.060926        0.048093  0.134610  \n",
      "ever_married       0.371690        0.262384  0.108398  \n",
      "work_type         -0.382418       -0.356738 -0.041835  \n",
      "Residence_type     0.013185        0.010209  0.016494  \n",
      "avg_glucose_level  0.186348        0.064089  0.133227  \n",
      "bmi                1.000000        0.243111  0.056926  \n",
      "smoking_status     0.243111        1.000000  0.027463  \n",
      "stroke             0.056926        0.027463  1.000000  \n"
     ]
    },
    {
     "data": {
      "image/png": "[encoded data removed]",
      "text/plain": [
       "<Figure size 432x288 with 2 Axes>"
      ]
     },
     "metadata": {},
     "output_type": "display_data"
    }
   ],
   "source": [
    "import matplotlib.pyplot as mp\n",
    "import seaborn as sns\n",
    "data = df\n",
    "\n",
    "# prints data that will be plotted\n",
    "# columns shown here are selected by corr() since\n",
    "# they are ideal for the plot\n",
    "print(data.corr())\n",
    "sns.set_theme(style=\"whitegrid\")\n",
    "# plotting correlation heatmap\n",
    "dataplot = sns.heatmap(data.corr(), cmap=\"YlGnBu\", annot=False)\n",
    "\n",
    "# displaying heatmap\n",
    "mp.show()"
   ]
  },
  {
   "cell_type": "markdown",
   "id": "2f01e461",
   "metadata": {
    "papermill": {
     "duration": 0.020811,
     "end_time": "2022-08-02T13:36:28.406564",
     "exception": false,
     "start_time": "2022-08-02T13:36:28.385753",
     "status": "completed"
    },
    "tags": []
   },
   "source": [
    "**ML Modeling**"
   ]
  },
  {
   "cell_type": "markdown",
   "id": "1b0e11b1",
   "metadata": {
    "papermill": {
     "duration": 0.020947,
     "end_time": "2022-08-02T13:36:28.448660",
     "exception": false,
     "start_time": "2022-08-02T13:36:28.427713",
     "status": "completed"
    },
    "tags": []
   },
   "source": []
  },
  {
   "cell_type": "code",
   "execution_count": 17,
   "id": "8acbcab7",
   "metadata": {
    "execution": {
     "iopub.execute_input": "2022-08-02T13:36:28.493206Z",
     "iopub.status.busy": "2022-08-02T13:36:28.492514Z",
     "iopub.status.idle": "2022-08-02T13:36:28.499796Z",
     "shell.execute_reply": "2022-08-02T13:36:28.498642Z"
    },
    "papermill": {
     "duration": 0.032132,
     "end_time": "2022-08-02T13:36:28.502142",
     "exception": false,
     "start_time": "2022-08-02T13:36:28.470010",
     "status": "completed"
    },
    "tags": []
   },
   "outputs": [],
   "source": [
    "X = df[\"stroke\"]\n",
    "y = df.drop(['stroke'], axis=1)"
   ]
  },
  {
   "cell_type": "code",
   "execution_count": 18,
   "id": "803f6316",
   "metadata": {
    "execution": {
     "iopub.execute_input": "2022-08-02T13:36:28.547346Z",
     "iopub.status.busy": "2022-08-02T13:36:28.546930Z",
     "iopub.status.idle": "2022-08-02T13:36:28.556237Z",
     "shell.execute_reply": "2022-08-02T13:36:28.555185Z"
    },
    "papermill": {
     "duration": 0.034826,
     "end_time": "2022-08-02T13:36:28.558495",
     "exception": false,
     "start_time": "2022-08-02T13:36:28.523669",
     "status": "completed"
    },
    "tags": []
   },
   "outputs": [
    {
     "data": {
      "text/plain": [
       "gender               0\n",
       "age                  0\n",
       "hypertension         0\n",
       "heart_disease        0\n",
       "ever_married         0\n",
       "work_type            0\n",
       "Residence_type       0\n",
       "avg_glucose_level    0\n",
       "bmi                  0\n",
       "smoking_status       0\n",
       "stroke               0\n",
       "dtype: int64"
      ]
     },
     "execution_count": 18,
     "metadata": {},
     "output_type": "execute_result"
    }
   ],
   "source": [
    "df.isnull().sum()"
   ]
  },
  {
   "cell_type": "code",
   "execution_count": 19,
   "id": "5627d727",
   "metadata": {
    "execution": {
     "iopub.execute_input": "2022-08-02T13:36:28.603260Z",
     "iopub.status.busy": "2022-08-02T13:36:28.602811Z",
     "iopub.status.idle": "2022-08-02T13:36:28.668022Z",
     "shell.execute_reply": "2022-08-02T13:36:28.666874Z"
    },
    "papermill": {
     "duration": 0.090817,
     "end_time": "2022-08-02T13:36:28.670797",
     "exception": false,
     "start_time": "2022-08-02T13:36:28.579980",
     "status": "completed"
    },
    "tags": []
   },
   "outputs": [],
   "source": [
    "from sklearn.model_selection import train_test_split,GridSearchCV\n",
    "\n",
    "x_train, x_test, y_train, y_test = train_test_split(y, X, test_size=0.30, shuffle=True, random_state=0)"
   ]
  },
  {
   "cell_type": "code",
   "execution_count": 20,
   "id": "aa411754",
   "metadata": {
    "execution": {
     "iopub.execute_input": "2022-08-02T13:36:28.717120Z",
     "iopub.status.busy": "2022-08-02T13:36:28.716692Z",
     "iopub.status.idle": "2022-08-02T13:36:29.182386Z",
     "shell.execute_reply": "2022-08-02T13:36:29.180961Z"
    },
    "papermill": {
     "duration": 0.492027,
     "end_time": "2022-08-02T13:36:29.185218",
     "exception": false,
     "start_time": "2022-08-02T13:36:28.693191",
     "status": "completed"
    },
    "tags": []
   },
   "outputs": [],
   "source": [
    "from sklearn.ensemble import RandomForestClassifier\n",
    "clf = RandomForestClassifier(max_depth=2, random_state=0)\n",
    "clf.fit(x_train, y_train)\n",
    "y_pred=clf.predict(x_test)"
   ]
  },
  {
   "cell_type": "code",
   "execution_count": null,
   "id": "deed2827",
   "metadata": {
    "papermill": {
     "duration": 0.021121,
     "end_time": "2022-08-02T13:36:29.227646",
     "exception": false,
     "start_time": "2022-08-02T13:36:29.206525",
     "status": "completed"
    },
    "tags": []
   },
   "outputs": [],
   "source": []
  },
  {
   "cell_type": "code",
   "execution_count": 21,
   "id": "59d00cc3",
   "metadata": {
    "execution": {
     "iopub.execute_input": "2022-08-02T13:36:29.272105Z",
     "iopub.status.busy": "2022-08-02T13:36:29.271676Z",
     "iopub.status.idle": "2022-08-02T13:36:29.284435Z",
     "shell.execute_reply": "2022-08-02T13:36:29.283141Z"
    },
    "papermill": {
     "duration": 0.038619,
     "end_time": "2022-08-02T13:36:29.287574",
     "exception": false,
     "start_time": "2022-08-02T13:36:29.248955",
     "status": "completed"
    },
    "tags": []
   },
   "outputs": [
    {
     "name": "stdout",
     "output_type": "stream",
     "text": [
      "              precision    recall  f1-score   support\n",
      "\n",
      "           0       0.96      1.00      0.98      1430\n",
      "           1       0.00      0.00      0.00        65\n",
      "\n",
      "    accuracy                           0.96      1495\n",
      "   macro avg       0.48      0.50      0.49      1495\n",
      "weighted avg       0.91      0.96      0.94      1495\n",
      "\n"
     ]
    },
    {
     "name": "stderr",
     "output_type": "stream",
     "text": [
      "/opt/conda/lib/python3.7/site-packages/sklearn/metrics/_classification.py:1318: UndefinedMetricWarning:\n",
      "\n",
      "Precision and F-score are ill-defined and being set to 0.0 in labels with no predicted samples. Use `zero_division` parameter to control this behavior.\n",
      "\n",
      "/opt/conda/lib/python3.7/site-packages/sklearn/metrics/_classification.py:1318: UndefinedMetricWarning:\n",
      "\n",
      "Precision and F-score are ill-defined and being set to 0.0 in labels with no predicted samples. Use `zero_division` parameter to control this behavior.\n",
      "\n",
      "/opt/conda/lib/python3.7/site-packages/sklearn/metrics/_classification.py:1318: UndefinedMetricWarning:\n",
      "\n",
      "Precision and F-score are ill-defined and being set to 0.0 in labels with no predicted samples. Use `zero_division` parameter to control this behavior.\n",
      "\n"
     ]
    }
   ],
   "source": [
    "from sklearn.metrics import confusion_matrix, classification_report\n",
    "print(classification_report(y_test, y_pred))"
   ]
  },
  {
   "cell_type": "code",
   "execution_count": 22,
   "id": "a24734cf",
   "metadata": {
    "execution": {
     "iopub.execute_input": "2022-08-02T13:36:29.332427Z",
     "iopub.status.busy": "2022-08-02T13:36:29.332033Z",
     "iopub.status.idle": "2022-08-02T13:36:29.393422Z",
     "shell.execute_reply": "2022-08-02T13:36:29.392063Z"
    },
    "papermill": {
     "duration": 0.088992,
     "end_time": "2022-08-02T13:36:29.398111",
     "exception": false,
     "start_time": "2022-08-02T13:36:29.309119",
     "status": "completed"
    },
    "tags": []
   },
   "outputs": [
    {
     "name": "stdout",
     "output_type": "stream",
     "text": [
      "0.9475043029259896\n",
      "0.9565217391304348\n"
     ]
    }
   ],
   "source": [
    "print(clf.score(x_train,y_train))\n",
    "print(clf.score(x_test,y_test))"
   ]
  },
  {
   "cell_type": "code",
   "execution_count": 23,
   "id": "8758e6ef",
   "metadata": {
    "execution": {
     "iopub.execute_input": "2022-08-02T13:36:29.446647Z",
     "iopub.status.busy": "2022-08-02T13:36:29.445495Z",
     "iopub.status.idle": "2022-08-02T13:36:29.453643Z",
     "shell.execute_reply": "2022-08-02T13:36:29.452886Z"
    },
    "papermill": {
     "duration": 0.033871,
     "end_time": "2022-08-02T13:36:29.455672",
     "exception": false,
     "start_time": "2022-08-02T13:36:29.421801",
     "status": "completed"
    },
    "tags": []
   },
   "outputs": [
    {
     "data": {
      "text/plain": [
       "<bound method BaseEstimator.get_params of RandomForestClassifier(max_depth=2, random_state=0)>"
      ]
     },
     "execution_count": 23,
     "metadata": {},
     "output_type": "execute_result"
    }
   ],
   "source": [
    "clf.get_params"
   ]
  },
  {
   "cell_type": "code",
   "execution_count": 24,
   "id": "57c87183",
   "metadata": {
    "execution": {
     "iopub.execute_input": "2022-08-02T13:36:29.501364Z",
     "iopub.status.busy": "2022-08-02T13:36:29.500634Z",
     "iopub.status.idle": "2022-08-02T13:36:29.505820Z",
     "shell.execute_reply": "2022-08-02T13:36:29.505060Z"
    },
    "papermill": {
     "duration": 0.030287,
     "end_time": "2022-08-02T13:36:29.507822",
     "exception": false,
     "start_time": "2022-08-02T13:36:29.477535",
     "status": "completed"
    },
    "tags": []
   },
   "outputs": [],
   "source": [
    "params={\n",
    "    \"n_estimators\":[90,100,115,130],\n",
    "    \"criterion\":['gini','entropy'],\n",
    "    \"max_depth\":range(2,20,1),\n",
    "    \"min_samples_leaf\":range(1,10,1),\n",
    "    \"min_samples_split\":range(2,10,1),\n",
    "    \"max_features\":['auto','log2']\n",
    "}"
   ]
  },
  {
   "cell_type": "code",
   "execution_count": 25,
   "id": "936e0ec1",
   "metadata": {
    "execution": {
     "iopub.execute_input": "2022-08-02T13:36:29.553185Z",
     "iopub.status.busy": "2022-08-02T13:36:29.552468Z",
     "iopub.status.idle": "2022-08-02T13:36:29.556992Z",
     "shell.execute_reply": "2022-08-02T13:36:29.556198Z"
    },
    "papermill": {
     "duration": 0.029483,
     "end_time": "2022-08-02T13:36:29.559025",
     "exception": false,
     "start_time": "2022-08-02T13:36:29.529542",
     "status": "completed"
    },
    "tags": []
   },
   "outputs": [],
   "source": [
    "grid_svc = GridSearchCV(estimator=clf, param_grid=params,cv=2,n_jobs=-1,verbose=3)"
   ]
  },
  {
   "cell_type": "code",
   "execution_count": 26,
   "id": "954c042a",
   "metadata": {
    "execution": {
     "iopub.execute_input": "2022-08-02T13:36:29.604321Z",
     "iopub.status.busy": "2022-08-02T13:36:29.603616Z",
     "iopub.status.idle": "2022-08-02T13:36:29.607563Z",
     "shell.execute_reply": "2022-08-02T13:36:29.606644Z"
    },
    "papermill": {
     "duration": 0.028961,
     "end_time": "2022-08-02T13:36:29.609603",
     "exception": false,
     "start_time": "2022-08-02T13:36:29.580642",
     "status": "completed"
    },
    "tags": []
   },
   "outputs": [],
   "source": [
    "#grid_svc.fit(x_train, y_train)\n",
    "#grid_svc.best_params_"
   ]
  },
  {
   "cell_type": "code",
   "execution_count": 27,
   "id": "713d11ca",
   "metadata": {
    "execution": {
     "iopub.execute_input": "2022-08-02T13:36:29.655013Z",
     "iopub.status.busy": "2022-08-02T13:36:29.654310Z",
     "iopub.status.idle": "2022-08-02T13:36:29.661248Z",
     "shell.execute_reply": "2022-08-02T13:36:29.660441Z"
    },
    "papermill": {
     "duration": 0.032233,
     "end_time": "2022-08-02T13:36:29.663431",
     "exception": false,
     "start_time": "2022-08-02T13:36:29.631198",
     "status": "completed"
    },
    "tags": []
   },
   "outputs": [],
   "source": [
    "from sklearn.naive_bayes import GaussianNB\n",
    "from sklearn.tree import DecisionTreeClassifier\n",
    "from sklearn.linear_model import LogisticRegression\n",
    "from sklearn.metrics import accuracy_score"
   ]
  },
  {
   "cell_type": "code",
   "execution_count": 28,
   "id": "615b8a3b",
   "metadata": {
    "execution": {
     "iopub.execute_input": "2022-08-02T13:36:29.708802Z",
     "iopub.status.busy": "2022-08-02T13:36:29.708089Z",
     "iopub.status.idle": "2022-08-02T13:36:29.712769Z",
     "shell.execute_reply": "2022-08-02T13:36:29.712015Z"
    },
    "papermill": {
     "duration": 0.029681,
     "end_time": "2022-08-02T13:36:29.714795",
     "exception": false,
     "start_time": "2022-08-02T13:36:29.685114",
     "status": "completed"
    },
    "tags": []
   },
   "outputs": [],
   "source": [
    "classifiers=[['Naive Bayes :', GaussianNB()],['LogisticRegression :', LogisticRegression(max_iter = 1000)], ['DecisionTree :',DecisionTreeClassifier()]]"
   ]
  },
  {
   "cell_type": "code",
   "execution_count": 29,
   "id": "c727d16e",
   "metadata": {
    "execution": {
     "iopub.execute_input": "2022-08-02T13:36:29.759938Z",
     "iopub.status.busy": "2022-08-02T13:36:29.759501Z",
     "iopub.status.idle": "2022-08-02T13:36:29.959326Z",
     "shell.execute_reply": "2022-08-02T13:36:29.957128Z"
    },
    "papermill": {
     "duration": 0.226764,
     "end_time": "2022-08-02T13:36:29.963358",
     "exception": false,
     "start_time": "2022-08-02T13:36:29.736594",
     "status": "completed"
    },
    "tags": []
   },
   "outputs": [
    {
     "name": "stdout",
     "output_type": "stream",
     "text": [
      "Naive Bayes : 0.8635451505016722\n",
      "LogisticRegression : 0.9565217391304348\n",
      "DecisionTree : 0.9050167224080268\n"
     ]
    }
   ],
   "source": [
    "for name,classifier in classifiers:\n",
    "    classifier = classifier\n",
    "    classifier.fit(x_train, y_train.ravel())\n",
    "    predictions = classifier.predict(x_test)\n",
    "    print(name, accuracy_score(y_test, predictions))"
   ]
  },
  {
   "cell_type": "code",
   "execution_count": 30,
   "id": "3868b167",
   "metadata": {
    "execution": {
     "iopub.execute_input": "2022-08-02T13:36:30.037188Z",
     "iopub.status.busy": "2022-08-02T13:36:30.036436Z",
     "iopub.status.idle": "2022-08-02T13:36:30.241516Z",
     "shell.execute_reply": "2022-08-02T13:36:30.240284Z"
    },
    "papermill": {
     "duration": 0.245902,
     "end_time": "2022-08-02T13:36:30.244555",
     "exception": false,
     "start_time": "2022-08-02T13:36:29.998653",
     "status": "completed"
    },
    "tags": []
   },
   "outputs": [
    {
     "data": {
      "text/plain": [
       "VotingClassifier(estimators=[['Naive Bayes :', GaussianNB()],\n",
       "                             ['LogisticRegression :',\n",
       "                              LogisticRegression(max_iter=1000)],\n",
       "                             ['DecisionTree :', DecisionTreeClassifier()]])"
      ]
     },
     "execution_count": 30,
     "metadata": {},
     "output_type": "execute_result"
    }
   ],
   "source": [
    "from sklearn.ensemble import VotingClassifier\n",
    "clf1 = GaussianNB()\n",
    "clf2 = DecisionTreeClassifier()\n",
    "clf3 = LogisticRegression()\n",
    "\n",
    "\n",
    "    \n",
    "vot_hard = VotingClassifier(estimators= classifiers, voting='hard')\n",
    "vot_hard.fit(x_train, y_train)"
   ]
  },
  {
   "cell_type": "code",
   "execution_count": 31,
   "id": "d577b2a8",
   "metadata": {
    "execution": {
     "iopub.execute_input": "2022-08-02T13:36:30.318879Z",
     "iopub.status.busy": "2022-08-02T13:36:30.317762Z",
     "iopub.status.idle": "2022-08-02T13:36:30.524431Z",
     "shell.execute_reply": "2022-08-02T13:36:30.523158Z"
    },
    "papermill": {
     "duration": 0.24822,
     "end_time": "2022-08-02T13:36:30.528319",
     "exception": false,
     "start_time": "2022-08-02T13:36:30.280099",
     "status": "completed"
    },
    "tags": []
   },
   "outputs": [
    {
     "data": {
      "text/plain": [
       "VotingClassifier(estimators=[['Naive Bayes :', GaussianNB()],\n",
       "                             ['LogisticRegression :',\n",
       "                              LogisticRegression(max_iter=1000)],\n",
       "                             ['DecisionTree :', DecisionTreeClassifier()]],\n",
       "                 voting='soft')"
      ]
     },
     "execution_count": 31,
     "metadata": {},
     "output_type": "execute_result"
    }
   ],
   "source": [
    "vot_soft = VotingClassifier(estimators = classifiers, voting ='soft')\n",
    "vot_soft.fit(x_train, y_train)"
   ]
  },
  {
   "cell_type": "code",
   "execution_count": 32,
   "id": "e0f0d477",
   "metadata": {
    "execution": {
     "iopub.execute_input": "2022-08-02T13:36:30.602932Z",
     "iopub.status.busy": "2022-08-02T13:36:30.601505Z",
     "iopub.status.idle": "2022-08-02T13:36:30.706277Z",
     "shell.execute_reply": "2022-08-02T13:36:30.705000Z"
    },
    "papermill": {
     "duration": 0.14553,
     "end_time": "2022-08-02T13:36:30.709925",
     "exception": false,
     "start_time": "2022-08-02T13:36:30.564395",
     "status": "completed"
    },
    "tags": []
   },
   "outputs": [
    {
     "name": "stdout",
     "output_type": "stream",
     "text": [
      "Training data accuracy: 0.9695926563396443\n",
      "Testing data accuracy 0.9377926421404682\n",
      "Training data accuracy: 0.9718875502008032\n",
      "Testing data accuracy 0.937123745819398\n"
     ]
    }
   ],
   "source": [
    "print(\"Training data accuracy:\", vot_hard.score(x_train, y_train))\n",
    "print(\"Testing data accuracy\", vot_hard.score(x_test, y_test))\n",
    "\n",
    "print(\"Training data accuracy:\", vot_soft.score(x_train, y_train))\n",
    "print(\"Testing data accuracy\", vot_soft.score(x_test, y_test))"
   ]
  },
  {
   "cell_type": "code",
   "execution_count": null,
   "id": "a362b2a8",
   "metadata": {
    "papermill": {
     "duration": 0.035314,
     "end_time": "2022-08-02T13:36:30.781275",
     "exception": false,
     "start_time": "2022-08-02T13:36:30.745961",
     "status": "completed"
    },
    "tags": []
   },
   "outputs": [],
   "source": []
  },
  {
   "cell_type": "markdown",
   "id": "f90d74db",
   "metadata": {
    "papermill": {
     "duration": 0.021663,
     "end_time": "2022-08-02T13:36:30.838763",
     "exception": false,
     "start_time": "2022-08-02T13:36:30.817100",
     "status": "completed"
    },
    "tags": []
   },
   "source": [
    "**Training accuracy and Testing accuracy are pretty close to each other here,So there is no chance of overfitting here,Compared to standlone machine learning models,The ensemble approaches are slightly low,All the models giving some good accuracy here,Especically random forest and logistic regression**"
   ]
  },
  {
   "cell_type": "markdown",
   "id": "75034166",
   "metadata": {
    "papermill": {
     "duration": 0.021561,
     "end_time": "2022-08-02T13:36:30.882378",
     "exception": false,
     "start_time": "2022-08-02T13:36:30.860817",
     "status": "completed"
    },
    "tags": []
   },
   "source": []
  },
  {
   "cell_type": "code",
   "execution_count": null,
   "id": "5bac4b17",
   "metadata": {
    "papermill": {
     "duration": 0.022189,
     "end_time": "2022-08-02T13:36:30.926907",
     "exception": false,
     "start_time": "2022-08-02T13:36:30.904718",
     "status": "completed"
    },
    "tags": []
   },
   "outputs": [],
   "source": []
  },
  {
   "cell_type": "code",
   "execution_count": null,
   "id": "6f61ca74",
   "metadata": {
    "papermill": {
     "duration": 0.021689,
     "end_time": "2022-08-02T13:36:30.970517",
     "exception": false,
     "start_time": "2022-08-02T13:36:30.948828",
     "status": "completed"
    },
    "tags": []
   },
   "outputs": [],
   "source": []
  }
 ],
 "metadata": {
  "kernelspec": {
   "display_name": "Python 3",
   "language": "python",
   "name": "python3"
  },
  "language_info": {
   "codemirror_mode": {
    "name": "ipython",
    "version": 3
   },
   "file_extension": ".py",
   "mimetype": "text/x-python",
   "name": "python",
   "nbconvert_exporter": "python",
   "pygments_lexer": "ipython3",
   "version": "3.7.12"
  },
  "papermill": {
   "default_parameters": {},
   "duration": 20.535313,
   "end_time": "2022-08-02T13:36:33.781931",
   "environment_variables": {},
   "exception": null,
   "input_path": "__notebook__.ipynb",
   "output_path": "__notebook__.ipynb",
   "parameters": {},
   "start_time": "2022-08-02T13:36:13.246618",
   "version": "2.3.4"
  }
 },
 "nbformat": 4,
 "nbformat_minor": 5
}
